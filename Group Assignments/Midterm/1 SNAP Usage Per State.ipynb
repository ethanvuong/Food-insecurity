{
 "cells": [
  {
   "cell_type": "markdown",
   "metadata": {},
   "source": [
    "# Investigating SNAP usage levels across states\n",
    "**Authored by Stephanie Chang**\n",
    "\n",
    "To start off our project, we wanted examine SNAP usage in each state."
   ]
  },
  {
   "cell_type": "markdown",
   "metadata": {},
   "source": [
    "## Snap Usage Data\n",
    "I got my data on the Income and Benefits of SNAP receivers per state from the US Census Bureau COVID-19 Site at https://covid19.census.gov/datasets/56f051341b4a40aa9aa5e2c33f85547a_2/data?geometry=109.827%2C-16.868%2C-109.196%2C72.108. "
   ]
  },
  {
   "cell_type": "markdown",
   "metadata": {},
   "source": [
    "### Import Data\n",
    "I will import the libraries that I need and the geojson data file."
   ]
  },
  {
   "cell_type": "code",
   "execution_count": 4,
   "metadata": {},
   "outputs": [],
   "source": [
    "import geopandas as gpd\n",
    "import plotly.graph_objects as go\n",
    "import plotly.express as px\n",
    "import pandas as pd"
   ]
  },
  {
   "cell_type": "code",
   "execution_count": 6,
   "metadata": {},
   "outputs": [],
   "source": [
    "snap = gpd.read_file('dataexploration/Income_and_Benefits_-_States.geojson')"
   ]
  },
  {
   "cell_type": "markdown",
   "metadata": {},
   "source": [
    "### Cleaning up data\n",
    "Because I don't need all the data and I want to rename my columns, I take the steps below."
   ]
  },
  {
   "cell_type": "code",
   "execution_count": 7,
   "metadata": {},
   "outputs": [
    {
     "data": {
      "text/plain": [
       "['OBJECTID',\n",
       " 'GEO_ID',\n",
       " 'GEO_NAME',\n",
       " 'FIPS_CODE',\n",
       " 'B11001_001E',\n",
       " 'B11001_001M',\n",
       " 'DP03_0052E',\n",
       " 'DP03_0052M',\n",
       " 'DP03_0053E',\n",
       " 'DP03_0053M',\n",
       " 'DP03_0054E',\n",
       " 'DP03_0054M',\n",
       " 'DP03_0055E',\n",
       " 'DP03_0055M',\n",
       " 'DP03_0056E',\n",
       " 'DP03_0056M',\n",
       " 'DP03_0057E',\n",
       " 'DP03_0057M',\n",
       " 'DP03_0058E',\n",
       " 'DP03_0058M',\n",
       " 'DP03_0070E',\n",
       " 'DP03_0070M',\n",
       " 'DP03_0072E',\n",
       " 'DP03_0072M',\n",
       " 'DP03_0074E',\n",
       " 'DP03_0074M',\n",
       " 'HOUSELT75KP_CALC',\n",
       " 'INCLT75E_CALC',\n",
       " 'INCLT75M_CALC',\n",
       " 'DP03_0074PE',\n",
       " 'DP03_0074PM',\n",
       " 'geometry']"
      ]
     },
     "execution_count": 7,
     "metadata": {},
     "output_type": "execute_result"
    }
   ],
   "source": [
    "list(snap)"
   ]
  },
  {
   "cell_type": "markdown",
   "metadata": {},
   "source": [
    "Then, I choose the columns I want to keep."
   ]
  },
  {
   "cell_type": "code",
   "execution_count": 9,
   "metadata": {},
   "outputs": [],
   "source": [
    "columns_to_keep = ['GEO_ID','GEO_NAME','B11001_001E','DP03_0074E','DP03_0074PE','geometry']"
   ]
  },
  {
   "cell_type": "code",
   "execution_count": 10,
   "metadata": {},
   "outputs": [],
   "source": [
    "snap = snap[columns_to_keep]"
   ]
  },
  {
   "cell_type": "markdown",
   "metadata": {},
   "source": [
    "I check to see if I have all the columns I wanted to keep."
   ]
  },
  {
   "cell_type": "code",
   "execution_count": 11,
   "metadata": {},
   "outputs": [
    {
     "data": {
      "text/html": [
       "<div>\n",
       "<style scoped>\n",
       "    .dataframe tbody tr th:only-of-type {\n",
       "        vertical-align: middle;\n",
       "    }\n",
       "\n",
       "    .dataframe tbody tr th {\n",
       "        vertical-align: top;\n",
       "    }\n",
       "\n",
       "    .dataframe thead th {\n",
       "        text-align: right;\n",
       "    }\n",
       "</style>\n",
       "<table border=\"1\" class=\"dataframe\">\n",
       "  <thead>\n",
       "    <tr style=\"text-align: right;\">\n",
       "      <th></th>\n",
       "      <th>GEO_ID</th>\n",
       "      <th>GEO_NAME</th>\n",
       "      <th>B11001_001E</th>\n",
       "      <th>DP03_0074E</th>\n",
       "      <th>DP03_0074PE</th>\n",
       "      <th>geometry</th>\n",
       "    </tr>\n",
       "  </thead>\n",
       "  <tbody>\n",
       "    <tr>\n",
       "      <th>0</th>\n",
       "      <td>0400000US01</td>\n",
       "      <td>Alabama</td>\n",
       "      <td>1860269</td>\n",
       "      <td>269603</td>\n",
       "      <td>14.5</td>\n",
       "      <td>MULTIPOLYGON (((-88.08682 30.25987, -88.07486 ...</td>\n",
       "    </tr>\n",
       "    <tr>\n",
       "      <th>1</th>\n",
       "      <td>0400000US02</td>\n",
       "      <td>Alaska</td>\n",
       "      <td>253462</td>\n",
       "      <td>26868</td>\n",
       "      <td>10.6</td>\n",
       "      <td>MULTIPOLYGON (((-179.09763 51.22613, -179.1268...</td>\n",
       "    </tr>\n",
       "    <tr>\n",
       "      <th>2</th>\n",
       "      <td>0400000US04</td>\n",
       "      <td>Arizona</td>\n",
       "      <td>2524300</td>\n",
       "      <td>298375</td>\n",
       "      <td>11.8</td>\n",
       "      <td>POLYGON ((-109.04518 36.99898, -109.04518 36.9...</td>\n",
       "    </tr>\n",
       "    <tr>\n",
       "      <th>3</th>\n",
       "      <td>0400000US05</td>\n",
       "      <td>Arkansas</td>\n",
       "      <td>1152175</td>\n",
       "      <td>146798</td>\n",
       "      <td>12.7</td>\n",
       "      <td>POLYGON ((-89.73310 36.00061, -89.73305 36.000...</td>\n",
       "    </tr>\n",
       "    <tr>\n",
       "      <th>4</th>\n",
       "      <td>0400000US06</td>\n",
       "      <td>California</td>\n",
       "      <td>12965435</td>\n",
       "      <td>1184714</td>\n",
       "      <td>9.1</td>\n",
       "      <td>MULTIPOLYGON (((-118.56454 33.01864, -118.5591...</td>\n",
       "    </tr>\n",
       "  </tbody>\n",
       "</table>\n",
       "</div>"
      ],
      "text/plain": [
       "        GEO_ID    GEO_NAME  B11001_001E  DP03_0074E  DP03_0074PE  \\\n",
       "0  0400000US01     Alabama      1860269      269603         14.5   \n",
       "1  0400000US02      Alaska       253462       26868         10.6   \n",
       "2  0400000US04     Arizona      2524300      298375         11.8   \n",
       "3  0400000US05    Arkansas      1152175      146798         12.7   \n",
       "4  0400000US06  California     12965435     1184714          9.1   \n",
       "\n",
       "                                            geometry  \n",
       "0  MULTIPOLYGON (((-88.08682 30.25987, -88.07486 ...  \n",
       "1  MULTIPOLYGON (((-179.09763 51.22613, -179.1268...  \n",
       "2  POLYGON ((-109.04518 36.99898, -109.04518 36.9...  \n",
       "3  POLYGON ((-89.73310 36.00061, -89.73305 36.000...  \n",
       "4  MULTIPOLYGON (((-118.56454 33.01864, -118.5591...  "
      ]
     },
     "execution_count": 11,
     "metadata": {},
     "output_type": "execute_result"
    }
   ],
   "source": [
    "snap.head()"
   ]
  },
  {
   "cell_type": "markdown",
   "metadata": {},
   "source": [
    "I list all my columns again in order to rename my columns."
   ]
  },
  {
   "cell_type": "code",
   "execution_count": 12,
   "metadata": {},
   "outputs": [
    {
     "data": {
      "text/plain": [
       "['GEO_ID', 'GEO_NAME', 'B11001_001E', 'DP03_0074E', 'DP03_0074PE', 'geometry']"
      ]
     },
     "execution_count": 12,
     "metadata": {},
     "output_type": "execute_result"
    }
   ],
   "source": [
    "list(snap)"
   ]
  },
  {
   "cell_type": "code",
   "execution_count": 13,
   "metadata": {},
   "outputs": [],
   "source": [
    "snap.columns = ['GeoID',\n",
    " 'Name',\n",
    " 'Total Households',\n",
    " 'Total Households with SNAP',\n",
    " 'Percentage of Households with SNAP',\n",
    " 'geometry']"
   ]
  },
  {
   "cell_type": "markdown",
   "metadata": {},
   "source": [
    "I noticed that this dataset included Puerto Rico, which is not considered a state. I found that in other datasets, it wasn't part of the data, so I wanted to remove it from this dataset.\n",
    "\n",
    "I first show all of my rows to figure out which row Puerto Rico is."
   ]
  },
  {
   "cell_type": "code",
   "execution_count": 14,
   "metadata": {},
   "outputs": [
    {
     "data": {
      "text/html": [
       "<div>\n",
       "<style scoped>\n",
       "    .dataframe tbody tr th:only-of-type {\n",
       "        vertical-align: middle;\n",
       "    }\n",
       "\n",
       "    .dataframe tbody tr th {\n",
       "        vertical-align: top;\n",
       "    }\n",
       "\n",
       "    .dataframe thead th {\n",
       "        text-align: right;\n",
       "    }\n",
       "</style>\n",
       "<table border=\"1\" class=\"dataframe\">\n",
       "  <thead>\n",
       "    <tr style=\"text-align: right;\">\n",
       "      <th></th>\n",
       "      <th>GeoID</th>\n",
       "      <th>Name</th>\n",
       "      <th>Total Households</th>\n",
       "      <th>Total Households with SNAP</th>\n",
       "      <th>Percentage of Households with SNAP</th>\n",
       "      <th>geometry</th>\n",
       "    </tr>\n",
       "  </thead>\n",
       "  <tbody>\n",
       "    <tr>\n",
       "      <th>0</th>\n",
       "      <td>0400000US01</td>\n",
       "      <td>Alabama</td>\n",
       "      <td>1860269</td>\n",
       "      <td>269603</td>\n",
       "      <td>14.5</td>\n",
       "      <td>MULTIPOLYGON (((-88.08682 30.25987, -88.07486 ...</td>\n",
       "    </tr>\n",
       "    <tr>\n",
       "      <th>1</th>\n",
       "      <td>0400000US02</td>\n",
       "      <td>Alaska</td>\n",
       "      <td>253462</td>\n",
       "      <td>26868</td>\n",
       "      <td>10.6</td>\n",
       "      <td>MULTIPOLYGON (((-179.09763 51.22613, -179.1268...</td>\n",
       "    </tr>\n",
       "    <tr>\n",
       "      <th>2</th>\n",
       "      <td>0400000US04</td>\n",
       "      <td>Arizona</td>\n",
       "      <td>2524300</td>\n",
       "      <td>298375</td>\n",
       "      <td>11.8</td>\n",
       "      <td>POLYGON ((-109.04518 36.99898, -109.04518 36.9...</td>\n",
       "    </tr>\n",
       "    <tr>\n",
       "      <th>3</th>\n",
       "      <td>0400000US05</td>\n",
       "      <td>Arkansas</td>\n",
       "      <td>1152175</td>\n",
       "      <td>146798</td>\n",
       "      <td>12.7</td>\n",
       "      <td>POLYGON ((-89.73310 36.00061, -89.73305 36.000...</td>\n",
       "    </tr>\n",
       "    <tr>\n",
       "      <th>4</th>\n",
       "      <td>0400000US06</td>\n",
       "      <td>California</td>\n",
       "      <td>12965435</td>\n",
       "      <td>1184714</td>\n",
       "      <td>9.1</td>\n",
       "      <td>MULTIPOLYGON (((-118.56454 33.01864, -118.5591...</td>\n",
       "    </tr>\n",
       "    <tr>\n",
       "      <th>5</th>\n",
       "      <td>0400000US08</td>\n",
       "      <td>Colorado</td>\n",
       "      <td>2113387</td>\n",
       "      <td>168243</td>\n",
       "      <td>8.0</td>\n",
       "      <td>POLYGON ((-104.05326 41.00141, -104.05154 41.0...</td>\n",
       "    </tr>\n",
       "    <tr>\n",
       "      <th>6</th>\n",
       "      <td>0400000US09</td>\n",
       "      <td>Connecticut</td>\n",
       "      <td>1367374</td>\n",
       "      <td>167022</td>\n",
       "      <td>12.2</td>\n",
       "      <td>MULTIPOLYGON (((-73.38574 41.05926, -73.42217 ...</td>\n",
       "    </tr>\n",
       "    <tr>\n",
       "      <th>7</th>\n",
       "      <td>0400000US10</td>\n",
       "      <td>Delaware</td>\n",
       "      <td>357765</td>\n",
       "      <td>41634</td>\n",
       "      <td>11.6</td>\n",
       "      <td>MULTIPOLYGON (((-75.54261 39.49658, -75.54269 ...</td>\n",
       "    </tr>\n",
       "    <tr>\n",
       "      <th>8</th>\n",
       "      <td>0400000US11</td>\n",
       "      <td>District of Columbia</td>\n",
       "      <td>281322</td>\n",
       "      <td>39043</td>\n",
       "      <td>13.9</td>\n",
       "      <td>POLYGON ((-77.03901 38.79165, -77.03899 38.792...</td>\n",
       "    </tr>\n",
       "    <tr>\n",
       "      <th>9</th>\n",
       "      <td>0400000US12</td>\n",
       "      <td>Florida</td>\n",
       "      <td>7621760</td>\n",
       "      <td>1080766</td>\n",
       "      <td>14.2</td>\n",
       "      <td>MULTIPOLYGON (((-82.10512 24.59115, -82.10215 ...</td>\n",
       "    </tr>\n",
       "    <tr>\n",
       "      <th>10</th>\n",
       "      <td>0400000US13</td>\n",
       "      <td>Georgia</td>\n",
       "      <td>3709488</td>\n",
       "      <td>506957</td>\n",
       "      <td>13.7</td>\n",
       "      <td>POLYGON ((-83.10862 35.00067, -83.10832 35.000...</td>\n",
       "    </tr>\n",
       "    <tr>\n",
       "      <th>11</th>\n",
       "      <td>0400000US15</td>\n",
       "      <td>Hawaii</td>\n",
       "      <td>456782</td>\n",
       "      <td>50897</td>\n",
       "      <td>11.1</td>\n",
       "      <td>MULTIPOLYGON (((-155.59805 20.12454, -155.5909...</td>\n",
       "    </tr>\n",
       "    <tr>\n",
       "      <th>12</th>\n",
       "      <td>0400000US16</td>\n",
       "      <td>Idaho</td>\n",
       "      <td>618331</td>\n",
       "      <td>65505</td>\n",
       "      <td>10.6</td>\n",
       "      <td>POLYGON ((-116.04910 49.00085, -116.04910 49.0...</td>\n",
       "    </tr>\n",
       "    <tr>\n",
       "      <th>13</th>\n",
       "      <td>0400000US17</td>\n",
       "      <td>Illinois</td>\n",
       "      <td>4830038</td>\n",
       "      <td>631076</td>\n",
       "      <td>13.1</td>\n",
       "      <td>POLYGON ((-87.80048 42.49193, -87.79808 42.471...</td>\n",
       "    </tr>\n",
       "    <tr>\n",
       "      <th>14</th>\n",
       "      <td>0400000US18</td>\n",
       "      <td>Indiana</td>\n",
       "      <td>2553818</td>\n",
       "      <td>272666</td>\n",
       "      <td>10.7</td>\n",
       "      <td>POLYGON ((-84.80598 41.69613, -84.80598 41.696...</td>\n",
       "    </tr>\n",
       "    <tr>\n",
       "      <th>15</th>\n",
       "      <td>0400000US19</td>\n",
       "      <td>Iowa</td>\n",
       "      <td>1256855</td>\n",
       "      <td>134125</td>\n",
       "      <td>10.7</td>\n",
       "      <td>POLYGON ((-91.21771 43.50056, -91.21775 43.500...</td>\n",
       "    </tr>\n",
       "    <tr>\n",
       "      <th>16</th>\n",
       "      <td>0400000US20</td>\n",
       "      <td>Kansas</td>\n",
       "      <td>1124549</td>\n",
       "      <td>90685</td>\n",
       "      <td>8.1</td>\n",
       "      <td>POLYGON ((-95.30830 40.00001, -95.30827 39.999...</td>\n",
       "    </tr>\n",
       "    <tr>\n",
       "      <th>17</th>\n",
       "      <td>0400000US21</td>\n",
       "      <td>Kentucky</td>\n",
       "      <td>1728681</td>\n",
       "      <td>262173</td>\n",
       "      <td>15.2</td>\n",
       "      <td>MULTIPOLYGON (((-89.48530 36.49770, -89.48543 ...</td>\n",
       "    </tr>\n",
       "    <tr>\n",
       "      <th>18</th>\n",
       "      <td>0400000US22</td>\n",
       "      <td>Louisiana</td>\n",
       "      <td>1736021</td>\n",
       "      <td>271143</td>\n",
       "      <td>15.6</td>\n",
       "      <td>MULTIPOLYGON (((-90.91668 29.04964, -90.91746 ...</td>\n",
       "    </tr>\n",
       "    <tr>\n",
       "      <th>19</th>\n",
       "      <td>0400000US23</td>\n",
       "      <td>Maine</td>\n",
       "      <td>556955</td>\n",
       "      <td>79538</td>\n",
       "      <td>14.3</td>\n",
       "      <td>MULTIPOLYGON (((-70.60135 42.98109, -70.60783 ...</td>\n",
       "    </tr>\n",
       "    <tr>\n",
       "      <th>20</th>\n",
       "      <td>0400000US24</td>\n",
       "      <td>Maryland</td>\n",
       "      <td>2192518</td>\n",
       "      <td>232090</td>\n",
       "      <td>10.6</td>\n",
       "      <td>MULTIPOLYGON (((-76.23673 37.88918, -76.23673 ...</td>\n",
       "    </tr>\n",
       "    <tr>\n",
       "      <th>21</th>\n",
       "      <td>0400000US25</td>\n",
       "      <td>Massachusetts</td>\n",
       "      <td>2601914</td>\n",
       "      <td>313019</td>\n",
       "      <td>12.0</td>\n",
       "      <td>MULTIPOLYGON (((-70.80386 41.25057, -70.81142 ...</td>\n",
       "    </tr>\n",
       "    <tr>\n",
       "      <th>22</th>\n",
       "      <td>0400000US26</td>\n",
       "      <td>Michigan</td>\n",
       "      <td>3909509</td>\n",
       "      <td>551968</td>\n",
       "      <td>14.1</td>\n",
       "      <td>MULTIPOLYGON (((-83.81617 43.66676, -83.82923 ...</td>\n",
       "    </tr>\n",
       "    <tr>\n",
       "      <th>23</th>\n",
       "      <td>0400000US27</td>\n",
       "      <td>Minnesota</td>\n",
       "      <td>2167801</td>\n",
       "      <td>178604</td>\n",
       "      <td>8.2</td>\n",
       "      <td>POLYGON ((-92.01530 46.70648, -92.01584 46.706...</td>\n",
       "    </tr>\n",
       "    <tr>\n",
       "      <th>24</th>\n",
       "      <td>0400000US28</td>\n",
       "      <td>Mississippi</td>\n",
       "      <td>1105576</td>\n",
       "      <td>182088</td>\n",
       "      <td>16.5</td>\n",
       "      <td>MULTIPOLYGON (((-88.46572 30.20255, -88.45345 ...</td>\n",
       "    </tr>\n",
       "    <tr>\n",
       "      <th>25</th>\n",
       "      <td>0400000US29</td>\n",
       "      <td>Missouri</td>\n",
       "      <td>2396271</td>\n",
       "      <td>278848</td>\n",
       "      <td>11.6</td>\n",
       "      <td>POLYGON ((-91.41943 40.37827, -91.41982 40.377...</td>\n",
       "    </tr>\n",
       "    <tr>\n",
       "      <th>26</th>\n",
       "      <td>0400000US30</td>\n",
       "      <td>Montana</td>\n",
       "      <td>423240</td>\n",
       "      <td>41438</td>\n",
       "      <td>9.8</td>\n",
       "      <td>POLYGON ((-104.04870 48.99960, -104.04870 48.9...</td>\n",
       "    </tr>\n",
       "    <tr>\n",
       "      <th>27</th>\n",
       "      <td>0400000US31</td>\n",
       "      <td>Nebraska</td>\n",
       "      <td>754063</td>\n",
       "      <td>65237</td>\n",
       "      <td>8.7</td>\n",
       "      <td>POLYGON ((-96.44549 42.49064, -96.44492 42.490...</td>\n",
       "    </tr>\n",
       "    <tr>\n",
       "      <th>28</th>\n",
       "      <td>0400000US32</td>\n",
       "      <td>Nevada</td>\n",
       "      <td>1075930</td>\n",
       "      <td>130920</td>\n",
       "      <td>12.2</td>\n",
       "      <td>POLYGON ((-114.04149 41.99388, -114.04149 41.9...</td>\n",
       "    </tr>\n",
       "    <tr>\n",
       "      <th>29</th>\n",
       "      <td>0400000US33</td>\n",
       "      <td>New Hampshire</td>\n",
       "      <td>528078</td>\n",
       "      <td>38059</td>\n",
       "      <td>7.2</td>\n",
       "      <td>MULTIPOLYGON (((-70.61216 42.97294, -70.62234 ...</td>\n",
       "    </tr>\n",
       "    <tr>\n",
       "      <th>30</th>\n",
       "      <td>0400000US34</td>\n",
       "      <td>New Jersey</td>\n",
       "      <td>3213362</td>\n",
       "      <td>290079</td>\n",
       "      <td>9.0</td>\n",
       "      <td>MULTIPOLYGON (((-74.04457 40.68859, -74.04440 ...</td>\n",
       "    </tr>\n",
       "    <tr>\n",
       "      <th>31</th>\n",
       "      <td>0400000US35</td>\n",
       "      <td>New Mexico</td>\n",
       "      <td>775651</td>\n",
       "      <td>130965</td>\n",
       "      <td>16.9</td>\n",
       "      <td>POLYGON ((-103.00234 37.00016, -103.00234 37.0...</td>\n",
       "    </tr>\n",
       "    <tr>\n",
       "      <th>32</th>\n",
       "      <td>0400000US36</td>\n",
       "      <td>New York</td>\n",
       "      <td>7316537</td>\n",
       "      <td>1094793</td>\n",
       "      <td>15.0</td>\n",
       "      <td>MULTIPOLYGON (((-74.24656 40.52065, -74.25727 ...</td>\n",
       "    </tr>\n",
       "    <tr>\n",
       "      <th>33</th>\n",
       "      <td>0400000US37</td>\n",
       "      <td>North Carolina</td>\n",
       "      <td>3918597</td>\n",
       "      <td>515577</td>\n",
       "      <td>13.2</td>\n",
       "      <td>MULTIPOLYGON (((-75.50219 35.32002, -75.52592 ...</td>\n",
       "    </tr>\n",
       "    <tr>\n",
       "      <th>34</th>\n",
       "      <td>0400000US38</td>\n",
       "      <td>North Dakota</td>\n",
       "      <td>314903</td>\n",
       "      <td>21741</td>\n",
       "      <td>6.9</td>\n",
       "      <td>POLYGON ((-97.22873 49.00057, -97.22892 49.000...</td>\n",
       "    </tr>\n",
       "    <tr>\n",
       "      <th>35</th>\n",
       "      <td>0400000US39</td>\n",
       "      <td>Ohio</td>\n",
       "      <td>4654075</td>\n",
       "      <td>636663</td>\n",
       "      <td>13.7</td>\n",
       "      <td>MULTIPOLYGON (((-82.70021 41.61220, -82.69113 ...</td>\n",
       "    </tr>\n",
       "    <tr>\n",
       "      <th>36</th>\n",
       "      <td>0400000US40</td>\n",
       "      <td>Oklahoma</td>\n",
       "      <td>1474620</td>\n",
       "      <td>192609</td>\n",
       "      <td>13.1</td>\n",
       "      <td>POLYGON ((-94.61797 36.99891, -94.61799 36.998...</td>\n",
       "    </tr>\n",
       "    <tr>\n",
       "      <th>37</th>\n",
       "      <td>0400000US41</td>\n",
       "      <td>Oregon</td>\n",
       "      <td>1591835</td>\n",
       "      <td>266999</td>\n",
       "      <td>16.8</td>\n",
       "      <td>MULTIPOLYGON (((-123.42764 46.22935, -123.4279...</td>\n",
       "    </tr>\n",
       "    <tr>\n",
       "      <th>38</th>\n",
       "      <td>0400000US42</td>\n",
       "      <td>Pennsylvania</td>\n",
       "      <td>5025132</td>\n",
       "      <td>663466</td>\n",
       "      <td>13.2</td>\n",
       "      <td>POLYGON ((-74.69492 41.35743, -74.69540 41.357...</td>\n",
       "    </tr>\n",
       "    <tr>\n",
       "      <th>39</th>\n",
       "      <td>0400000US44</td>\n",
       "      <td>Rhode Island</td>\n",
       "      <td>410885</td>\n",
       "      <td>65655</td>\n",
       "      <td>16.0</td>\n",
       "      <td>MULTIPOLYGON (((-71.55195 41.15173, -71.59370 ...</td>\n",
       "    </tr>\n",
       "    <tr>\n",
       "      <th>40</th>\n",
       "      <td>0400000US45</td>\n",
       "      <td>South Carolina</td>\n",
       "      <td>1894711</td>\n",
       "      <td>249698</td>\n",
       "      <td>13.2</td>\n",
       "      <td>POLYGON ((-78.54108 33.85112, -78.54109 33.851...</td>\n",
       "    </tr>\n",
       "    <tr>\n",
       "      <th>41</th>\n",
       "      <td>0400000US46</td>\n",
       "      <td>South Dakota</td>\n",
       "      <td>341565</td>\n",
       "      <td>32624</td>\n",
       "      <td>9.6</td>\n",
       "      <td>POLYGON ((-96.56368 45.93525, -96.56368 45.935...</td>\n",
       "    </tr>\n",
       "    <tr>\n",
       "      <th>42</th>\n",
       "      <td>0400000US47</td>\n",
       "      <td>Tennessee</td>\n",
       "      <td>2567061</td>\n",
       "      <td>379325</td>\n",
       "      <td>14.8</td>\n",
       "      <td>POLYGON ((-83.67540 36.60079, -83.67502 36.600...</td>\n",
       "    </tr>\n",
       "    <tr>\n",
       "      <th>43</th>\n",
       "      <td>0400000US48</td>\n",
       "      <td>Texas</td>\n",
       "      <td>9553046</td>\n",
       "      <td>1167725</td>\n",
       "      <td>12.2</td>\n",
       "      <td>MULTIPOLYGON (((-97.62457 25.99397, -97.62441 ...</td>\n",
       "    </tr>\n",
       "    <tr>\n",
       "      <th>44</th>\n",
       "      <td>0400000US49</td>\n",
       "      <td>Utah</td>\n",
       "      <td>957619</td>\n",
       "      <td>69022</td>\n",
       "      <td>7.2</td>\n",
       "      <td>POLYGON ((-109.05004 41.00070, -109.05004 41.0...</td>\n",
       "    </tr>\n",
       "    <tr>\n",
       "      <th>45</th>\n",
       "      <td>0400000US50</td>\n",
       "      <td>Vermont</td>\n",
       "      <td>259589</td>\n",
       "      <td>31101</td>\n",
       "      <td>12.0</td>\n",
       "      <td>POLYGON ((-71.50108 45.01336, -71.50097 45.013...</td>\n",
       "    </tr>\n",
       "    <tr>\n",
       "      <th>46</th>\n",
       "      <td>0400000US51</td>\n",
       "      <td>Virginia</td>\n",
       "      <td>3128415</td>\n",
       "      <td>271719</td>\n",
       "      <td>8.7</td>\n",
       "      <td>MULTIPOLYGON (((-75.98216 37.80623, -75.98730 ...</td>\n",
       "    </tr>\n",
       "    <tr>\n",
       "      <th>47</th>\n",
       "      <td>0400000US53</td>\n",
       "      <td>Washington</td>\n",
       "      <td>2800423</td>\n",
       "      <td>350611</td>\n",
       "      <td>12.5</td>\n",
       "      <td>MULTIPOLYGON (((-122.63533 47.14821, -122.6391...</td>\n",
       "    </tr>\n",
       "    <tr>\n",
       "      <th>48</th>\n",
       "      <td>0400000US54</td>\n",
       "      <td>West Virginia</td>\n",
       "      <td>734676</td>\n",
       "      <td>121943</td>\n",
       "      <td>16.6</td>\n",
       "      <td>POLYGON ((-79.47667 39.72109, -79.47667 39.720...</td>\n",
       "    </tr>\n",
       "    <tr>\n",
       "      <th>49</th>\n",
       "      <td>0400000US55</td>\n",
       "      <td>Wisconsin</td>\n",
       "      <td>2343129</td>\n",
       "      <td>269631</td>\n",
       "      <td>11.5</td>\n",
       "      <td>MULTIPOLYGON (((-87.49016 45.05505, -87.49032 ...</td>\n",
       "    </tr>\n",
       "    <tr>\n",
       "      <th>50</th>\n",
       "      <td>0400000US56</td>\n",
       "      <td>Wyoming</td>\n",
       "      <td>230630</td>\n",
       "      <td>13239</td>\n",
       "      <td>5.7</td>\n",
       "      <td>POLYGON ((-104.05789 44.99761, -104.05776 44.9...</td>\n",
       "    </tr>\n",
       "    <tr>\n",
       "      <th>51</th>\n",
       "      <td>0400000US72</td>\n",
       "      <td>Puerto Rico</td>\n",
       "      <td>1205075</td>\n",
       "      <td>472397</td>\n",
       "      <td>39.2</td>\n",
       "      <td>MULTIPOLYGON (((-66.51535 17.89270, -66.52857 ...</td>\n",
       "    </tr>\n",
       "  </tbody>\n",
       "</table>\n",
       "</div>"
      ],
      "text/plain": [
       "          GeoID                  Name  Total Households  \\\n",
       "0   0400000US01               Alabama           1860269   \n",
       "1   0400000US02                Alaska            253462   \n",
       "2   0400000US04               Arizona           2524300   \n",
       "3   0400000US05              Arkansas           1152175   \n",
       "4   0400000US06            California          12965435   \n",
       "5   0400000US08              Colorado           2113387   \n",
       "6   0400000US09           Connecticut           1367374   \n",
       "7   0400000US10              Delaware            357765   \n",
       "8   0400000US11  District of Columbia            281322   \n",
       "9   0400000US12               Florida           7621760   \n",
       "10  0400000US13               Georgia           3709488   \n",
       "11  0400000US15                Hawaii            456782   \n",
       "12  0400000US16                 Idaho            618331   \n",
       "13  0400000US17              Illinois           4830038   \n",
       "14  0400000US18               Indiana           2553818   \n",
       "15  0400000US19                  Iowa           1256855   \n",
       "16  0400000US20                Kansas           1124549   \n",
       "17  0400000US21              Kentucky           1728681   \n",
       "18  0400000US22             Louisiana           1736021   \n",
       "19  0400000US23                 Maine            556955   \n",
       "20  0400000US24              Maryland           2192518   \n",
       "21  0400000US25         Massachusetts           2601914   \n",
       "22  0400000US26              Michigan           3909509   \n",
       "23  0400000US27             Minnesota           2167801   \n",
       "24  0400000US28           Mississippi           1105576   \n",
       "25  0400000US29              Missouri           2396271   \n",
       "26  0400000US30               Montana            423240   \n",
       "27  0400000US31              Nebraska            754063   \n",
       "28  0400000US32                Nevada           1075930   \n",
       "29  0400000US33         New Hampshire            528078   \n",
       "30  0400000US34            New Jersey           3213362   \n",
       "31  0400000US35            New Mexico            775651   \n",
       "32  0400000US36              New York           7316537   \n",
       "33  0400000US37        North Carolina           3918597   \n",
       "34  0400000US38          North Dakota            314903   \n",
       "35  0400000US39                  Ohio           4654075   \n",
       "36  0400000US40              Oklahoma           1474620   \n",
       "37  0400000US41                Oregon           1591835   \n",
       "38  0400000US42          Pennsylvania           5025132   \n",
       "39  0400000US44          Rhode Island            410885   \n",
       "40  0400000US45        South Carolina           1894711   \n",
       "41  0400000US46          South Dakota            341565   \n",
       "42  0400000US47             Tennessee           2567061   \n",
       "43  0400000US48                 Texas           9553046   \n",
       "44  0400000US49                  Utah            957619   \n",
       "45  0400000US50               Vermont            259589   \n",
       "46  0400000US51              Virginia           3128415   \n",
       "47  0400000US53            Washington           2800423   \n",
       "48  0400000US54         West Virginia            734676   \n",
       "49  0400000US55             Wisconsin           2343129   \n",
       "50  0400000US56               Wyoming            230630   \n",
       "51  0400000US72           Puerto Rico           1205075   \n",
       "\n",
       "    Total Households with SNAP  Percentage of Households with SNAP  \\\n",
       "0                       269603                                14.5   \n",
       "1                        26868                                10.6   \n",
       "2                       298375                                11.8   \n",
       "3                       146798                                12.7   \n",
       "4                      1184714                                 9.1   \n",
       "5                       168243                                 8.0   \n",
       "6                       167022                                12.2   \n",
       "7                        41634                                11.6   \n",
       "8                        39043                                13.9   \n",
       "9                      1080766                                14.2   \n",
       "10                      506957                                13.7   \n",
       "11                       50897                                11.1   \n",
       "12                       65505                                10.6   \n",
       "13                      631076                                13.1   \n",
       "14                      272666                                10.7   \n",
       "15                      134125                                10.7   \n",
       "16                       90685                                 8.1   \n",
       "17                      262173                                15.2   \n",
       "18                      271143                                15.6   \n",
       "19                       79538                                14.3   \n",
       "20                      232090                                10.6   \n",
       "21                      313019                                12.0   \n",
       "22                      551968                                14.1   \n",
       "23                      178604                                 8.2   \n",
       "24                      182088                                16.5   \n",
       "25                      278848                                11.6   \n",
       "26                       41438                                 9.8   \n",
       "27                       65237                                 8.7   \n",
       "28                      130920                                12.2   \n",
       "29                       38059                                 7.2   \n",
       "30                      290079                                 9.0   \n",
       "31                      130965                                16.9   \n",
       "32                     1094793                                15.0   \n",
       "33                      515577                                13.2   \n",
       "34                       21741                                 6.9   \n",
       "35                      636663                                13.7   \n",
       "36                      192609                                13.1   \n",
       "37                      266999                                16.8   \n",
       "38                      663466                                13.2   \n",
       "39                       65655                                16.0   \n",
       "40                      249698                                13.2   \n",
       "41                       32624                                 9.6   \n",
       "42                      379325                                14.8   \n",
       "43                     1167725                                12.2   \n",
       "44                       69022                                 7.2   \n",
       "45                       31101                                12.0   \n",
       "46                      271719                                 8.7   \n",
       "47                      350611                                12.5   \n",
       "48                      121943                                16.6   \n",
       "49                      269631                                11.5   \n",
       "50                       13239                                 5.7   \n",
       "51                      472397                                39.2   \n",
       "\n",
       "                                             geometry  \n",
       "0   MULTIPOLYGON (((-88.08682 30.25987, -88.07486 ...  \n",
       "1   MULTIPOLYGON (((-179.09763 51.22613, -179.1268...  \n",
       "2   POLYGON ((-109.04518 36.99898, -109.04518 36.9...  \n",
       "3   POLYGON ((-89.73310 36.00061, -89.73305 36.000...  \n",
       "4   MULTIPOLYGON (((-118.56454 33.01864, -118.5591...  \n",
       "5   POLYGON ((-104.05326 41.00141, -104.05154 41.0...  \n",
       "6   MULTIPOLYGON (((-73.38574 41.05926, -73.42217 ...  \n",
       "7   MULTIPOLYGON (((-75.54261 39.49658, -75.54269 ...  \n",
       "8   POLYGON ((-77.03901 38.79165, -77.03899 38.792...  \n",
       "9   MULTIPOLYGON (((-82.10512 24.59115, -82.10215 ...  \n",
       "10  POLYGON ((-83.10862 35.00067, -83.10832 35.000...  \n",
       "11  MULTIPOLYGON (((-155.59805 20.12454, -155.5909...  \n",
       "12  POLYGON ((-116.04910 49.00085, -116.04910 49.0...  \n",
       "13  POLYGON ((-87.80048 42.49193, -87.79808 42.471...  \n",
       "14  POLYGON ((-84.80598 41.69613, -84.80598 41.696...  \n",
       "15  POLYGON ((-91.21771 43.50056, -91.21775 43.500...  \n",
       "16  POLYGON ((-95.30830 40.00001, -95.30827 39.999...  \n",
       "17  MULTIPOLYGON (((-89.48530 36.49770, -89.48543 ...  \n",
       "18  MULTIPOLYGON (((-90.91668 29.04964, -90.91746 ...  \n",
       "19  MULTIPOLYGON (((-70.60135 42.98109, -70.60783 ...  \n",
       "20  MULTIPOLYGON (((-76.23673 37.88918, -76.23673 ...  \n",
       "21  MULTIPOLYGON (((-70.80386 41.25057, -70.81142 ...  \n",
       "22  MULTIPOLYGON (((-83.81617 43.66676, -83.82923 ...  \n",
       "23  POLYGON ((-92.01530 46.70648, -92.01584 46.706...  \n",
       "24  MULTIPOLYGON (((-88.46572 30.20255, -88.45345 ...  \n",
       "25  POLYGON ((-91.41943 40.37827, -91.41982 40.377...  \n",
       "26  POLYGON ((-104.04870 48.99960, -104.04870 48.9...  \n",
       "27  POLYGON ((-96.44549 42.49064, -96.44492 42.490...  \n",
       "28  POLYGON ((-114.04149 41.99388, -114.04149 41.9...  \n",
       "29  MULTIPOLYGON (((-70.61216 42.97294, -70.62234 ...  \n",
       "30  MULTIPOLYGON (((-74.04457 40.68859, -74.04440 ...  \n",
       "31  POLYGON ((-103.00234 37.00016, -103.00234 37.0...  \n",
       "32  MULTIPOLYGON (((-74.24656 40.52065, -74.25727 ...  \n",
       "33  MULTIPOLYGON (((-75.50219 35.32002, -75.52592 ...  \n",
       "34  POLYGON ((-97.22873 49.00057, -97.22892 49.000...  \n",
       "35  MULTIPOLYGON (((-82.70021 41.61220, -82.69113 ...  \n",
       "36  POLYGON ((-94.61797 36.99891, -94.61799 36.998...  \n",
       "37  MULTIPOLYGON (((-123.42764 46.22935, -123.4279...  \n",
       "38  POLYGON ((-74.69492 41.35743, -74.69540 41.357...  \n",
       "39  MULTIPOLYGON (((-71.55195 41.15173, -71.59370 ...  \n",
       "40  POLYGON ((-78.54108 33.85112, -78.54109 33.851...  \n",
       "41  POLYGON ((-96.56368 45.93525, -96.56368 45.935...  \n",
       "42  POLYGON ((-83.67540 36.60079, -83.67502 36.600...  \n",
       "43  MULTIPOLYGON (((-97.62457 25.99397, -97.62441 ...  \n",
       "44  POLYGON ((-109.05004 41.00070, -109.05004 41.0...  \n",
       "45  POLYGON ((-71.50108 45.01336, -71.50097 45.013...  \n",
       "46  MULTIPOLYGON (((-75.98216 37.80623, -75.98730 ...  \n",
       "47  MULTIPOLYGON (((-122.63533 47.14821, -122.6391...  \n",
       "48  POLYGON ((-79.47667 39.72109, -79.47667 39.720...  \n",
       "49  MULTIPOLYGON (((-87.49016 45.05505, -87.49032 ...  \n",
       "50  POLYGON ((-104.05789 44.99761, -104.05776 44.9...  \n",
       "51  MULTIPOLYGON (((-66.51535 17.89270, -66.52857 ...  "
      ]
     },
     "execution_count": 14,
     "metadata": {},
     "output_type": "execute_result"
    }
   ],
   "source": [
    "pd.set_option(\"max_rows\", None)\n",
    "snap"
   ]
  },
  {
   "cell_type": "markdown",
   "metadata": {},
   "source": [
    "Then, I drop 51, which is Puerto Rico."
   ]
  },
  {
   "cell_type": "code",
   "execution_count": 15,
   "metadata": {},
   "outputs": [],
   "source": [
    "snap = snap.drop([51])"
   ]
  },
  {
   "cell_type": "markdown",
   "metadata": {},
   "source": [
    "I check again to see if Puerto Rico has been dropped."
   ]
  },
  {
   "cell_type": "code",
   "execution_count": 16,
   "metadata": {},
   "outputs": [
    {
     "data": {
      "text/html": [
       "<div>\n",
       "<style scoped>\n",
       "    .dataframe tbody tr th:only-of-type {\n",
       "        vertical-align: middle;\n",
       "    }\n",
       "\n",
       "    .dataframe tbody tr th {\n",
       "        vertical-align: top;\n",
       "    }\n",
       "\n",
       "    .dataframe thead th {\n",
       "        text-align: right;\n",
       "    }\n",
       "</style>\n",
       "<table border=\"1\" class=\"dataframe\">\n",
       "  <thead>\n",
       "    <tr style=\"text-align: right;\">\n",
       "      <th></th>\n",
       "      <th>GeoID</th>\n",
       "      <th>Name</th>\n",
       "      <th>Total Households</th>\n",
       "      <th>Total Households with SNAP</th>\n",
       "      <th>Percentage of Households with SNAP</th>\n",
       "      <th>geometry</th>\n",
       "    </tr>\n",
       "  </thead>\n",
       "  <tbody>\n",
       "    <tr>\n",
       "      <th>0</th>\n",
       "      <td>0400000US01</td>\n",
       "      <td>Alabama</td>\n",
       "      <td>1860269</td>\n",
       "      <td>269603</td>\n",
       "      <td>14.5</td>\n",
       "      <td>MULTIPOLYGON (((-88.08682 30.25987, -88.07486 ...</td>\n",
       "    </tr>\n",
       "    <tr>\n",
       "      <th>1</th>\n",
       "      <td>0400000US02</td>\n",
       "      <td>Alaska</td>\n",
       "      <td>253462</td>\n",
       "      <td>26868</td>\n",
       "      <td>10.6</td>\n",
       "      <td>MULTIPOLYGON (((-179.09763 51.22613, -179.1268...</td>\n",
       "    </tr>\n",
       "    <tr>\n",
       "      <th>2</th>\n",
       "      <td>0400000US04</td>\n",
       "      <td>Arizona</td>\n",
       "      <td>2524300</td>\n",
       "      <td>298375</td>\n",
       "      <td>11.8</td>\n",
       "      <td>POLYGON ((-109.04518 36.99898, -109.04518 36.9...</td>\n",
       "    </tr>\n",
       "    <tr>\n",
       "      <th>3</th>\n",
       "      <td>0400000US05</td>\n",
       "      <td>Arkansas</td>\n",
       "      <td>1152175</td>\n",
       "      <td>146798</td>\n",
       "      <td>12.7</td>\n",
       "      <td>POLYGON ((-89.73310 36.00061, -89.73305 36.000...</td>\n",
       "    </tr>\n",
       "    <tr>\n",
       "      <th>4</th>\n",
       "      <td>0400000US06</td>\n",
       "      <td>California</td>\n",
       "      <td>12965435</td>\n",
       "      <td>1184714</td>\n",
       "      <td>9.1</td>\n",
       "      <td>MULTIPOLYGON (((-118.56454 33.01864, -118.5591...</td>\n",
       "    </tr>\n",
       "    <tr>\n",
       "      <th>5</th>\n",
       "      <td>0400000US08</td>\n",
       "      <td>Colorado</td>\n",
       "      <td>2113387</td>\n",
       "      <td>168243</td>\n",
       "      <td>8.0</td>\n",
       "      <td>POLYGON ((-104.05326 41.00141, -104.05154 41.0...</td>\n",
       "    </tr>\n",
       "    <tr>\n",
       "      <th>6</th>\n",
       "      <td>0400000US09</td>\n",
       "      <td>Connecticut</td>\n",
       "      <td>1367374</td>\n",
       "      <td>167022</td>\n",
       "      <td>12.2</td>\n",
       "      <td>MULTIPOLYGON (((-73.38574 41.05926, -73.42217 ...</td>\n",
       "    </tr>\n",
       "    <tr>\n",
       "      <th>7</th>\n",
       "      <td>0400000US10</td>\n",
       "      <td>Delaware</td>\n",
       "      <td>357765</td>\n",
       "      <td>41634</td>\n",
       "      <td>11.6</td>\n",
       "      <td>MULTIPOLYGON (((-75.54261 39.49658, -75.54269 ...</td>\n",
       "    </tr>\n",
       "    <tr>\n",
       "      <th>8</th>\n",
       "      <td>0400000US11</td>\n",
       "      <td>District of Columbia</td>\n",
       "      <td>281322</td>\n",
       "      <td>39043</td>\n",
       "      <td>13.9</td>\n",
       "      <td>POLYGON ((-77.03901 38.79165, -77.03899 38.792...</td>\n",
       "    </tr>\n",
       "    <tr>\n",
       "      <th>9</th>\n",
       "      <td>0400000US12</td>\n",
       "      <td>Florida</td>\n",
       "      <td>7621760</td>\n",
       "      <td>1080766</td>\n",
       "      <td>14.2</td>\n",
       "      <td>MULTIPOLYGON (((-82.10512 24.59115, -82.10215 ...</td>\n",
       "    </tr>\n",
       "    <tr>\n",
       "      <th>10</th>\n",
       "      <td>0400000US13</td>\n",
       "      <td>Georgia</td>\n",
       "      <td>3709488</td>\n",
       "      <td>506957</td>\n",
       "      <td>13.7</td>\n",
       "      <td>POLYGON ((-83.10862 35.00067, -83.10832 35.000...</td>\n",
       "    </tr>\n",
       "    <tr>\n",
       "      <th>11</th>\n",
       "      <td>0400000US15</td>\n",
       "      <td>Hawaii</td>\n",
       "      <td>456782</td>\n",
       "      <td>50897</td>\n",
       "      <td>11.1</td>\n",
       "      <td>MULTIPOLYGON (((-155.59805 20.12454, -155.5909...</td>\n",
       "    </tr>\n",
       "    <tr>\n",
       "      <th>12</th>\n",
       "      <td>0400000US16</td>\n",
       "      <td>Idaho</td>\n",
       "      <td>618331</td>\n",
       "      <td>65505</td>\n",
       "      <td>10.6</td>\n",
       "      <td>POLYGON ((-116.04910 49.00085, -116.04910 49.0...</td>\n",
       "    </tr>\n",
       "    <tr>\n",
       "      <th>13</th>\n",
       "      <td>0400000US17</td>\n",
       "      <td>Illinois</td>\n",
       "      <td>4830038</td>\n",
       "      <td>631076</td>\n",
       "      <td>13.1</td>\n",
       "      <td>POLYGON ((-87.80048 42.49193, -87.79808 42.471...</td>\n",
       "    </tr>\n",
       "    <tr>\n",
       "      <th>14</th>\n",
       "      <td>0400000US18</td>\n",
       "      <td>Indiana</td>\n",
       "      <td>2553818</td>\n",
       "      <td>272666</td>\n",
       "      <td>10.7</td>\n",
       "      <td>POLYGON ((-84.80598 41.69613, -84.80598 41.696...</td>\n",
       "    </tr>\n",
       "    <tr>\n",
       "      <th>15</th>\n",
       "      <td>0400000US19</td>\n",
       "      <td>Iowa</td>\n",
       "      <td>1256855</td>\n",
       "      <td>134125</td>\n",
       "      <td>10.7</td>\n",
       "      <td>POLYGON ((-91.21771 43.50056, -91.21775 43.500...</td>\n",
       "    </tr>\n",
       "    <tr>\n",
       "      <th>16</th>\n",
       "      <td>0400000US20</td>\n",
       "      <td>Kansas</td>\n",
       "      <td>1124549</td>\n",
       "      <td>90685</td>\n",
       "      <td>8.1</td>\n",
       "      <td>POLYGON ((-95.30830 40.00001, -95.30827 39.999...</td>\n",
       "    </tr>\n",
       "    <tr>\n",
       "      <th>17</th>\n",
       "      <td>0400000US21</td>\n",
       "      <td>Kentucky</td>\n",
       "      <td>1728681</td>\n",
       "      <td>262173</td>\n",
       "      <td>15.2</td>\n",
       "      <td>MULTIPOLYGON (((-89.48530 36.49770, -89.48543 ...</td>\n",
       "    </tr>\n",
       "    <tr>\n",
       "      <th>18</th>\n",
       "      <td>0400000US22</td>\n",
       "      <td>Louisiana</td>\n",
       "      <td>1736021</td>\n",
       "      <td>271143</td>\n",
       "      <td>15.6</td>\n",
       "      <td>MULTIPOLYGON (((-90.91668 29.04964, -90.91746 ...</td>\n",
       "    </tr>\n",
       "    <tr>\n",
       "      <th>19</th>\n",
       "      <td>0400000US23</td>\n",
       "      <td>Maine</td>\n",
       "      <td>556955</td>\n",
       "      <td>79538</td>\n",
       "      <td>14.3</td>\n",
       "      <td>MULTIPOLYGON (((-70.60135 42.98109, -70.60783 ...</td>\n",
       "    </tr>\n",
       "    <tr>\n",
       "      <th>20</th>\n",
       "      <td>0400000US24</td>\n",
       "      <td>Maryland</td>\n",
       "      <td>2192518</td>\n",
       "      <td>232090</td>\n",
       "      <td>10.6</td>\n",
       "      <td>MULTIPOLYGON (((-76.23673 37.88918, -76.23673 ...</td>\n",
       "    </tr>\n",
       "    <tr>\n",
       "      <th>21</th>\n",
       "      <td>0400000US25</td>\n",
       "      <td>Massachusetts</td>\n",
       "      <td>2601914</td>\n",
       "      <td>313019</td>\n",
       "      <td>12.0</td>\n",
       "      <td>MULTIPOLYGON (((-70.80386 41.25057, -70.81142 ...</td>\n",
       "    </tr>\n",
       "    <tr>\n",
       "      <th>22</th>\n",
       "      <td>0400000US26</td>\n",
       "      <td>Michigan</td>\n",
       "      <td>3909509</td>\n",
       "      <td>551968</td>\n",
       "      <td>14.1</td>\n",
       "      <td>MULTIPOLYGON (((-83.81617 43.66676, -83.82923 ...</td>\n",
       "    </tr>\n",
       "    <tr>\n",
       "      <th>23</th>\n",
       "      <td>0400000US27</td>\n",
       "      <td>Minnesota</td>\n",
       "      <td>2167801</td>\n",
       "      <td>178604</td>\n",
       "      <td>8.2</td>\n",
       "      <td>POLYGON ((-92.01530 46.70648, -92.01584 46.706...</td>\n",
       "    </tr>\n",
       "    <tr>\n",
       "      <th>24</th>\n",
       "      <td>0400000US28</td>\n",
       "      <td>Mississippi</td>\n",
       "      <td>1105576</td>\n",
       "      <td>182088</td>\n",
       "      <td>16.5</td>\n",
       "      <td>MULTIPOLYGON (((-88.46572 30.20255, -88.45345 ...</td>\n",
       "    </tr>\n",
       "    <tr>\n",
       "      <th>25</th>\n",
       "      <td>0400000US29</td>\n",
       "      <td>Missouri</td>\n",
       "      <td>2396271</td>\n",
       "      <td>278848</td>\n",
       "      <td>11.6</td>\n",
       "      <td>POLYGON ((-91.41943 40.37827, -91.41982 40.377...</td>\n",
       "    </tr>\n",
       "    <tr>\n",
       "      <th>26</th>\n",
       "      <td>0400000US30</td>\n",
       "      <td>Montana</td>\n",
       "      <td>423240</td>\n",
       "      <td>41438</td>\n",
       "      <td>9.8</td>\n",
       "      <td>POLYGON ((-104.04870 48.99960, -104.04870 48.9...</td>\n",
       "    </tr>\n",
       "    <tr>\n",
       "      <th>27</th>\n",
       "      <td>0400000US31</td>\n",
       "      <td>Nebraska</td>\n",
       "      <td>754063</td>\n",
       "      <td>65237</td>\n",
       "      <td>8.7</td>\n",
       "      <td>POLYGON ((-96.44549 42.49064, -96.44492 42.490...</td>\n",
       "    </tr>\n",
       "    <tr>\n",
       "      <th>28</th>\n",
       "      <td>0400000US32</td>\n",
       "      <td>Nevada</td>\n",
       "      <td>1075930</td>\n",
       "      <td>130920</td>\n",
       "      <td>12.2</td>\n",
       "      <td>POLYGON ((-114.04149 41.99388, -114.04149 41.9...</td>\n",
       "    </tr>\n",
       "    <tr>\n",
       "      <th>29</th>\n",
       "      <td>0400000US33</td>\n",
       "      <td>New Hampshire</td>\n",
       "      <td>528078</td>\n",
       "      <td>38059</td>\n",
       "      <td>7.2</td>\n",
       "      <td>MULTIPOLYGON (((-70.61216 42.97294, -70.62234 ...</td>\n",
       "    </tr>\n",
       "    <tr>\n",
       "      <th>30</th>\n",
       "      <td>0400000US34</td>\n",
       "      <td>New Jersey</td>\n",
       "      <td>3213362</td>\n",
       "      <td>290079</td>\n",
       "      <td>9.0</td>\n",
       "      <td>MULTIPOLYGON (((-74.04457 40.68859, -74.04440 ...</td>\n",
       "    </tr>\n",
       "    <tr>\n",
       "      <th>31</th>\n",
       "      <td>0400000US35</td>\n",
       "      <td>New Mexico</td>\n",
       "      <td>775651</td>\n",
       "      <td>130965</td>\n",
       "      <td>16.9</td>\n",
       "      <td>POLYGON ((-103.00234 37.00016, -103.00234 37.0...</td>\n",
       "    </tr>\n",
       "    <tr>\n",
       "      <th>32</th>\n",
       "      <td>0400000US36</td>\n",
       "      <td>New York</td>\n",
       "      <td>7316537</td>\n",
       "      <td>1094793</td>\n",
       "      <td>15.0</td>\n",
       "      <td>MULTIPOLYGON (((-74.24656 40.52065, -74.25727 ...</td>\n",
       "    </tr>\n",
       "    <tr>\n",
       "      <th>33</th>\n",
       "      <td>0400000US37</td>\n",
       "      <td>North Carolina</td>\n",
       "      <td>3918597</td>\n",
       "      <td>515577</td>\n",
       "      <td>13.2</td>\n",
       "      <td>MULTIPOLYGON (((-75.50219 35.32002, -75.52592 ...</td>\n",
       "    </tr>\n",
       "    <tr>\n",
       "      <th>34</th>\n",
       "      <td>0400000US38</td>\n",
       "      <td>North Dakota</td>\n",
       "      <td>314903</td>\n",
       "      <td>21741</td>\n",
       "      <td>6.9</td>\n",
       "      <td>POLYGON ((-97.22873 49.00057, -97.22892 49.000...</td>\n",
       "    </tr>\n",
       "    <tr>\n",
       "      <th>35</th>\n",
       "      <td>0400000US39</td>\n",
       "      <td>Ohio</td>\n",
       "      <td>4654075</td>\n",
       "      <td>636663</td>\n",
       "      <td>13.7</td>\n",
       "      <td>MULTIPOLYGON (((-82.70021 41.61220, -82.69113 ...</td>\n",
       "    </tr>\n",
       "    <tr>\n",
       "      <th>36</th>\n",
       "      <td>0400000US40</td>\n",
       "      <td>Oklahoma</td>\n",
       "      <td>1474620</td>\n",
       "      <td>192609</td>\n",
       "      <td>13.1</td>\n",
       "      <td>POLYGON ((-94.61797 36.99891, -94.61799 36.998...</td>\n",
       "    </tr>\n",
       "    <tr>\n",
       "      <th>37</th>\n",
       "      <td>0400000US41</td>\n",
       "      <td>Oregon</td>\n",
       "      <td>1591835</td>\n",
       "      <td>266999</td>\n",
       "      <td>16.8</td>\n",
       "      <td>MULTIPOLYGON (((-123.42764 46.22935, -123.4279...</td>\n",
       "    </tr>\n",
       "    <tr>\n",
       "      <th>38</th>\n",
       "      <td>0400000US42</td>\n",
       "      <td>Pennsylvania</td>\n",
       "      <td>5025132</td>\n",
       "      <td>663466</td>\n",
       "      <td>13.2</td>\n",
       "      <td>POLYGON ((-74.69492 41.35743, -74.69540 41.357...</td>\n",
       "    </tr>\n",
       "    <tr>\n",
       "      <th>39</th>\n",
       "      <td>0400000US44</td>\n",
       "      <td>Rhode Island</td>\n",
       "      <td>410885</td>\n",
       "      <td>65655</td>\n",
       "      <td>16.0</td>\n",
       "      <td>MULTIPOLYGON (((-71.55195 41.15173, -71.59370 ...</td>\n",
       "    </tr>\n",
       "    <tr>\n",
       "      <th>40</th>\n",
       "      <td>0400000US45</td>\n",
       "      <td>South Carolina</td>\n",
       "      <td>1894711</td>\n",
       "      <td>249698</td>\n",
       "      <td>13.2</td>\n",
       "      <td>POLYGON ((-78.54108 33.85112, -78.54109 33.851...</td>\n",
       "    </tr>\n",
       "    <tr>\n",
       "      <th>41</th>\n",
       "      <td>0400000US46</td>\n",
       "      <td>South Dakota</td>\n",
       "      <td>341565</td>\n",
       "      <td>32624</td>\n",
       "      <td>9.6</td>\n",
       "      <td>POLYGON ((-96.56368 45.93525, -96.56368 45.935...</td>\n",
       "    </tr>\n",
       "    <tr>\n",
       "      <th>42</th>\n",
       "      <td>0400000US47</td>\n",
       "      <td>Tennessee</td>\n",
       "      <td>2567061</td>\n",
       "      <td>379325</td>\n",
       "      <td>14.8</td>\n",
       "      <td>POLYGON ((-83.67540 36.60079, -83.67502 36.600...</td>\n",
       "    </tr>\n",
       "    <tr>\n",
       "      <th>43</th>\n",
       "      <td>0400000US48</td>\n",
       "      <td>Texas</td>\n",
       "      <td>9553046</td>\n",
       "      <td>1167725</td>\n",
       "      <td>12.2</td>\n",
       "      <td>MULTIPOLYGON (((-97.62457 25.99397, -97.62441 ...</td>\n",
       "    </tr>\n",
       "    <tr>\n",
       "      <th>44</th>\n",
       "      <td>0400000US49</td>\n",
       "      <td>Utah</td>\n",
       "      <td>957619</td>\n",
       "      <td>69022</td>\n",
       "      <td>7.2</td>\n",
       "      <td>POLYGON ((-109.05004 41.00070, -109.05004 41.0...</td>\n",
       "    </tr>\n",
       "    <tr>\n",
       "      <th>45</th>\n",
       "      <td>0400000US50</td>\n",
       "      <td>Vermont</td>\n",
       "      <td>259589</td>\n",
       "      <td>31101</td>\n",
       "      <td>12.0</td>\n",
       "      <td>POLYGON ((-71.50108 45.01336, -71.50097 45.013...</td>\n",
       "    </tr>\n",
       "    <tr>\n",
       "      <th>46</th>\n",
       "      <td>0400000US51</td>\n",
       "      <td>Virginia</td>\n",
       "      <td>3128415</td>\n",
       "      <td>271719</td>\n",
       "      <td>8.7</td>\n",
       "      <td>MULTIPOLYGON (((-75.98216 37.80623, -75.98730 ...</td>\n",
       "    </tr>\n",
       "    <tr>\n",
       "      <th>47</th>\n",
       "      <td>0400000US53</td>\n",
       "      <td>Washington</td>\n",
       "      <td>2800423</td>\n",
       "      <td>350611</td>\n",
       "      <td>12.5</td>\n",
       "      <td>MULTIPOLYGON (((-122.63533 47.14821, -122.6391...</td>\n",
       "    </tr>\n",
       "    <tr>\n",
       "      <th>48</th>\n",
       "      <td>0400000US54</td>\n",
       "      <td>West Virginia</td>\n",
       "      <td>734676</td>\n",
       "      <td>121943</td>\n",
       "      <td>16.6</td>\n",
       "      <td>POLYGON ((-79.47667 39.72109, -79.47667 39.720...</td>\n",
       "    </tr>\n",
       "    <tr>\n",
       "      <th>49</th>\n",
       "      <td>0400000US55</td>\n",
       "      <td>Wisconsin</td>\n",
       "      <td>2343129</td>\n",
       "      <td>269631</td>\n",
       "      <td>11.5</td>\n",
       "      <td>MULTIPOLYGON (((-87.49016 45.05505, -87.49032 ...</td>\n",
       "    </tr>\n",
       "    <tr>\n",
       "      <th>50</th>\n",
       "      <td>0400000US56</td>\n",
       "      <td>Wyoming</td>\n",
       "      <td>230630</td>\n",
       "      <td>13239</td>\n",
       "      <td>5.7</td>\n",
       "      <td>POLYGON ((-104.05789 44.99761, -104.05776 44.9...</td>\n",
       "    </tr>\n",
       "  </tbody>\n",
       "</table>\n",
       "</div>"
      ],
      "text/plain": [
       "          GeoID                  Name  Total Households  \\\n",
       "0   0400000US01               Alabama           1860269   \n",
       "1   0400000US02                Alaska            253462   \n",
       "2   0400000US04               Arizona           2524300   \n",
       "3   0400000US05              Arkansas           1152175   \n",
       "4   0400000US06            California          12965435   \n",
       "5   0400000US08              Colorado           2113387   \n",
       "6   0400000US09           Connecticut           1367374   \n",
       "7   0400000US10              Delaware            357765   \n",
       "8   0400000US11  District of Columbia            281322   \n",
       "9   0400000US12               Florida           7621760   \n",
       "10  0400000US13               Georgia           3709488   \n",
       "11  0400000US15                Hawaii            456782   \n",
       "12  0400000US16                 Idaho            618331   \n",
       "13  0400000US17              Illinois           4830038   \n",
       "14  0400000US18               Indiana           2553818   \n",
       "15  0400000US19                  Iowa           1256855   \n",
       "16  0400000US20                Kansas           1124549   \n",
       "17  0400000US21              Kentucky           1728681   \n",
       "18  0400000US22             Louisiana           1736021   \n",
       "19  0400000US23                 Maine            556955   \n",
       "20  0400000US24              Maryland           2192518   \n",
       "21  0400000US25         Massachusetts           2601914   \n",
       "22  0400000US26              Michigan           3909509   \n",
       "23  0400000US27             Minnesota           2167801   \n",
       "24  0400000US28           Mississippi           1105576   \n",
       "25  0400000US29              Missouri           2396271   \n",
       "26  0400000US30               Montana            423240   \n",
       "27  0400000US31              Nebraska            754063   \n",
       "28  0400000US32                Nevada           1075930   \n",
       "29  0400000US33         New Hampshire            528078   \n",
       "30  0400000US34            New Jersey           3213362   \n",
       "31  0400000US35            New Mexico            775651   \n",
       "32  0400000US36              New York           7316537   \n",
       "33  0400000US37        North Carolina           3918597   \n",
       "34  0400000US38          North Dakota            314903   \n",
       "35  0400000US39                  Ohio           4654075   \n",
       "36  0400000US40              Oklahoma           1474620   \n",
       "37  0400000US41                Oregon           1591835   \n",
       "38  0400000US42          Pennsylvania           5025132   \n",
       "39  0400000US44          Rhode Island            410885   \n",
       "40  0400000US45        South Carolina           1894711   \n",
       "41  0400000US46          South Dakota            341565   \n",
       "42  0400000US47             Tennessee           2567061   \n",
       "43  0400000US48                 Texas           9553046   \n",
       "44  0400000US49                  Utah            957619   \n",
       "45  0400000US50               Vermont            259589   \n",
       "46  0400000US51              Virginia           3128415   \n",
       "47  0400000US53            Washington           2800423   \n",
       "48  0400000US54         West Virginia            734676   \n",
       "49  0400000US55             Wisconsin           2343129   \n",
       "50  0400000US56               Wyoming            230630   \n",
       "\n",
       "    Total Households with SNAP  Percentage of Households with SNAP  \\\n",
       "0                       269603                                14.5   \n",
       "1                        26868                                10.6   \n",
       "2                       298375                                11.8   \n",
       "3                       146798                                12.7   \n",
       "4                      1184714                                 9.1   \n",
       "5                       168243                                 8.0   \n",
       "6                       167022                                12.2   \n",
       "7                        41634                                11.6   \n",
       "8                        39043                                13.9   \n",
       "9                      1080766                                14.2   \n",
       "10                      506957                                13.7   \n",
       "11                       50897                                11.1   \n",
       "12                       65505                                10.6   \n",
       "13                      631076                                13.1   \n",
       "14                      272666                                10.7   \n",
       "15                      134125                                10.7   \n",
       "16                       90685                                 8.1   \n",
       "17                      262173                                15.2   \n",
       "18                      271143                                15.6   \n",
       "19                       79538                                14.3   \n",
       "20                      232090                                10.6   \n",
       "21                      313019                                12.0   \n",
       "22                      551968                                14.1   \n",
       "23                      178604                                 8.2   \n",
       "24                      182088                                16.5   \n",
       "25                      278848                                11.6   \n",
       "26                       41438                                 9.8   \n",
       "27                       65237                                 8.7   \n",
       "28                      130920                                12.2   \n",
       "29                       38059                                 7.2   \n",
       "30                      290079                                 9.0   \n",
       "31                      130965                                16.9   \n",
       "32                     1094793                                15.0   \n",
       "33                      515577                                13.2   \n",
       "34                       21741                                 6.9   \n",
       "35                      636663                                13.7   \n",
       "36                      192609                                13.1   \n",
       "37                      266999                                16.8   \n",
       "38                      663466                                13.2   \n",
       "39                       65655                                16.0   \n",
       "40                      249698                                13.2   \n",
       "41                       32624                                 9.6   \n",
       "42                      379325                                14.8   \n",
       "43                     1167725                                12.2   \n",
       "44                       69022                                 7.2   \n",
       "45                       31101                                12.0   \n",
       "46                      271719                                 8.7   \n",
       "47                      350611                                12.5   \n",
       "48                      121943                                16.6   \n",
       "49                      269631                                11.5   \n",
       "50                       13239                                 5.7   \n",
       "\n",
       "                                             geometry  \n",
       "0   MULTIPOLYGON (((-88.08682 30.25987, -88.07486 ...  \n",
       "1   MULTIPOLYGON (((-179.09763 51.22613, -179.1268...  \n",
       "2   POLYGON ((-109.04518 36.99898, -109.04518 36.9...  \n",
       "3   POLYGON ((-89.73310 36.00061, -89.73305 36.000...  \n",
       "4   MULTIPOLYGON (((-118.56454 33.01864, -118.5591...  \n",
       "5   POLYGON ((-104.05326 41.00141, -104.05154 41.0...  \n",
       "6   MULTIPOLYGON (((-73.38574 41.05926, -73.42217 ...  \n",
       "7   MULTIPOLYGON (((-75.54261 39.49658, -75.54269 ...  \n",
       "8   POLYGON ((-77.03901 38.79165, -77.03899 38.792...  \n",
       "9   MULTIPOLYGON (((-82.10512 24.59115, -82.10215 ...  \n",
       "10  POLYGON ((-83.10862 35.00067, -83.10832 35.000...  \n",
       "11  MULTIPOLYGON (((-155.59805 20.12454, -155.5909...  \n",
       "12  POLYGON ((-116.04910 49.00085, -116.04910 49.0...  \n",
       "13  POLYGON ((-87.80048 42.49193, -87.79808 42.471...  \n",
       "14  POLYGON ((-84.80598 41.69613, -84.80598 41.696...  \n",
       "15  POLYGON ((-91.21771 43.50056, -91.21775 43.500...  \n",
       "16  POLYGON ((-95.30830 40.00001, -95.30827 39.999...  \n",
       "17  MULTIPOLYGON (((-89.48530 36.49770, -89.48543 ...  \n",
       "18  MULTIPOLYGON (((-90.91668 29.04964, -90.91746 ...  \n",
       "19  MULTIPOLYGON (((-70.60135 42.98109, -70.60783 ...  \n",
       "20  MULTIPOLYGON (((-76.23673 37.88918, -76.23673 ...  \n",
       "21  MULTIPOLYGON (((-70.80386 41.25057, -70.81142 ...  \n",
       "22  MULTIPOLYGON (((-83.81617 43.66676, -83.82923 ...  \n",
       "23  POLYGON ((-92.01530 46.70648, -92.01584 46.706...  \n",
       "24  MULTIPOLYGON (((-88.46572 30.20255, -88.45345 ...  \n",
       "25  POLYGON ((-91.41943 40.37827, -91.41982 40.377...  \n",
       "26  POLYGON ((-104.04870 48.99960, -104.04870 48.9...  \n",
       "27  POLYGON ((-96.44549 42.49064, -96.44492 42.490...  \n",
       "28  POLYGON ((-114.04149 41.99388, -114.04149 41.9...  \n",
       "29  MULTIPOLYGON (((-70.61216 42.97294, -70.62234 ...  \n",
       "30  MULTIPOLYGON (((-74.04457 40.68859, -74.04440 ...  \n",
       "31  POLYGON ((-103.00234 37.00016, -103.00234 37.0...  \n",
       "32  MULTIPOLYGON (((-74.24656 40.52065, -74.25727 ...  \n",
       "33  MULTIPOLYGON (((-75.50219 35.32002, -75.52592 ...  \n",
       "34  POLYGON ((-97.22873 49.00057, -97.22892 49.000...  \n",
       "35  MULTIPOLYGON (((-82.70021 41.61220, -82.69113 ...  \n",
       "36  POLYGON ((-94.61797 36.99891, -94.61799 36.998...  \n",
       "37  MULTIPOLYGON (((-123.42764 46.22935, -123.4279...  \n",
       "38  POLYGON ((-74.69492 41.35743, -74.69540 41.357...  \n",
       "39  MULTIPOLYGON (((-71.55195 41.15173, -71.59370 ...  \n",
       "40  POLYGON ((-78.54108 33.85112, -78.54109 33.851...  \n",
       "41  POLYGON ((-96.56368 45.93525, -96.56368 45.935...  \n",
       "42  POLYGON ((-83.67540 36.60079, -83.67502 36.600...  \n",
       "43  MULTIPOLYGON (((-97.62457 25.99397, -97.62441 ...  \n",
       "44  POLYGON ((-109.05004 41.00070, -109.05004 41.0...  \n",
       "45  POLYGON ((-71.50108 45.01336, -71.50097 45.013...  \n",
       "46  MULTIPOLYGON (((-75.98216 37.80623, -75.98730 ...  \n",
       "47  MULTIPOLYGON (((-122.63533 47.14821, -122.6391...  \n",
       "48  POLYGON ((-79.47667 39.72109, -79.47667 39.720...  \n",
       "49  MULTIPOLYGON (((-87.49016 45.05505, -87.49032 ...  \n",
       "50  POLYGON ((-104.05789 44.99761, -104.05776 44.9...  "
      ]
     },
     "execution_count": 16,
     "metadata": {},
     "output_type": "execute_result"
    }
   ],
   "source": [
    "pd.set_option(\"max_rows\", None)\n",
    "snap"
   ]
  },
  {
   "cell_type": "markdown",
   "metadata": {},
   "source": [
    "### Sorting\n",
    "To find out the states with the highest and lowest percentages of households with SNAP, I will sort my data."
   ]
  },
  {
   "cell_type": "code",
   "execution_count": 17,
   "metadata": {},
   "outputs": [],
   "source": [
    "snap_sorted = snap.sort_values(by='Percentage of Households with SNAP',ascending = False)"
   ]
  },
  {
   "cell_type": "code",
   "execution_count": 19,
   "metadata": {},
   "outputs": [
    {
     "data": {
      "text/html": [
       "<div>\n",
       "<style scoped>\n",
       "    .dataframe tbody tr th:only-of-type {\n",
       "        vertical-align: middle;\n",
       "    }\n",
       "\n",
       "    .dataframe tbody tr th {\n",
       "        vertical-align: top;\n",
       "    }\n",
       "\n",
       "    .dataframe thead th {\n",
       "        text-align: right;\n",
       "    }\n",
       "</style>\n",
       "<table border=\"1\" class=\"dataframe\">\n",
       "  <thead>\n",
       "    <tr style=\"text-align: right;\">\n",
       "      <th></th>\n",
       "      <th>GeoID</th>\n",
       "      <th>Name</th>\n",
       "      <th>Percentage of Households with SNAP</th>\n",
       "    </tr>\n",
       "  </thead>\n",
       "  <tbody>\n",
       "    <tr>\n",
       "      <th>31</th>\n",
       "      <td>0400000US35</td>\n",
       "      <td>New Mexico</td>\n",
       "      <td>16.9</td>\n",
       "    </tr>\n",
       "    <tr>\n",
       "      <th>37</th>\n",
       "      <td>0400000US41</td>\n",
       "      <td>Oregon</td>\n",
       "      <td>16.8</td>\n",
       "    </tr>\n",
       "    <tr>\n",
       "      <th>48</th>\n",
       "      <td>0400000US54</td>\n",
       "      <td>West Virginia</td>\n",
       "      <td>16.6</td>\n",
       "    </tr>\n",
       "    <tr>\n",
       "      <th>24</th>\n",
       "      <td>0400000US28</td>\n",
       "      <td>Mississippi</td>\n",
       "      <td>16.5</td>\n",
       "    </tr>\n",
       "    <tr>\n",
       "      <th>39</th>\n",
       "      <td>0400000US44</td>\n",
       "      <td>Rhode Island</td>\n",
       "      <td>16.0</td>\n",
       "    </tr>\n",
       "  </tbody>\n",
       "</table>\n",
       "</div>"
      ],
      "text/plain": [
       "          GeoID           Name  Percentage of Households with SNAP\n",
       "31  0400000US35     New Mexico                                16.9\n",
       "37  0400000US41         Oregon                                16.8\n",
       "48  0400000US54  West Virginia                                16.6\n",
       "24  0400000US28    Mississippi                                16.5\n",
       "39  0400000US44   Rhode Island                                16.0"
      ]
     },
     "execution_count": 19,
     "metadata": {},
     "output_type": "execute_result"
    }
   ],
   "source": [
    "snap_sorted[['GeoID','Name','Percentage of Households with SNAP']].head(5)"
   ]
  },
  {
   "cell_type": "markdown",
   "metadata": {},
   "source": [
    "The top 5 states with the highest percentages of households with SNAP are: New Mexico, Oregon, West Virginia, Mississippi, and Rhode Island."
   ]
  },
  {
   "cell_type": "code",
   "execution_count": 20,
   "metadata": {},
   "outputs": [],
   "source": [
    "snap_sorted_opp = snap.sort_values(by='Percentage of Households with SNAP',ascending = True)"
   ]
  },
  {
   "cell_type": "code",
   "execution_count": 21,
   "metadata": {},
   "outputs": [
    {
     "data": {
      "text/html": [
       "<div>\n",
       "<style scoped>\n",
       "    .dataframe tbody tr th:only-of-type {\n",
       "        vertical-align: middle;\n",
       "    }\n",
       "\n",
       "    .dataframe tbody tr th {\n",
       "        vertical-align: top;\n",
       "    }\n",
       "\n",
       "    .dataframe thead th {\n",
       "        text-align: right;\n",
       "    }\n",
       "</style>\n",
       "<table border=\"1\" class=\"dataframe\">\n",
       "  <thead>\n",
       "    <tr style=\"text-align: right;\">\n",
       "      <th></th>\n",
       "      <th>GeoID</th>\n",
       "      <th>Name</th>\n",
       "      <th>Percentage of Households with SNAP</th>\n",
       "    </tr>\n",
       "  </thead>\n",
       "  <tbody>\n",
       "    <tr>\n",
       "      <th>50</th>\n",
       "      <td>0400000US56</td>\n",
       "      <td>Wyoming</td>\n",
       "      <td>5.7</td>\n",
       "    </tr>\n",
       "    <tr>\n",
       "      <th>34</th>\n",
       "      <td>0400000US38</td>\n",
       "      <td>North Dakota</td>\n",
       "      <td>6.9</td>\n",
       "    </tr>\n",
       "    <tr>\n",
       "      <th>44</th>\n",
       "      <td>0400000US49</td>\n",
       "      <td>Utah</td>\n",
       "      <td>7.2</td>\n",
       "    </tr>\n",
       "    <tr>\n",
       "      <th>29</th>\n",
       "      <td>0400000US33</td>\n",
       "      <td>New Hampshire</td>\n",
       "      <td>7.2</td>\n",
       "    </tr>\n",
       "    <tr>\n",
       "      <th>5</th>\n",
       "      <td>0400000US08</td>\n",
       "      <td>Colorado</td>\n",
       "      <td>8.0</td>\n",
       "    </tr>\n",
       "  </tbody>\n",
       "</table>\n",
       "</div>"
      ],
      "text/plain": [
       "          GeoID           Name  Percentage of Households with SNAP\n",
       "50  0400000US56        Wyoming                                 5.7\n",
       "34  0400000US38   North Dakota                                 6.9\n",
       "44  0400000US49           Utah                                 7.2\n",
       "29  0400000US33  New Hampshire                                 7.2\n",
       "5   0400000US08       Colorado                                 8.0"
      ]
     },
     "execution_count": 21,
     "metadata": {},
     "output_type": "execute_result"
    }
   ],
   "source": [
    "snap_sorted_opp[['GeoID','Name','Percentage of Households with SNAP']].head(5)"
   ]
  },
  {
   "cell_type": "markdown",
   "metadata": {},
   "source": [
    "The bottom 5 states with the lowest percentages of households with SNAP are: Wyoming, North Dakota, Utah, New Hampshire, and Colorado."
   ]
  },
  {
   "cell_type": "markdown",
   "metadata": {},
   "source": [
    "## Bar Chart\n",
    "Using the sorted data, I can create a bar chart that plots everything in descending order. This clearly showcases  states that have higher usage levels of SNAP to states that have lower usage levels of SNAP."
   ]
  },
  {
   "cell_type": "code",
   "execution_count": 31,
   "metadata": {},
   "outputs": [
    {
     "data": {
      "application/vnd.plotly.v1+json": {
       "config": {
        "plotlyServerURL": "https://plot.ly"
       },
       "data": [
        {
         "alignmentgroup": "True",
         "hovertemplate": "Name=%{x}<br>Percentage of Households with SNAP=%{y}<extra></extra>",
         "legendgroup": "",
         "marker": {
          "color": "#636efa"
         },
         "name": "",
         "offsetgroup": "",
         "orientation": "v",
         "showlegend": false,
         "textposition": "auto",
         "type": "bar",
         "x": [
          "New Mexico",
          "Oregon",
          "West Virginia",
          "Mississippi",
          "Rhode Island",
          "Louisiana",
          "Kentucky",
          "New York",
          "Tennessee",
          "Alabama",
          "Maine",
          "Florida",
          "Michigan",
          "District of Columbia",
          "Georgia",
          "Ohio",
          "North Carolina",
          "South Carolina",
          "Pennsylvania",
          "Illinois",
          "Oklahoma",
          "Arkansas",
          "Washington",
          "Texas",
          "Connecticut",
          "Nevada",
          "Massachusetts",
          "Vermont",
          "Arizona",
          "Missouri",
          "Delaware",
          "Wisconsin",
          "Hawaii",
          "Indiana",
          "Iowa",
          "Alaska",
          "Maryland",
          "Idaho",
          "Montana",
          "South Dakota",
          "California",
          "New Jersey",
          "Virginia",
          "Nebraska",
          "Minnesota",
          "Kansas",
          "Colorado",
          "New Hampshire",
          "Utah",
          "North Dakota",
          "Wyoming"
         ],
         "xaxis": "x",
         "y": [
          16.9,
          16.8,
          16.6,
          16.5,
          16,
          15.6,
          15.2,
          15,
          14.8,
          14.5,
          14.3,
          14.2,
          14.1,
          13.9,
          13.7,
          13.7,
          13.2,
          13.2,
          13.2,
          13.1,
          13.1,
          12.7,
          12.5,
          12.2,
          12.2,
          12.2,
          12,
          12,
          11.8,
          11.6,
          11.6,
          11.5,
          11.1,
          10.7,
          10.7,
          10.6,
          10.6,
          10.6,
          9.8,
          9.6,
          9.1,
          9,
          8.7,
          8.7,
          8.2,
          8.1,
          8,
          7.2,
          7.2,
          6.9,
          5.7
         ],
         "yaxis": "y"
        }
       ],
       "layout": {
        "barmode": "relative",
        "legend": {
         "tracegroupgap": 0
        },
        "template": {
         "data": {
          "bar": [
           {
            "error_x": {
             "color": "#2a3f5f"
            },
            "error_y": {
             "color": "#2a3f5f"
            },
            "marker": {
             "line": {
              "color": "#E5ECF6",
              "width": 0.5
             }
            },
            "type": "bar"
           }
          ],
          "barpolar": [
           {
            "marker": {
             "line": {
              "color": "#E5ECF6",
              "width": 0.5
             }
            },
            "type": "barpolar"
           }
          ],
          "carpet": [
           {
            "aaxis": {
             "endlinecolor": "#2a3f5f",
             "gridcolor": "white",
             "linecolor": "white",
             "minorgridcolor": "white",
             "startlinecolor": "#2a3f5f"
            },
            "baxis": {
             "endlinecolor": "#2a3f5f",
             "gridcolor": "white",
             "linecolor": "white",
             "minorgridcolor": "white",
             "startlinecolor": "#2a3f5f"
            },
            "type": "carpet"
           }
          ],
          "choropleth": [
           {
            "colorbar": {
             "outlinewidth": 0,
             "ticks": ""
            },
            "type": "choropleth"
           }
          ],
          "contour": [
           {
            "colorbar": {
             "outlinewidth": 0,
             "ticks": ""
            },
            "colorscale": [
             [
              0,
              "#0d0887"
             ],
             [
              0.1111111111111111,
              "#46039f"
             ],
             [
              0.2222222222222222,
              "#7201a8"
             ],
             [
              0.3333333333333333,
              "#9c179e"
             ],
             [
              0.4444444444444444,
              "#bd3786"
             ],
             [
              0.5555555555555556,
              "#d8576b"
             ],
             [
              0.6666666666666666,
              "#ed7953"
             ],
             [
              0.7777777777777778,
              "#fb9f3a"
             ],
             [
              0.8888888888888888,
              "#fdca26"
             ],
             [
              1,
              "#f0f921"
             ]
            ],
            "type": "contour"
           }
          ],
          "contourcarpet": [
           {
            "colorbar": {
             "outlinewidth": 0,
             "ticks": ""
            },
            "type": "contourcarpet"
           }
          ],
          "heatmap": [
           {
            "colorbar": {
             "outlinewidth": 0,
             "ticks": ""
            },
            "colorscale": [
             [
              0,
              "#0d0887"
             ],
             [
              0.1111111111111111,
              "#46039f"
             ],
             [
              0.2222222222222222,
              "#7201a8"
             ],
             [
              0.3333333333333333,
              "#9c179e"
             ],
             [
              0.4444444444444444,
              "#bd3786"
             ],
             [
              0.5555555555555556,
              "#d8576b"
             ],
             [
              0.6666666666666666,
              "#ed7953"
             ],
             [
              0.7777777777777778,
              "#fb9f3a"
             ],
             [
              0.8888888888888888,
              "#fdca26"
             ],
             [
              1,
              "#f0f921"
             ]
            ],
            "type": "heatmap"
           }
          ],
          "heatmapgl": [
           {
            "colorbar": {
             "outlinewidth": 0,
             "ticks": ""
            },
            "colorscale": [
             [
              0,
              "#0d0887"
             ],
             [
              0.1111111111111111,
              "#46039f"
             ],
             [
              0.2222222222222222,
              "#7201a8"
             ],
             [
              0.3333333333333333,
              "#9c179e"
             ],
             [
              0.4444444444444444,
              "#bd3786"
             ],
             [
              0.5555555555555556,
              "#d8576b"
             ],
             [
              0.6666666666666666,
              "#ed7953"
             ],
             [
              0.7777777777777778,
              "#fb9f3a"
             ],
             [
              0.8888888888888888,
              "#fdca26"
             ],
             [
              1,
              "#f0f921"
             ]
            ],
            "type": "heatmapgl"
           }
          ],
          "histogram": [
           {
            "marker": {
             "colorbar": {
              "outlinewidth": 0,
              "ticks": ""
             }
            },
            "type": "histogram"
           }
          ],
          "histogram2d": [
           {
            "colorbar": {
             "outlinewidth": 0,
             "ticks": ""
            },
            "colorscale": [
             [
              0,
              "#0d0887"
             ],
             [
              0.1111111111111111,
              "#46039f"
             ],
             [
              0.2222222222222222,
              "#7201a8"
             ],
             [
              0.3333333333333333,
              "#9c179e"
             ],
             [
              0.4444444444444444,
              "#bd3786"
             ],
             [
              0.5555555555555556,
              "#d8576b"
             ],
             [
              0.6666666666666666,
              "#ed7953"
             ],
             [
              0.7777777777777778,
              "#fb9f3a"
             ],
             [
              0.8888888888888888,
              "#fdca26"
             ],
             [
              1,
              "#f0f921"
             ]
            ],
            "type": "histogram2d"
           }
          ],
          "histogram2dcontour": [
           {
            "colorbar": {
             "outlinewidth": 0,
             "ticks": ""
            },
            "colorscale": [
             [
              0,
              "#0d0887"
             ],
             [
              0.1111111111111111,
              "#46039f"
             ],
             [
              0.2222222222222222,
              "#7201a8"
             ],
             [
              0.3333333333333333,
              "#9c179e"
             ],
             [
              0.4444444444444444,
              "#bd3786"
             ],
             [
              0.5555555555555556,
              "#d8576b"
             ],
             [
              0.6666666666666666,
              "#ed7953"
             ],
             [
              0.7777777777777778,
              "#fb9f3a"
             ],
             [
              0.8888888888888888,
              "#fdca26"
             ],
             [
              1,
              "#f0f921"
             ]
            ],
            "type": "histogram2dcontour"
           }
          ],
          "mesh3d": [
           {
            "colorbar": {
             "outlinewidth": 0,
             "ticks": ""
            },
            "type": "mesh3d"
           }
          ],
          "parcoords": [
           {
            "line": {
             "colorbar": {
              "outlinewidth": 0,
              "ticks": ""
             }
            },
            "type": "parcoords"
           }
          ],
          "pie": [
           {
            "automargin": true,
            "type": "pie"
           }
          ],
          "scatter": [
           {
            "marker": {
             "colorbar": {
              "outlinewidth": 0,
              "ticks": ""
             }
            },
            "type": "scatter"
           }
          ],
          "scatter3d": [
           {
            "line": {
             "colorbar": {
              "outlinewidth": 0,
              "ticks": ""
             }
            },
            "marker": {
             "colorbar": {
              "outlinewidth": 0,
              "ticks": ""
             }
            },
            "type": "scatter3d"
           }
          ],
          "scattercarpet": [
           {
            "marker": {
             "colorbar": {
              "outlinewidth": 0,
              "ticks": ""
             }
            },
            "type": "scattercarpet"
           }
          ],
          "scattergeo": [
           {
            "marker": {
             "colorbar": {
              "outlinewidth": 0,
              "ticks": ""
             }
            },
            "type": "scattergeo"
           }
          ],
          "scattergl": [
           {
            "marker": {
             "colorbar": {
              "outlinewidth": 0,
              "ticks": ""
             }
            },
            "type": "scattergl"
           }
          ],
          "scattermapbox": [
           {
            "marker": {
             "colorbar": {
              "outlinewidth": 0,
              "ticks": ""
             }
            },
            "type": "scattermapbox"
           }
          ],
          "scatterpolar": [
           {
            "marker": {
             "colorbar": {
              "outlinewidth": 0,
              "ticks": ""
             }
            },
            "type": "scatterpolar"
           }
          ],
          "scatterpolargl": [
           {
            "marker": {
             "colorbar": {
              "outlinewidth": 0,
              "ticks": ""
             }
            },
            "type": "scatterpolargl"
           }
          ],
          "scatterternary": [
           {
            "marker": {
             "colorbar": {
              "outlinewidth": 0,
              "ticks": ""
             }
            },
            "type": "scatterternary"
           }
          ],
          "surface": [
           {
            "colorbar": {
             "outlinewidth": 0,
             "ticks": ""
            },
            "colorscale": [
             [
              0,
              "#0d0887"
             ],
             [
              0.1111111111111111,
              "#46039f"
             ],
             [
              0.2222222222222222,
              "#7201a8"
             ],
             [
              0.3333333333333333,
              "#9c179e"
             ],
             [
              0.4444444444444444,
              "#bd3786"
             ],
             [
              0.5555555555555556,
              "#d8576b"
             ],
             [
              0.6666666666666666,
              "#ed7953"
             ],
             [
              0.7777777777777778,
              "#fb9f3a"
             ],
             [
              0.8888888888888888,
              "#fdca26"
             ],
             [
              1,
              "#f0f921"
             ]
            ],
            "type": "surface"
           }
          ],
          "table": [
           {
            "cells": {
             "fill": {
              "color": "#EBF0F8"
             },
             "line": {
              "color": "white"
             }
            },
            "header": {
             "fill": {
              "color": "#C8D4E3"
             },
             "line": {
              "color": "white"
             }
            },
            "type": "table"
           }
          ]
         },
         "layout": {
          "annotationdefaults": {
           "arrowcolor": "#2a3f5f",
           "arrowhead": 0,
           "arrowwidth": 1
          },
          "coloraxis": {
           "colorbar": {
            "outlinewidth": 0,
            "ticks": ""
           }
          },
          "colorscale": {
           "diverging": [
            [
             0,
             "#8e0152"
            ],
            [
             0.1,
             "#c51b7d"
            ],
            [
             0.2,
             "#de77ae"
            ],
            [
             0.3,
             "#f1b6da"
            ],
            [
             0.4,
             "#fde0ef"
            ],
            [
             0.5,
             "#f7f7f7"
            ],
            [
             0.6,
             "#e6f5d0"
            ],
            [
             0.7,
             "#b8e186"
            ],
            [
             0.8,
             "#7fbc41"
            ],
            [
             0.9,
             "#4d9221"
            ],
            [
             1,
             "#276419"
            ]
           ],
           "sequential": [
            [
             0,
             "#0d0887"
            ],
            [
             0.1111111111111111,
             "#46039f"
            ],
            [
             0.2222222222222222,
             "#7201a8"
            ],
            [
             0.3333333333333333,
             "#9c179e"
            ],
            [
             0.4444444444444444,
             "#bd3786"
            ],
            [
             0.5555555555555556,
             "#d8576b"
            ],
            [
             0.6666666666666666,
             "#ed7953"
            ],
            [
             0.7777777777777778,
             "#fb9f3a"
            ],
            [
             0.8888888888888888,
             "#fdca26"
            ],
            [
             1,
             "#f0f921"
            ]
           ],
           "sequentialminus": [
            [
             0,
             "#0d0887"
            ],
            [
             0.1111111111111111,
             "#46039f"
            ],
            [
             0.2222222222222222,
             "#7201a8"
            ],
            [
             0.3333333333333333,
             "#9c179e"
            ],
            [
             0.4444444444444444,
             "#bd3786"
            ],
            [
             0.5555555555555556,
             "#d8576b"
            ],
            [
             0.6666666666666666,
             "#ed7953"
            ],
            [
             0.7777777777777778,
             "#fb9f3a"
            ],
            [
             0.8888888888888888,
             "#fdca26"
            ],
            [
             1,
             "#f0f921"
            ]
           ]
          },
          "colorway": [
           "#636efa",
           "#EF553B",
           "#00cc96",
           "#ab63fa",
           "#FFA15A",
           "#19d3f3",
           "#FF6692",
           "#B6E880",
           "#FF97FF",
           "#FECB52"
          ],
          "font": {
           "color": "#2a3f5f"
          },
          "geo": {
           "bgcolor": "white",
           "lakecolor": "white",
           "landcolor": "#E5ECF6",
           "showlakes": true,
           "showland": true,
           "subunitcolor": "white"
          },
          "hoverlabel": {
           "align": "left"
          },
          "hovermode": "closest",
          "mapbox": {
           "style": "light"
          },
          "paper_bgcolor": "white",
          "plot_bgcolor": "#E5ECF6",
          "polar": {
           "angularaxis": {
            "gridcolor": "white",
            "linecolor": "white",
            "ticks": ""
           },
           "bgcolor": "#E5ECF6",
           "radialaxis": {
            "gridcolor": "white",
            "linecolor": "white",
            "ticks": ""
           }
          },
          "scene": {
           "xaxis": {
            "backgroundcolor": "#E5ECF6",
            "gridcolor": "white",
            "gridwidth": 2,
            "linecolor": "white",
            "showbackground": true,
            "ticks": "",
            "zerolinecolor": "white"
           },
           "yaxis": {
            "backgroundcolor": "#E5ECF6",
            "gridcolor": "white",
            "gridwidth": 2,
            "linecolor": "white",
            "showbackground": true,
            "ticks": "",
            "zerolinecolor": "white"
           },
           "zaxis": {
            "backgroundcolor": "#E5ECF6",
            "gridcolor": "white",
            "gridwidth": 2,
            "linecolor": "white",
            "showbackground": true,
            "ticks": "",
            "zerolinecolor": "white"
           }
          },
          "shapedefaults": {
           "line": {
            "color": "#2a3f5f"
           }
          },
          "ternary": {
           "aaxis": {
            "gridcolor": "white",
            "linecolor": "white",
            "ticks": ""
           },
           "baxis": {
            "gridcolor": "white",
            "linecolor": "white",
            "ticks": ""
           },
           "bgcolor": "#E5ECF6",
           "caxis": {
            "gridcolor": "white",
            "linecolor": "white",
            "ticks": ""
           }
          },
          "title": {
           "x": 0.05
          },
          "xaxis": {
           "automargin": true,
           "gridcolor": "white",
           "linecolor": "white",
           "ticks": "",
           "title": {
            "standoff": 15
           },
           "zerolinecolor": "white",
           "zerolinewidth": 2
          },
          "yaxis": {
           "automargin": true,
           "gridcolor": "white",
           "linecolor": "white",
           "ticks": "",
           "title": {
            "standoff": 15
           },
           "zerolinecolor": "white",
           "zerolinewidth": 2
          }
         }
        },
        "title": {
         "text": "SNAP Usage Levels Per State"
        },
        "xaxis": {
         "anchor": "y",
         "domain": [
          0,
          1
         ],
         "title": {
          "text": "Name"
         }
        },
        "yaxis": {
         "anchor": "x",
         "domain": [
          0,
          1
         ],
         "title": {
          "text": "Percentage of Households with SNAP"
         }
        }
       }
      },
      "text/html": [
       "<div>                            <div id=\"f8be1f1a-9866-4171-9da5-7252ecee4c12\" class=\"plotly-graph-div\" style=\"height:525px; width:100%;\"></div>            <script type=\"text/javascript\">                require([\"plotly\"], function(Plotly) {                    window.PLOTLYENV=window.PLOTLYENV || {};                                    if (document.getElementById(\"f8be1f1a-9866-4171-9da5-7252ecee4c12\")) {                    Plotly.newPlot(                        \"f8be1f1a-9866-4171-9da5-7252ecee4c12\",                        [{\"alignmentgroup\": \"True\", \"hovertemplate\": \"Name=%{x}<br>Percentage of Households with SNAP=%{y}<extra></extra>\", \"legendgroup\": \"\", \"marker\": {\"color\": \"#636efa\"}, \"name\": \"\", \"offsetgroup\": \"\", \"orientation\": \"v\", \"showlegend\": false, \"textposition\": \"auto\", \"type\": \"bar\", \"x\": [\"New Mexico\", \"Oregon\", \"West Virginia\", \"Mississippi\", \"Rhode Island\", \"Louisiana\", \"Kentucky\", \"New York\", \"Tennessee\", \"Alabama\", \"Maine\", \"Florida\", \"Michigan\", \"District of Columbia\", \"Georgia\", \"Ohio\", \"North Carolina\", \"South Carolina\", \"Pennsylvania\", \"Illinois\", \"Oklahoma\", \"Arkansas\", \"Washington\", \"Texas\", \"Connecticut\", \"Nevada\", \"Massachusetts\", \"Vermont\", \"Arizona\", \"Missouri\", \"Delaware\", \"Wisconsin\", \"Hawaii\", \"Indiana\", \"Iowa\", \"Alaska\", \"Maryland\", \"Idaho\", \"Montana\", \"South Dakota\", \"California\", \"New Jersey\", \"Virginia\", \"Nebraska\", \"Minnesota\", \"Kansas\", \"Colorado\", \"New Hampshire\", \"Utah\", \"North Dakota\", \"Wyoming\"], \"xaxis\": \"x\", \"y\": [16.9, 16.8, 16.6, 16.5, 16.0, 15.6, 15.2, 15.0, 14.8, 14.5, 14.3, 14.2, 14.1, 13.9, 13.7, 13.7, 13.2, 13.2, 13.2, 13.1, 13.1, 12.7, 12.5, 12.2, 12.2, 12.2, 12.0, 12.0, 11.8, 11.6, 11.6, 11.5, 11.1, 10.7, 10.7, 10.6, 10.6, 10.6, 9.8, 9.6, 9.1, 9.0, 8.7, 8.7, 8.2, 8.1, 8.0, 7.2, 7.2, 6.9, 5.7], \"yaxis\": \"y\"}],                        {\"barmode\": \"relative\", \"legend\": {\"tracegroupgap\": 0}, \"template\": {\"data\": {\"bar\": [{\"error_x\": {\"color\": \"#2a3f5f\"}, \"error_y\": {\"color\": \"#2a3f5f\"}, \"marker\": {\"line\": {\"color\": \"#E5ECF6\", \"width\": 0.5}}, \"type\": \"bar\"}], \"barpolar\": [{\"marker\": {\"line\": {\"color\": \"#E5ECF6\", \"width\": 0.5}}, \"type\": \"barpolar\"}], \"carpet\": [{\"aaxis\": {\"endlinecolor\": \"#2a3f5f\", \"gridcolor\": \"white\", \"linecolor\": \"white\", \"minorgridcolor\": \"white\", \"startlinecolor\": \"#2a3f5f\"}, \"baxis\": {\"endlinecolor\": \"#2a3f5f\", \"gridcolor\": \"white\", \"linecolor\": \"white\", \"minorgridcolor\": \"white\", \"startlinecolor\": \"#2a3f5f\"}, \"type\": \"carpet\"}], \"choropleth\": [{\"colorbar\": {\"outlinewidth\": 0, \"ticks\": \"\"}, \"type\": \"choropleth\"}], \"contour\": [{\"colorbar\": {\"outlinewidth\": 0, \"ticks\": \"\"}, \"colorscale\": [[0.0, \"#0d0887\"], [0.1111111111111111, \"#46039f\"], [0.2222222222222222, \"#7201a8\"], [0.3333333333333333, \"#9c179e\"], [0.4444444444444444, \"#bd3786\"], [0.5555555555555556, \"#d8576b\"], [0.6666666666666666, \"#ed7953\"], [0.7777777777777778, \"#fb9f3a\"], [0.8888888888888888, \"#fdca26\"], [1.0, \"#f0f921\"]], \"type\": \"contour\"}], \"contourcarpet\": [{\"colorbar\": {\"outlinewidth\": 0, \"ticks\": \"\"}, \"type\": \"contourcarpet\"}], \"heatmap\": [{\"colorbar\": {\"outlinewidth\": 0, \"ticks\": \"\"}, \"colorscale\": [[0.0, \"#0d0887\"], [0.1111111111111111, \"#46039f\"], [0.2222222222222222, \"#7201a8\"], [0.3333333333333333, \"#9c179e\"], [0.4444444444444444, \"#bd3786\"], [0.5555555555555556, \"#d8576b\"], [0.6666666666666666, \"#ed7953\"], [0.7777777777777778, \"#fb9f3a\"], [0.8888888888888888, \"#fdca26\"], [1.0, \"#f0f921\"]], \"type\": \"heatmap\"}], \"heatmapgl\": [{\"colorbar\": {\"outlinewidth\": 0, \"ticks\": \"\"}, \"colorscale\": [[0.0, \"#0d0887\"], [0.1111111111111111, \"#46039f\"], [0.2222222222222222, \"#7201a8\"], [0.3333333333333333, \"#9c179e\"], [0.4444444444444444, \"#bd3786\"], [0.5555555555555556, \"#d8576b\"], [0.6666666666666666, \"#ed7953\"], [0.7777777777777778, \"#fb9f3a\"], [0.8888888888888888, \"#fdca26\"], [1.0, \"#f0f921\"]], \"type\": \"heatmapgl\"}], \"histogram\": [{\"marker\": {\"colorbar\": {\"outlinewidth\": 0, \"ticks\": \"\"}}, \"type\": \"histogram\"}], \"histogram2d\": [{\"colorbar\": {\"outlinewidth\": 0, \"ticks\": \"\"}, \"colorscale\": [[0.0, \"#0d0887\"], [0.1111111111111111, \"#46039f\"], [0.2222222222222222, \"#7201a8\"], [0.3333333333333333, \"#9c179e\"], [0.4444444444444444, \"#bd3786\"], [0.5555555555555556, \"#d8576b\"], [0.6666666666666666, \"#ed7953\"], [0.7777777777777778, \"#fb9f3a\"], [0.8888888888888888, \"#fdca26\"], [1.0, \"#f0f921\"]], \"type\": \"histogram2d\"}], \"histogram2dcontour\": [{\"colorbar\": {\"outlinewidth\": 0, \"ticks\": \"\"}, \"colorscale\": [[0.0, \"#0d0887\"], [0.1111111111111111, \"#46039f\"], [0.2222222222222222, \"#7201a8\"], [0.3333333333333333, \"#9c179e\"], [0.4444444444444444, \"#bd3786\"], [0.5555555555555556, \"#d8576b\"], [0.6666666666666666, \"#ed7953\"], [0.7777777777777778, \"#fb9f3a\"], [0.8888888888888888, \"#fdca26\"], [1.0, \"#f0f921\"]], \"type\": \"histogram2dcontour\"}], \"mesh3d\": [{\"colorbar\": {\"outlinewidth\": 0, \"ticks\": \"\"}, \"type\": \"mesh3d\"}], \"parcoords\": [{\"line\": {\"colorbar\": {\"outlinewidth\": 0, \"ticks\": \"\"}}, \"type\": \"parcoords\"}], \"pie\": [{\"automargin\": true, \"type\": \"pie\"}], \"scatter\": [{\"marker\": {\"colorbar\": {\"outlinewidth\": 0, \"ticks\": \"\"}}, \"type\": \"scatter\"}], \"scatter3d\": [{\"line\": {\"colorbar\": {\"outlinewidth\": 0, \"ticks\": \"\"}}, \"marker\": {\"colorbar\": {\"outlinewidth\": 0, \"ticks\": \"\"}}, \"type\": \"scatter3d\"}], \"scattercarpet\": [{\"marker\": {\"colorbar\": {\"outlinewidth\": 0, \"ticks\": \"\"}}, \"type\": \"scattercarpet\"}], \"scattergeo\": [{\"marker\": {\"colorbar\": {\"outlinewidth\": 0, \"ticks\": \"\"}}, \"type\": \"scattergeo\"}], \"scattergl\": [{\"marker\": {\"colorbar\": {\"outlinewidth\": 0, \"ticks\": \"\"}}, \"type\": \"scattergl\"}], \"scattermapbox\": [{\"marker\": {\"colorbar\": {\"outlinewidth\": 0, \"ticks\": \"\"}}, \"type\": \"scattermapbox\"}], \"scatterpolar\": [{\"marker\": {\"colorbar\": {\"outlinewidth\": 0, \"ticks\": \"\"}}, \"type\": \"scatterpolar\"}], \"scatterpolargl\": [{\"marker\": {\"colorbar\": {\"outlinewidth\": 0, \"ticks\": \"\"}}, \"type\": \"scatterpolargl\"}], \"scatterternary\": [{\"marker\": {\"colorbar\": {\"outlinewidth\": 0, \"ticks\": \"\"}}, \"type\": \"scatterternary\"}], \"surface\": [{\"colorbar\": {\"outlinewidth\": 0, \"ticks\": \"\"}, \"colorscale\": [[0.0, \"#0d0887\"], [0.1111111111111111, \"#46039f\"], [0.2222222222222222, \"#7201a8\"], [0.3333333333333333, \"#9c179e\"], [0.4444444444444444, \"#bd3786\"], [0.5555555555555556, \"#d8576b\"], [0.6666666666666666, \"#ed7953\"], [0.7777777777777778, \"#fb9f3a\"], [0.8888888888888888, \"#fdca26\"], [1.0, \"#f0f921\"]], \"type\": \"surface\"}], \"table\": [{\"cells\": {\"fill\": {\"color\": \"#EBF0F8\"}, \"line\": {\"color\": \"white\"}}, \"header\": {\"fill\": {\"color\": \"#C8D4E3\"}, \"line\": {\"color\": \"white\"}}, \"type\": \"table\"}]}, \"layout\": {\"annotationdefaults\": {\"arrowcolor\": \"#2a3f5f\", \"arrowhead\": 0, \"arrowwidth\": 1}, \"coloraxis\": {\"colorbar\": {\"outlinewidth\": 0, \"ticks\": \"\"}}, \"colorscale\": {\"diverging\": [[0, \"#8e0152\"], [0.1, \"#c51b7d\"], [0.2, \"#de77ae\"], [0.3, \"#f1b6da\"], [0.4, \"#fde0ef\"], [0.5, \"#f7f7f7\"], [0.6, \"#e6f5d0\"], [0.7, \"#b8e186\"], [0.8, \"#7fbc41\"], [0.9, \"#4d9221\"], [1, \"#276419\"]], \"sequential\": [[0.0, \"#0d0887\"], [0.1111111111111111, \"#46039f\"], [0.2222222222222222, \"#7201a8\"], [0.3333333333333333, \"#9c179e\"], [0.4444444444444444, \"#bd3786\"], [0.5555555555555556, \"#d8576b\"], [0.6666666666666666, \"#ed7953\"], [0.7777777777777778, \"#fb9f3a\"], [0.8888888888888888, \"#fdca26\"], [1.0, \"#f0f921\"]], \"sequentialminus\": [[0.0, \"#0d0887\"], [0.1111111111111111, \"#46039f\"], [0.2222222222222222, \"#7201a8\"], [0.3333333333333333, \"#9c179e\"], [0.4444444444444444, \"#bd3786\"], [0.5555555555555556, \"#d8576b\"], [0.6666666666666666, \"#ed7953\"], [0.7777777777777778, \"#fb9f3a\"], [0.8888888888888888, \"#fdca26\"], [1.0, \"#f0f921\"]]}, \"colorway\": [\"#636efa\", \"#EF553B\", \"#00cc96\", \"#ab63fa\", \"#FFA15A\", \"#19d3f3\", \"#FF6692\", \"#B6E880\", \"#FF97FF\", \"#FECB52\"], \"font\": {\"color\": \"#2a3f5f\"}, \"geo\": {\"bgcolor\": \"white\", \"lakecolor\": \"white\", \"landcolor\": \"#E5ECF6\", \"showlakes\": true, \"showland\": true, \"subunitcolor\": \"white\"}, \"hoverlabel\": {\"align\": \"left\"}, \"hovermode\": \"closest\", \"mapbox\": {\"style\": \"light\"}, \"paper_bgcolor\": \"white\", \"plot_bgcolor\": \"#E5ECF6\", \"polar\": {\"angularaxis\": {\"gridcolor\": \"white\", \"linecolor\": \"white\", \"ticks\": \"\"}, \"bgcolor\": \"#E5ECF6\", \"radialaxis\": {\"gridcolor\": \"white\", \"linecolor\": \"white\", \"ticks\": \"\"}}, \"scene\": {\"xaxis\": {\"backgroundcolor\": \"#E5ECF6\", \"gridcolor\": \"white\", \"gridwidth\": 2, \"linecolor\": \"white\", \"showbackground\": true, \"ticks\": \"\", \"zerolinecolor\": \"white\"}, \"yaxis\": {\"backgroundcolor\": \"#E5ECF6\", \"gridcolor\": \"white\", \"gridwidth\": 2, \"linecolor\": \"white\", \"showbackground\": true, \"ticks\": \"\", \"zerolinecolor\": \"white\"}, \"zaxis\": {\"backgroundcolor\": \"#E5ECF6\", \"gridcolor\": \"white\", \"gridwidth\": 2, \"linecolor\": \"white\", \"showbackground\": true, \"ticks\": \"\", \"zerolinecolor\": \"white\"}}, \"shapedefaults\": {\"line\": {\"color\": \"#2a3f5f\"}}, \"ternary\": {\"aaxis\": {\"gridcolor\": \"white\", \"linecolor\": \"white\", \"ticks\": \"\"}, \"baxis\": {\"gridcolor\": \"white\", \"linecolor\": \"white\", \"ticks\": \"\"}, \"bgcolor\": \"#E5ECF6\", \"caxis\": {\"gridcolor\": \"white\", \"linecolor\": \"white\", \"ticks\": \"\"}}, \"title\": {\"x\": 0.05}, \"xaxis\": {\"automargin\": true, \"gridcolor\": \"white\", \"linecolor\": \"white\", \"ticks\": \"\", \"title\": {\"standoff\": 15}, \"zerolinecolor\": \"white\", \"zerolinewidth\": 2}, \"yaxis\": {\"automargin\": true, \"gridcolor\": \"white\", \"linecolor\": \"white\", \"ticks\": \"\", \"title\": {\"standoff\": 15}, \"zerolinecolor\": \"white\", \"zerolinewidth\": 2}}}, \"title\": {\"text\": \"SNAP Usage Levels Per State\"}, \"xaxis\": {\"anchor\": \"y\", \"domain\": [0.0, 1.0], \"title\": {\"text\": \"Name\"}}, \"yaxis\": {\"anchor\": \"x\", \"domain\": [0.0, 1.0], \"title\": {\"text\": \"Percentage of Households with SNAP\"}}},                        {\"responsive\": true}                    ).then(function(){\n",
       "                            \n",
       "var gd = document.getElementById('f8be1f1a-9866-4171-9da5-7252ecee4c12');\n",
       "var x = new MutationObserver(function (mutations, observer) {{\n",
       "        var display = window.getComputedStyle(gd).display;\n",
       "        if (!display || display === 'none') {{\n",
       "            console.log([gd, 'removed!']);\n",
       "            Plotly.purge(gd);\n",
       "            observer.disconnect();\n",
       "        }}\n",
       "}});\n",
       "\n",
       "// Listen for the removal of the full notebook cells\n",
       "var notebookContainer = gd.closest('#notebook-container');\n",
       "if (notebookContainer) {{\n",
       "    x.observe(notebookContainer, {childList: true});\n",
       "}}\n",
       "\n",
       "// Listen for the clearing of the current output cell\n",
       "var outputEl = gd.closest('.output');\n",
       "if (outputEl) {{\n",
       "    x.observe(outputEl, {childList: true});\n",
       "}}\n",
       "\n",
       "                        })                };                });            </script>        </div>"
      ]
     },
     "metadata": {},
     "output_type": "display_data"
    }
   ],
   "source": [
    "px.bar(snap_sorted,\n",
    "       x='Name',\n",
    "       y='Percentage of Households with SNAP',\n",
    "       title='SNAP Usage Levels Per State')"
   ]
  },
  {
   "cell_type": "markdown",
   "metadata": {},
   "source": [
    "## Map Visualization\n",
    "I can now make a interactive map showing the different levels of SNAP usage of each state.\n",
    "\n",
    "Because my dataset did not have a column for state codes, I had to make it so that the full state name translated to the state code. "
   ]
  },
  {
   "cell_type": "code",
   "execution_count": 23,
   "metadata": {},
   "outputs": [],
   "source": [
    "Name = {\n",
    "    'District of Columbia' : 'dc','Mississippi': 'MS', 'Oklahoma': 'OK', \n",
    "    'Delaware': 'DE', 'Minnesota': 'MN', 'Illinois': 'IL', 'Arkansas': 'AR', \n",
    "    'New Mexico': 'NM', 'Indiana': 'IN', 'Maryland': 'MD', 'Louisiana': 'LA', \n",
    "    'Idaho': 'ID', 'Wyoming': 'WY', 'Tennessee': 'TN', 'Arizona': 'AZ', \n",
    "    'Iowa': 'IA', 'Michigan': 'MI', 'Kansas': 'KS', 'Utah': 'UT', \n",
    "    'Virginia': 'VA', 'Oregon': 'OR', 'Connecticut': 'CT', 'Montana': 'MT', \n",
    "    'California': 'CA', 'Massachusetts': 'MA', 'West Virginia': 'WV', \n",
    "    'South Carolina': 'SC', 'New Hampshire': 'NH', 'Wisconsin': 'WI',\n",
    "    'Vermont': 'VT', 'Georgia': 'GA', 'North Dakota': 'ND', \n",
    "    'Pennsylvania': 'PA', 'Florida': 'FL', 'Alaska': 'AK', 'Kentucky': 'KY', \n",
    "    'Hawaii': 'HI', 'Nebraska': 'NE', 'Missouri': 'MO', 'Ohio': 'OH', \n",
    "    'Alabama': 'AL', 'Rhode Island': 'RI', 'South Dakota': 'SD', \n",
    "    'Colorado': 'CO', 'New Jersey': 'NJ', 'Washington': 'WA', \n",
    "    'North Carolina': 'NC', 'New York': 'NY', 'Texas': 'TX', \n",
    "    'Nevada': 'NV', 'Maine': 'ME'}\n",
    "\n",
    "snap['code'] = snap['Name'].apply(lambda x : Name[x])"
   ]
  },
  {
   "cell_type": "code",
   "execution_count": 25,
   "metadata": {},
   "outputs": [
    {
     "data": {
      "application/vnd.plotly.v1+json": {
       "config": {
        "plotlyServerURL": "https://plot.ly"
       },
       "data": [
        {
         "colorbar": {
          "title": {
           "text": "Percentage of Households with SNAP"
          }
         },
         "colorscale": [
          [
           0,
           "rgb(247,252,245)"
          ],
          [
           0.125,
           "rgb(229,245,224)"
          ],
          [
           0.25,
           "rgb(199,233,192)"
          ],
          [
           0.375,
           "rgb(161,217,155)"
          ],
          [
           0.5,
           "rgb(116,196,118)"
          ],
          [
           0.625,
           "rgb(65,171,93)"
          ],
          [
           0.75,
           "rgb(35,139,69)"
          ],
          [
           0.875,
           "rgb(0,109,44)"
          ],
          [
           1,
           "rgb(0,68,27)"
          ]
         ],
         "locationmode": "USA-states",
         "locations": [
          "AL",
          "AK",
          "AZ",
          "AR",
          "CA",
          "CO",
          "CT",
          "DE",
          "dc",
          "FL",
          "GA",
          "HI",
          "ID",
          "IL",
          "IN",
          "IA",
          "KS",
          "KY",
          "LA",
          "ME",
          "MD",
          "MA",
          "MI",
          "MN",
          "MS",
          "MO",
          "MT",
          "NE",
          "NV",
          "NH",
          "NJ",
          "NM",
          "NY",
          "NC",
          "ND",
          "OH",
          "OK",
          "OR",
          "PA",
          "RI",
          "SC",
          "SD",
          "TN",
          "TX",
          "UT",
          "VT",
          "VA",
          "WA",
          "WV",
          "WI",
          "WY"
         ],
         "type": "choropleth",
         "z": [
          14.5,
          10.6,
          11.8,
          12.7,
          9.1,
          8,
          12.2,
          11.6,
          13.9,
          14.2,
          13.7,
          11.1,
          10.6,
          13.1,
          10.7,
          10.7,
          8.1,
          15.2,
          15.6,
          14.3,
          10.6,
          12,
          14.1,
          8.2,
          16.5,
          11.6,
          9.8,
          8.7,
          12.2,
          7.2,
          9,
          16.9,
          15,
          13.2,
          6.9,
          13.7,
          13.1,
          16.8,
          13.2,
          16,
          13.2,
          9.6,
          14.8,
          12.2,
          7.2,
          12,
          8.7,
          12.5,
          16.6,
          11.5,
          5.7
         ]
        }
       ],
       "layout": {
        "geo": {
         "scope": "usa"
        },
        "template": {
         "data": {
          "bar": [
           {
            "error_x": {
             "color": "#2a3f5f"
            },
            "error_y": {
             "color": "#2a3f5f"
            },
            "marker": {
             "line": {
              "color": "#E5ECF6",
              "width": 0.5
             }
            },
            "type": "bar"
           }
          ],
          "barpolar": [
           {
            "marker": {
             "line": {
              "color": "#E5ECF6",
              "width": 0.5
             }
            },
            "type": "barpolar"
           }
          ],
          "carpet": [
           {
            "aaxis": {
             "endlinecolor": "#2a3f5f",
             "gridcolor": "white",
             "linecolor": "white",
             "minorgridcolor": "white",
             "startlinecolor": "#2a3f5f"
            },
            "baxis": {
             "endlinecolor": "#2a3f5f",
             "gridcolor": "white",
             "linecolor": "white",
             "minorgridcolor": "white",
             "startlinecolor": "#2a3f5f"
            },
            "type": "carpet"
           }
          ],
          "choropleth": [
           {
            "colorbar": {
             "outlinewidth": 0,
             "ticks": ""
            },
            "type": "choropleth"
           }
          ],
          "contour": [
           {
            "colorbar": {
             "outlinewidth": 0,
             "ticks": ""
            },
            "colorscale": [
             [
              0,
              "#0d0887"
             ],
             [
              0.1111111111111111,
              "#46039f"
             ],
             [
              0.2222222222222222,
              "#7201a8"
             ],
             [
              0.3333333333333333,
              "#9c179e"
             ],
             [
              0.4444444444444444,
              "#bd3786"
             ],
             [
              0.5555555555555556,
              "#d8576b"
             ],
             [
              0.6666666666666666,
              "#ed7953"
             ],
             [
              0.7777777777777778,
              "#fb9f3a"
             ],
             [
              0.8888888888888888,
              "#fdca26"
             ],
             [
              1,
              "#f0f921"
             ]
            ],
            "type": "contour"
           }
          ],
          "contourcarpet": [
           {
            "colorbar": {
             "outlinewidth": 0,
             "ticks": ""
            },
            "type": "contourcarpet"
           }
          ],
          "heatmap": [
           {
            "colorbar": {
             "outlinewidth": 0,
             "ticks": ""
            },
            "colorscale": [
             [
              0,
              "#0d0887"
             ],
             [
              0.1111111111111111,
              "#46039f"
             ],
             [
              0.2222222222222222,
              "#7201a8"
             ],
             [
              0.3333333333333333,
              "#9c179e"
             ],
             [
              0.4444444444444444,
              "#bd3786"
             ],
             [
              0.5555555555555556,
              "#d8576b"
             ],
             [
              0.6666666666666666,
              "#ed7953"
             ],
             [
              0.7777777777777778,
              "#fb9f3a"
             ],
             [
              0.8888888888888888,
              "#fdca26"
             ],
             [
              1,
              "#f0f921"
             ]
            ],
            "type": "heatmap"
           }
          ],
          "heatmapgl": [
           {
            "colorbar": {
             "outlinewidth": 0,
             "ticks": ""
            },
            "colorscale": [
             [
              0,
              "#0d0887"
             ],
             [
              0.1111111111111111,
              "#46039f"
             ],
             [
              0.2222222222222222,
              "#7201a8"
             ],
             [
              0.3333333333333333,
              "#9c179e"
             ],
             [
              0.4444444444444444,
              "#bd3786"
             ],
             [
              0.5555555555555556,
              "#d8576b"
             ],
             [
              0.6666666666666666,
              "#ed7953"
             ],
             [
              0.7777777777777778,
              "#fb9f3a"
             ],
             [
              0.8888888888888888,
              "#fdca26"
             ],
             [
              1,
              "#f0f921"
             ]
            ],
            "type": "heatmapgl"
           }
          ],
          "histogram": [
           {
            "marker": {
             "colorbar": {
              "outlinewidth": 0,
              "ticks": ""
             }
            },
            "type": "histogram"
           }
          ],
          "histogram2d": [
           {
            "colorbar": {
             "outlinewidth": 0,
             "ticks": ""
            },
            "colorscale": [
             [
              0,
              "#0d0887"
             ],
             [
              0.1111111111111111,
              "#46039f"
             ],
             [
              0.2222222222222222,
              "#7201a8"
             ],
             [
              0.3333333333333333,
              "#9c179e"
             ],
             [
              0.4444444444444444,
              "#bd3786"
             ],
             [
              0.5555555555555556,
              "#d8576b"
             ],
             [
              0.6666666666666666,
              "#ed7953"
             ],
             [
              0.7777777777777778,
              "#fb9f3a"
             ],
             [
              0.8888888888888888,
              "#fdca26"
             ],
             [
              1,
              "#f0f921"
             ]
            ],
            "type": "histogram2d"
           }
          ],
          "histogram2dcontour": [
           {
            "colorbar": {
             "outlinewidth": 0,
             "ticks": ""
            },
            "colorscale": [
             [
              0,
              "#0d0887"
             ],
             [
              0.1111111111111111,
              "#46039f"
             ],
             [
              0.2222222222222222,
              "#7201a8"
             ],
             [
              0.3333333333333333,
              "#9c179e"
             ],
             [
              0.4444444444444444,
              "#bd3786"
             ],
             [
              0.5555555555555556,
              "#d8576b"
             ],
             [
              0.6666666666666666,
              "#ed7953"
             ],
             [
              0.7777777777777778,
              "#fb9f3a"
             ],
             [
              0.8888888888888888,
              "#fdca26"
             ],
             [
              1,
              "#f0f921"
             ]
            ],
            "type": "histogram2dcontour"
           }
          ],
          "mesh3d": [
           {
            "colorbar": {
             "outlinewidth": 0,
             "ticks": ""
            },
            "type": "mesh3d"
           }
          ],
          "parcoords": [
           {
            "line": {
             "colorbar": {
              "outlinewidth": 0,
              "ticks": ""
             }
            },
            "type": "parcoords"
           }
          ],
          "pie": [
           {
            "automargin": true,
            "type": "pie"
           }
          ],
          "scatter": [
           {
            "marker": {
             "colorbar": {
              "outlinewidth": 0,
              "ticks": ""
             }
            },
            "type": "scatter"
           }
          ],
          "scatter3d": [
           {
            "line": {
             "colorbar": {
              "outlinewidth": 0,
              "ticks": ""
             }
            },
            "marker": {
             "colorbar": {
              "outlinewidth": 0,
              "ticks": ""
             }
            },
            "type": "scatter3d"
           }
          ],
          "scattercarpet": [
           {
            "marker": {
             "colorbar": {
              "outlinewidth": 0,
              "ticks": ""
             }
            },
            "type": "scattercarpet"
           }
          ],
          "scattergeo": [
           {
            "marker": {
             "colorbar": {
              "outlinewidth": 0,
              "ticks": ""
             }
            },
            "type": "scattergeo"
           }
          ],
          "scattergl": [
           {
            "marker": {
             "colorbar": {
              "outlinewidth": 0,
              "ticks": ""
             }
            },
            "type": "scattergl"
           }
          ],
          "scattermapbox": [
           {
            "marker": {
             "colorbar": {
              "outlinewidth": 0,
              "ticks": ""
             }
            },
            "type": "scattermapbox"
           }
          ],
          "scatterpolar": [
           {
            "marker": {
             "colorbar": {
              "outlinewidth": 0,
              "ticks": ""
             }
            },
            "type": "scatterpolar"
           }
          ],
          "scatterpolargl": [
           {
            "marker": {
             "colorbar": {
              "outlinewidth": 0,
              "ticks": ""
             }
            },
            "type": "scatterpolargl"
           }
          ],
          "scatterternary": [
           {
            "marker": {
             "colorbar": {
              "outlinewidth": 0,
              "ticks": ""
             }
            },
            "type": "scatterternary"
           }
          ],
          "surface": [
           {
            "colorbar": {
             "outlinewidth": 0,
             "ticks": ""
            },
            "colorscale": [
             [
              0,
              "#0d0887"
             ],
             [
              0.1111111111111111,
              "#46039f"
             ],
             [
              0.2222222222222222,
              "#7201a8"
             ],
             [
              0.3333333333333333,
              "#9c179e"
             ],
             [
              0.4444444444444444,
              "#bd3786"
             ],
             [
              0.5555555555555556,
              "#d8576b"
             ],
             [
              0.6666666666666666,
              "#ed7953"
             ],
             [
              0.7777777777777778,
              "#fb9f3a"
             ],
             [
              0.8888888888888888,
              "#fdca26"
             ],
             [
              1,
              "#f0f921"
             ]
            ],
            "type": "surface"
           }
          ],
          "table": [
           {
            "cells": {
             "fill": {
              "color": "#EBF0F8"
             },
             "line": {
              "color": "white"
             }
            },
            "header": {
             "fill": {
              "color": "#C8D4E3"
             },
             "line": {
              "color": "white"
             }
            },
            "type": "table"
           }
          ]
         },
         "layout": {
          "annotationdefaults": {
           "arrowcolor": "#2a3f5f",
           "arrowhead": 0,
           "arrowwidth": 1
          },
          "coloraxis": {
           "colorbar": {
            "outlinewidth": 0,
            "ticks": ""
           }
          },
          "colorscale": {
           "diverging": [
            [
             0,
             "#8e0152"
            ],
            [
             0.1,
             "#c51b7d"
            ],
            [
             0.2,
             "#de77ae"
            ],
            [
             0.3,
             "#f1b6da"
            ],
            [
             0.4,
             "#fde0ef"
            ],
            [
             0.5,
             "#f7f7f7"
            ],
            [
             0.6,
             "#e6f5d0"
            ],
            [
             0.7,
             "#b8e186"
            ],
            [
             0.8,
             "#7fbc41"
            ],
            [
             0.9,
             "#4d9221"
            ],
            [
             1,
             "#276419"
            ]
           ],
           "sequential": [
            [
             0,
             "#0d0887"
            ],
            [
             0.1111111111111111,
             "#46039f"
            ],
            [
             0.2222222222222222,
             "#7201a8"
            ],
            [
             0.3333333333333333,
             "#9c179e"
            ],
            [
             0.4444444444444444,
             "#bd3786"
            ],
            [
             0.5555555555555556,
             "#d8576b"
            ],
            [
             0.6666666666666666,
             "#ed7953"
            ],
            [
             0.7777777777777778,
             "#fb9f3a"
            ],
            [
             0.8888888888888888,
             "#fdca26"
            ],
            [
             1,
             "#f0f921"
            ]
           ],
           "sequentialminus": [
            [
             0,
             "#0d0887"
            ],
            [
             0.1111111111111111,
             "#46039f"
            ],
            [
             0.2222222222222222,
             "#7201a8"
            ],
            [
             0.3333333333333333,
             "#9c179e"
            ],
            [
             0.4444444444444444,
             "#bd3786"
            ],
            [
             0.5555555555555556,
             "#d8576b"
            ],
            [
             0.6666666666666666,
             "#ed7953"
            ],
            [
             0.7777777777777778,
             "#fb9f3a"
            ],
            [
             0.8888888888888888,
             "#fdca26"
            ],
            [
             1,
             "#f0f921"
            ]
           ]
          },
          "colorway": [
           "#636efa",
           "#EF553B",
           "#00cc96",
           "#ab63fa",
           "#FFA15A",
           "#19d3f3",
           "#FF6692",
           "#B6E880",
           "#FF97FF",
           "#FECB52"
          ],
          "font": {
           "color": "#2a3f5f"
          },
          "geo": {
           "bgcolor": "white",
           "lakecolor": "white",
           "landcolor": "#E5ECF6",
           "showlakes": true,
           "showland": true,
           "subunitcolor": "white"
          },
          "hoverlabel": {
           "align": "left"
          },
          "hovermode": "closest",
          "mapbox": {
           "style": "light"
          },
          "paper_bgcolor": "white",
          "plot_bgcolor": "#E5ECF6",
          "polar": {
           "angularaxis": {
            "gridcolor": "white",
            "linecolor": "white",
            "ticks": ""
           },
           "bgcolor": "#E5ECF6",
           "radialaxis": {
            "gridcolor": "white",
            "linecolor": "white",
            "ticks": ""
           }
          },
          "scene": {
           "xaxis": {
            "backgroundcolor": "#E5ECF6",
            "gridcolor": "white",
            "gridwidth": 2,
            "linecolor": "white",
            "showbackground": true,
            "ticks": "",
            "zerolinecolor": "white"
           },
           "yaxis": {
            "backgroundcolor": "#E5ECF6",
            "gridcolor": "white",
            "gridwidth": 2,
            "linecolor": "white",
            "showbackground": true,
            "ticks": "",
            "zerolinecolor": "white"
           },
           "zaxis": {
            "backgroundcolor": "#E5ECF6",
            "gridcolor": "white",
            "gridwidth": 2,
            "linecolor": "white",
            "showbackground": true,
            "ticks": "",
            "zerolinecolor": "white"
           }
          },
          "shapedefaults": {
           "line": {
            "color": "#2a3f5f"
           }
          },
          "ternary": {
           "aaxis": {
            "gridcolor": "white",
            "linecolor": "white",
            "ticks": ""
           },
           "baxis": {
            "gridcolor": "white",
            "linecolor": "white",
            "ticks": ""
           },
           "bgcolor": "#E5ECF6",
           "caxis": {
            "gridcolor": "white",
            "linecolor": "white",
            "ticks": ""
           }
          },
          "title": {
           "x": 0.05
          },
          "xaxis": {
           "automargin": true,
           "gridcolor": "white",
           "linecolor": "white",
           "ticks": "",
           "title": {
            "standoff": 15
           },
           "zerolinecolor": "white",
           "zerolinewidth": 2
          },
          "yaxis": {
           "automargin": true,
           "gridcolor": "white",
           "linecolor": "white",
           "ticks": "",
           "title": {
            "standoff": 15
           },
           "zerolinecolor": "white",
           "zerolinewidth": 2
          }
         }
        },
        "title": {
         "text": "SNAP Usage Levels per State"
        }
       }
      },
      "text/html": [
       "<div>                            <div id=\"816eba50-6db9-41b4-8284-cf2bdd579ece\" class=\"plotly-graph-div\" style=\"height:525px; width:100%;\"></div>            <script type=\"text/javascript\">                require([\"plotly\"], function(Plotly) {                    window.PLOTLYENV=window.PLOTLYENV || {};                                    if (document.getElementById(\"816eba50-6db9-41b4-8284-cf2bdd579ece\")) {                    Plotly.newPlot(                        \"816eba50-6db9-41b4-8284-cf2bdd579ece\",                        [{\"colorbar\": {\"title\": {\"text\": \"Percentage of Households with SNAP\"}}, \"colorscale\": [[0.0, \"rgb(247,252,245)\"], [0.125, \"rgb(229,245,224)\"], [0.25, \"rgb(199,233,192)\"], [0.375, \"rgb(161,217,155)\"], [0.5, \"rgb(116,196,118)\"], [0.625, \"rgb(65,171,93)\"], [0.75, \"rgb(35,139,69)\"], [0.875, \"rgb(0,109,44)\"], [1.0, \"rgb(0,68,27)\"]], \"locationmode\": \"USA-states\", \"locations\": [\"AL\", \"AK\", \"AZ\", \"AR\", \"CA\", \"CO\", \"CT\", \"DE\", \"dc\", \"FL\", \"GA\", \"HI\", \"ID\", \"IL\", \"IN\", \"IA\", \"KS\", \"KY\", \"LA\", \"ME\", \"MD\", \"MA\", \"MI\", \"MN\", \"MS\", \"MO\", \"MT\", \"NE\", \"NV\", \"NH\", \"NJ\", \"NM\", \"NY\", \"NC\", \"ND\", \"OH\", \"OK\", \"OR\", \"PA\", \"RI\", \"SC\", \"SD\", \"TN\", \"TX\", \"UT\", \"VT\", \"VA\", \"WA\", \"WV\", \"WI\", \"WY\"], \"type\": \"choropleth\", \"z\": [14.5, 10.6, 11.8, 12.7, 9.1, 8.0, 12.2, 11.6, 13.9, 14.2, 13.7, 11.1, 10.6, 13.1, 10.7, 10.7, 8.1, 15.2, 15.6, 14.3, 10.6, 12.0, 14.1, 8.2, 16.5, 11.6, 9.8, 8.7, 12.2, 7.2, 9.0, 16.9, 15.0, 13.2, 6.9, 13.7, 13.1, 16.8, 13.2, 16.0, 13.2, 9.6, 14.8, 12.2, 7.2, 12.0, 8.7, 12.5, 16.6, 11.5, 5.7]}],                        {\"geo\": {\"scope\": \"usa\"}, \"template\": {\"data\": {\"bar\": [{\"error_x\": {\"color\": \"#2a3f5f\"}, \"error_y\": {\"color\": \"#2a3f5f\"}, \"marker\": {\"line\": {\"color\": \"#E5ECF6\", \"width\": 0.5}}, \"type\": \"bar\"}], \"barpolar\": [{\"marker\": {\"line\": {\"color\": \"#E5ECF6\", \"width\": 0.5}}, \"type\": \"barpolar\"}], \"carpet\": [{\"aaxis\": {\"endlinecolor\": \"#2a3f5f\", \"gridcolor\": \"white\", \"linecolor\": \"white\", \"minorgridcolor\": \"white\", \"startlinecolor\": \"#2a3f5f\"}, \"baxis\": {\"endlinecolor\": \"#2a3f5f\", \"gridcolor\": \"white\", \"linecolor\": \"white\", \"minorgridcolor\": \"white\", \"startlinecolor\": \"#2a3f5f\"}, \"type\": \"carpet\"}], \"choropleth\": [{\"colorbar\": {\"outlinewidth\": 0, \"ticks\": \"\"}, \"type\": \"choropleth\"}], \"contour\": [{\"colorbar\": {\"outlinewidth\": 0, \"ticks\": \"\"}, \"colorscale\": [[0.0, \"#0d0887\"], [0.1111111111111111, \"#46039f\"], [0.2222222222222222, \"#7201a8\"], [0.3333333333333333, \"#9c179e\"], [0.4444444444444444, \"#bd3786\"], [0.5555555555555556, \"#d8576b\"], [0.6666666666666666, \"#ed7953\"], [0.7777777777777778, \"#fb9f3a\"], [0.8888888888888888, \"#fdca26\"], [1.0, \"#f0f921\"]], \"type\": \"contour\"}], \"contourcarpet\": [{\"colorbar\": {\"outlinewidth\": 0, \"ticks\": \"\"}, \"type\": \"contourcarpet\"}], \"heatmap\": [{\"colorbar\": {\"outlinewidth\": 0, \"ticks\": \"\"}, \"colorscale\": [[0.0, \"#0d0887\"], [0.1111111111111111, \"#46039f\"], [0.2222222222222222, \"#7201a8\"], [0.3333333333333333, \"#9c179e\"], [0.4444444444444444, \"#bd3786\"], [0.5555555555555556, \"#d8576b\"], [0.6666666666666666, \"#ed7953\"], [0.7777777777777778, \"#fb9f3a\"], [0.8888888888888888, \"#fdca26\"], [1.0, \"#f0f921\"]], \"type\": \"heatmap\"}], \"heatmapgl\": [{\"colorbar\": {\"outlinewidth\": 0, \"ticks\": \"\"}, \"colorscale\": [[0.0, \"#0d0887\"], [0.1111111111111111, \"#46039f\"], [0.2222222222222222, \"#7201a8\"], [0.3333333333333333, \"#9c179e\"], [0.4444444444444444, \"#bd3786\"], [0.5555555555555556, \"#d8576b\"], [0.6666666666666666, \"#ed7953\"], [0.7777777777777778, \"#fb9f3a\"], [0.8888888888888888, \"#fdca26\"], [1.0, \"#f0f921\"]], \"type\": \"heatmapgl\"}], \"histogram\": [{\"marker\": {\"colorbar\": {\"outlinewidth\": 0, \"ticks\": \"\"}}, \"type\": \"histogram\"}], \"histogram2d\": [{\"colorbar\": {\"outlinewidth\": 0, \"ticks\": \"\"}, \"colorscale\": [[0.0, \"#0d0887\"], [0.1111111111111111, \"#46039f\"], [0.2222222222222222, \"#7201a8\"], [0.3333333333333333, \"#9c179e\"], [0.4444444444444444, \"#bd3786\"], [0.5555555555555556, \"#d8576b\"], [0.6666666666666666, \"#ed7953\"], [0.7777777777777778, \"#fb9f3a\"], [0.8888888888888888, \"#fdca26\"], [1.0, \"#f0f921\"]], \"type\": \"histogram2d\"}], \"histogram2dcontour\": [{\"colorbar\": {\"outlinewidth\": 0, \"ticks\": \"\"}, \"colorscale\": [[0.0, \"#0d0887\"], [0.1111111111111111, \"#46039f\"], [0.2222222222222222, \"#7201a8\"], [0.3333333333333333, \"#9c179e\"], [0.4444444444444444, \"#bd3786\"], [0.5555555555555556, \"#d8576b\"], [0.6666666666666666, \"#ed7953\"], [0.7777777777777778, \"#fb9f3a\"], [0.8888888888888888, \"#fdca26\"], [1.0, \"#f0f921\"]], \"type\": \"histogram2dcontour\"}], \"mesh3d\": [{\"colorbar\": {\"outlinewidth\": 0, \"ticks\": \"\"}, \"type\": \"mesh3d\"}], \"parcoords\": [{\"line\": {\"colorbar\": {\"outlinewidth\": 0, \"ticks\": \"\"}}, \"type\": \"parcoords\"}], \"pie\": [{\"automargin\": true, \"type\": \"pie\"}], \"scatter\": [{\"marker\": {\"colorbar\": {\"outlinewidth\": 0, \"ticks\": \"\"}}, \"type\": \"scatter\"}], \"scatter3d\": [{\"line\": {\"colorbar\": {\"outlinewidth\": 0, \"ticks\": \"\"}}, \"marker\": {\"colorbar\": {\"outlinewidth\": 0, \"ticks\": \"\"}}, \"type\": \"scatter3d\"}], \"scattercarpet\": [{\"marker\": {\"colorbar\": {\"outlinewidth\": 0, \"ticks\": \"\"}}, \"type\": \"scattercarpet\"}], \"scattergeo\": [{\"marker\": {\"colorbar\": {\"outlinewidth\": 0, \"ticks\": \"\"}}, \"type\": \"scattergeo\"}], \"scattergl\": [{\"marker\": {\"colorbar\": {\"outlinewidth\": 0, \"ticks\": \"\"}}, \"type\": \"scattergl\"}], \"scattermapbox\": [{\"marker\": {\"colorbar\": {\"outlinewidth\": 0, \"ticks\": \"\"}}, \"type\": \"scattermapbox\"}], \"scatterpolar\": [{\"marker\": {\"colorbar\": {\"outlinewidth\": 0, \"ticks\": \"\"}}, \"type\": \"scatterpolar\"}], \"scatterpolargl\": [{\"marker\": {\"colorbar\": {\"outlinewidth\": 0, \"ticks\": \"\"}}, \"type\": \"scatterpolargl\"}], \"scatterternary\": [{\"marker\": {\"colorbar\": {\"outlinewidth\": 0, \"ticks\": \"\"}}, \"type\": \"scatterternary\"}], \"surface\": [{\"colorbar\": {\"outlinewidth\": 0, \"ticks\": \"\"}, \"colorscale\": [[0.0, \"#0d0887\"], [0.1111111111111111, \"#46039f\"], [0.2222222222222222, \"#7201a8\"], [0.3333333333333333, \"#9c179e\"], [0.4444444444444444, \"#bd3786\"], [0.5555555555555556, \"#d8576b\"], [0.6666666666666666, \"#ed7953\"], [0.7777777777777778, \"#fb9f3a\"], [0.8888888888888888, \"#fdca26\"], [1.0, \"#f0f921\"]], \"type\": \"surface\"}], \"table\": [{\"cells\": {\"fill\": {\"color\": \"#EBF0F8\"}, \"line\": {\"color\": \"white\"}}, \"header\": {\"fill\": {\"color\": \"#C8D4E3\"}, \"line\": {\"color\": \"white\"}}, \"type\": \"table\"}]}, \"layout\": {\"annotationdefaults\": {\"arrowcolor\": \"#2a3f5f\", \"arrowhead\": 0, \"arrowwidth\": 1}, \"coloraxis\": {\"colorbar\": {\"outlinewidth\": 0, \"ticks\": \"\"}}, \"colorscale\": {\"diverging\": [[0, \"#8e0152\"], [0.1, \"#c51b7d\"], [0.2, \"#de77ae\"], [0.3, \"#f1b6da\"], [0.4, \"#fde0ef\"], [0.5, \"#f7f7f7\"], [0.6, \"#e6f5d0\"], [0.7, \"#b8e186\"], [0.8, \"#7fbc41\"], [0.9, \"#4d9221\"], [1, \"#276419\"]], \"sequential\": [[0.0, \"#0d0887\"], [0.1111111111111111, \"#46039f\"], [0.2222222222222222, \"#7201a8\"], [0.3333333333333333, \"#9c179e\"], [0.4444444444444444, \"#bd3786\"], [0.5555555555555556, \"#d8576b\"], [0.6666666666666666, \"#ed7953\"], [0.7777777777777778, \"#fb9f3a\"], [0.8888888888888888, \"#fdca26\"], [1.0, \"#f0f921\"]], \"sequentialminus\": [[0.0, \"#0d0887\"], [0.1111111111111111, \"#46039f\"], [0.2222222222222222, \"#7201a8\"], [0.3333333333333333, \"#9c179e\"], [0.4444444444444444, \"#bd3786\"], [0.5555555555555556, \"#d8576b\"], [0.6666666666666666, \"#ed7953\"], [0.7777777777777778, \"#fb9f3a\"], [0.8888888888888888, \"#fdca26\"], [1.0, \"#f0f921\"]]}, \"colorway\": [\"#636efa\", \"#EF553B\", \"#00cc96\", \"#ab63fa\", \"#FFA15A\", \"#19d3f3\", \"#FF6692\", \"#B6E880\", \"#FF97FF\", \"#FECB52\"], \"font\": {\"color\": \"#2a3f5f\"}, \"geo\": {\"bgcolor\": \"white\", \"lakecolor\": \"white\", \"landcolor\": \"#E5ECF6\", \"showlakes\": true, \"showland\": true, \"subunitcolor\": \"white\"}, \"hoverlabel\": {\"align\": \"left\"}, \"hovermode\": \"closest\", \"mapbox\": {\"style\": \"light\"}, \"paper_bgcolor\": \"white\", \"plot_bgcolor\": \"#E5ECF6\", \"polar\": {\"angularaxis\": {\"gridcolor\": \"white\", \"linecolor\": \"white\", \"ticks\": \"\"}, \"bgcolor\": \"#E5ECF6\", \"radialaxis\": {\"gridcolor\": \"white\", \"linecolor\": \"white\", \"ticks\": \"\"}}, \"scene\": {\"xaxis\": {\"backgroundcolor\": \"#E5ECF6\", \"gridcolor\": \"white\", \"gridwidth\": 2, \"linecolor\": \"white\", \"showbackground\": true, \"ticks\": \"\", \"zerolinecolor\": \"white\"}, \"yaxis\": {\"backgroundcolor\": \"#E5ECF6\", \"gridcolor\": \"white\", \"gridwidth\": 2, \"linecolor\": \"white\", \"showbackground\": true, \"ticks\": \"\", \"zerolinecolor\": \"white\"}, \"zaxis\": {\"backgroundcolor\": \"#E5ECF6\", \"gridcolor\": \"white\", \"gridwidth\": 2, \"linecolor\": \"white\", \"showbackground\": true, \"ticks\": \"\", \"zerolinecolor\": \"white\"}}, \"shapedefaults\": {\"line\": {\"color\": \"#2a3f5f\"}}, \"ternary\": {\"aaxis\": {\"gridcolor\": \"white\", \"linecolor\": \"white\", \"ticks\": \"\"}, \"baxis\": {\"gridcolor\": \"white\", \"linecolor\": \"white\", \"ticks\": \"\"}, \"bgcolor\": \"#E5ECF6\", \"caxis\": {\"gridcolor\": \"white\", \"linecolor\": \"white\", \"ticks\": \"\"}}, \"title\": {\"x\": 0.05}, \"xaxis\": {\"automargin\": true, \"gridcolor\": \"white\", \"linecolor\": \"white\", \"ticks\": \"\", \"title\": {\"standoff\": 15}, \"zerolinecolor\": \"white\", \"zerolinewidth\": 2}, \"yaxis\": {\"automargin\": true, \"gridcolor\": \"white\", \"linecolor\": \"white\", \"ticks\": \"\", \"title\": {\"standoff\": 15}, \"zerolinecolor\": \"white\", \"zerolinewidth\": 2}}}, \"title\": {\"text\": \"SNAP Usage Levels per State\"}},                        {\"responsive\": true}                    ).then(function(){\n",
       "                            \n",
       "var gd = document.getElementById('816eba50-6db9-41b4-8284-cf2bdd579ece');\n",
       "var x = new MutationObserver(function (mutations, observer) {{\n",
       "        var display = window.getComputedStyle(gd).display;\n",
       "        if (!display || display === 'none') {{\n",
       "            console.log([gd, 'removed!']);\n",
       "            Plotly.purge(gd);\n",
       "            observer.disconnect();\n",
       "        }}\n",
       "}});\n",
       "\n",
       "// Listen for the removal of the full notebook cells\n",
       "var notebookContainer = gd.closest('#notebook-container');\n",
       "if (notebookContainer) {{\n",
       "    x.observe(notebookContainer, {childList: true});\n",
       "}}\n",
       "\n",
       "// Listen for the clearing of the current output cell\n",
       "var outputEl = gd.closest('.output');\n",
       "if (outputEl) {{\n",
       "    x.observe(outputEl, {childList: true});\n",
       "}}\n",
       "\n",
       "                        })                };                });            </script>        </div>"
      ]
     },
     "metadata": {},
     "output_type": "display_data"
    }
   ],
   "source": [
    "import plotly.graph_objects as go\n",
    "fig = go.Figure(data=go.Choropleth(\n",
    "    locations=snap['code'], # Spatial coordinates\n",
    "    z = snap['Percentage of Households with SNAP'].astype(float), # Data to be color-coded\n",
    "    locationmode = 'USA-states', # set of locations match entries in `locations`\n",
    "    colorscale = 'Greens',\n",
    "    colorbar_title = \"Percentage of Households with SNAP\",\n",
    "))\n",
    "\n",
    "fig.update_layout(\n",
    "    title_text = 'SNAP Usage Levels per State',\n",
    "    geo_scope='usa', # limite map scope to USA\n",
    ")\n",
    "\n",
    "fig.show()"
   ]
  },
  {
   "cell_type": "markdown",
   "metadata": {},
   "source": [
    "This map visualization indicates the states that have higher percentage of households with SNAP in darker green and those with lower percentages of households with SNAP in lighter green."
   ]
  }
 ],
 "metadata": {
  "kernelspec": {
   "display_name": "Python 3",
   "language": "python",
   "name": "python3"
  },
  "language_info": {
   "codemirror_mode": {
    "name": "ipython",
    "version": 3
   },
   "file_extension": ".py",
   "mimetype": "text/x-python",
   "name": "python",
   "nbconvert_exporter": "python",
   "pygments_lexer": "ipython3",
   "version": "3.8.5"
  },
  "toc": {
   "base_numbering": 1,
   "nav_menu": {},
   "number_sections": true,
   "sideBar": true,
   "skip_h1_title": false,
   "title_cell": "Table of Contents",
   "title_sidebar": "Contents",
   "toc_cell": false,
   "toc_position": {},
   "toc_section_display": true,
   "toc_window_display": false
  }
 },
 "nbformat": 4,
 "nbformat_minor": 4
}
