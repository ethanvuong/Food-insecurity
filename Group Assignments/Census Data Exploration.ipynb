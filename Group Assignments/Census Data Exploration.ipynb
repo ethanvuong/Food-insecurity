{
 "cells": [
  {
   "cell_type": "markdown",
   "metadata": {},
   "source": [
    "# Group Assignment 2: Census Data Exploration\n",
    "For this assignment, I will be exploring the citizenship status percentages of each state in the United States. This is relevant to our project because I can see if this is a reason for certain states' populations to not use the SNAP program.\n",
    "\n",
    "Authored by Stephanie Chang"
   ]
  },
  {
   "cell_type": "markdown",
   "metadata": {},
   "source": [
    "## Import Libraries\n",
    "In order to complete data wrangling tasks, read and visualize spatial data, provide basemaps, and give more power to my figures, I downloaded the libraries."
   ]
  },
  {
   "cell_type": "code",
   "execution_count": 61,
   "metadata": {},
   "outputs": [],
   "source": [
    "import pandas as pd\n",
    "\n",
    "import geopandas as gpd\n",
    "\n",
    "import contextily as ctx\n",
    "\n",
    "import matplotlib.pyplot as plt"
   ]
  },
  {
   "cell_type": "markdown",
   "metadata": {},
   "source": [
    "## Import Data\n",
    "After importing the libraries, I imported my census data named the Nativity and Citizenship status in the United States."
   ]
  },
  {
   "cell_type": "code",
   "execution_count": 62,
   "metadata": {},
   "outputs": [],
   "source": [
    "gdf = gpd.read_file('censusdata/acs2019_1yr_B05001_04000US46.geojson')"
   ]
  },
  {
   "cell_type": "markdown",
   "metadata": {},
   "source": [
    "## Data Inspection\n",
    "First, I wanted to look at the size of the data."
   ]
  },
  {
   "cell_type": "markdown",
   "metadata": {},
   "source": [
    "I use the following command to see how many rows and columns there are"
   ]
  },
  {
   "cell_type": "code",
   "execution_count": 63,
   "metadata": {},
   "outputs": [
    {
     "data": {
      "text/plain": [
       "(51, 15)"
      ]
     },
     "execution_count": 63,
     "metadata": {},
     "output_type": "execute_result"
    }
   ],
   "source": [
    "gdf.shape"
   ]
  },
  {
   "cell_type": "markdown",
   "metadata": {},
   "source": [
    "I find that there are 51 rows and 15 columns."
   ]
  },
  {
   "cell_type": "markdown",
   "metadata": {},
   "source": [
    "Next, I preview the data to see how it looks."
   ]
  },
  {
   "cell_type": "code",
   "execution_count": 64,
   "metadata": {},
   "outputs": [
    {
     "data": {
      "text/html": [
       "<div>\n",
       "<style scoped>\n",
       "    .dataframe tbody tr th:only-of-type {\n",
       "        vertical-align: middle;\n",
       "    }\n",
       "\n",
       "    .dataframe tbody tr th {\n",
       "        vertical-align: top;\n",
       "    }\n",
       "\n",
       "    .dataframe thead th {\n",
       "        text-align: right;\n",
       "    }\n",
       "</style>\n",
       "<table border=\"1\" class=\"dataframe\">\n",
       "  <thead>\n",
       "    <tr style=\"text-align: right;\">\n",
       "      <th></th>\n",
       "      <th>geoid</th>\n",
       "      <th>name</th>\n",
       "      <th>B05001001</th>\n",
       "      <th>B05001001, Error</th>\n",
       "      <th>B05001002</th>\n",
       "      <th>B05001002, Error</th>\n",
       "      <th>B05001003</th>\n",
       "      <th>B05001003, Error</th>\n",
       "      <th>B05001004</th>\n",
       "      <th>B05001004, Error</th>\n",
       "      <th>B05001005</th>\n",
       "      <th>B05001005, Error</th>\n",
       "      <th>B05001006</th>\n",
       "      <th>B05001006, Error</th>\n",
       "      <th>geometry</th>\n",
       "    </tr>\n",
       "  </thead>\n",
       "  <tbody>\n",
       "    <tr>\n",
       "      <th>0</th>\n",
       "      <td>04000US01</td>\n",
       "      <td>Alabama</td>\n",
       "      <td>4903185.0</td>\n",
       "      <td>0.0</td>\n",
       "      <td>4686864.0</td>\n",
       "      <td>7668.0</td>\n",
       "      <td>8165.0</td>\n",
       "      <td>1849.0</td>\n",
       "      <td>33204.0</td>\n",
       "      <td>3638.0</td>\n",
       "      <td>76963.0</td>\n",
       "      <td>5044.0</td>\n",
       "      <td>97989.0</td>\n",
       "      <td>6500.0</td>\n",
       "      <td>MULTIPOLYGON (((-88.13999 34.58170, -88.13997 ...</td>\n",
       "    </tr>\n",
       "    <tr>\n",
       "      <th>1</th>\n",
       "      <td>04000US02</td>\n",
       "      <td>Alaska</td>\n",
       "      <td>731545.0</td>\n",
       "      <td>0.0</td>\n",
       "      <td>655014.0</td>\n",
       "      <td>4906.0</td>\n",
       "      <td>3613.0</td>\n",
       "      <td>1815.0</td>\n",
       "      <td>14540.0</td>\n",
       "      <td>2426.0</td>\n",
       "      <td>37209.0</td>\n",
       "      <td>3536.0</td>\n",
       "      <td>21169.0</td>\n",
       "      <td>2925.0</td>\n",
       "      <td>MULTIPOLYGON (((-165.25416 60.91711, -165.2630...</td>\n",
       "    </tr>\n",
       "    <tr>\n",
       "      <th>2</th>\n",
       "      <td>04000US04</td>\n",
       "      <td>Arizona</td>\n",
       "      <td>7278717.0</td>\n",
       "      <td>0.0</td>\n",
       "      <td>6202093.0</td>\n",
       "      <td>18847.0</td>\n",
       "      <td>11906.0</td>\n",
       "      <td>2303.0</td>\n",
       "      <td>88417.0</td>\n",
       "      <td>7052.0</td>\n",
       "      <td>439287.0</td>\n",
       "      <td>11722.0</td>\n",
       "      <td>537014.0</td>\n",
       "      <td>17319.0</td>\n",
       "      <td>MULTIPOLYGON (((-114.51684 33.02789, -114.5169...</td>\n",
       "    </tr>\n",
       "    <tr>\n",
       "      <th>3</th>\n",
       "      <td>04000US05</td>\n",
       "      <td>Arkansas</td>\n",
       "      <td>3017804.0</td>\n",
       "      <td>0.0</td>\n",
       "      <td>2841613.0</td>\n",
       "      <td>6681.0</td>\n",
       "      <td>3365.0</td>\n",
       "      <td>1349.0</td>\n",
       "      <td>18540.0</td>\n",
       "      <td>2700.0</td>\n",
       "      <td>57649.0</td>\n",
       "      <td>5118.0</td>\n",
       "      <td>96637.0</td>\n",
       "      <td>6463.0</td>\n",
       "      <td>MULTIPOLYGON (((-94.55217 36.10213, -94.55250 ...</td>\n",
       "    </tr>\n",
       "    <tr>\n",
       "      <th>4</th>\n",
       "      <td>04000US06</td>\n",
       "      <td>California</td>\n",
       "      <td>39512223.0</td>\n",
       "      <td>0.0</td>\n",
       "      <td>28384990.0</td>\n",
       "      <td>58020.0</td>\n",
       "      <td>80039.0</td>\n",
       "      <td>7119.0</td>\n",
       "      <td>482974.0</td>\n",
       "      <td>14085.0</td>\n",
       "      <td>5662600.0</td>\n",
       "      <td>37715.0</td>\n",
       "      <td>4901620.0</td>\n",
       "      <td>51736.0</td>\n",
       "      <td>MULTIPOLYGON (((-124.13656 41.46445, -124.1378...</td>\n",
       "    </tr>\n",
       "  </tbody>\n",
       "</table>\n",
       "</div>"
      ],
      "text/plain": [
       "       geoid        name   B05001001  B05001001, Error   B05001002  \\\n",
       "0  04000US01     Alabama   4903185.0               0.0   4686864.0   \n",
       "1  04000US02      Alaska    731545.0               0.0    655014.0   \n",
       "2  04000US04     Arizona   7278717.0               0.0   6202093.0   \n",
       "3  04000US05    Arkansas   3017804.0               0.0   2841613.0   \n",
       "4  04000US06  California  39512223.0               0.0  28384990.0   \n",
       "\n",
       "   B05001002, Error  B05001003  B05001003, Error  B05001004  B05001004, Error  \\\n",
       "0            7668.0     8165.0            1849.0    33204.0            3638.0   \n",
       "1            4906.0     3613.0            1815.0    14540.0            2426.0   \n",
       "2           18847.0    11906.0            2303.0    88417.0            7052.0   \n",
       "3            6681.0     3365.0            1349.0    18540.0            2700.0   \n",
       "4           58020.0    80039.0            7119.0   482974.0           14085.0   \n",
       "\n",
       "   B05001005  B05001005, Error  B05001006  B05001006, Error  \\\n",
       "0    76963.0            5044.0    97989.0            6500.0   \n",
       "1    37209.0            3536.0    21169.0            2925.0   \n",
       "2   439287.0           11722.0   537014.0           17319.0   \n",
       "3    57649.0            5118.0    96637.0            6463.0   \n",
       "4  5662600.0           37715.0  4901620.0           51736.0   \n",
       "\n",
       "                                            geometry  \n",
       "0  MULTIPOLYGON (((-88.13999 34.58170, -88.13997 ...  \n",
       "1  MULTIPOLYGON (((-165.25416 60.91711, -165.2630...  \n",
       "2  MULTIPOLYGON (((-114.51684 33.02789, -114.5169...  \n",
       "3  MULTIPOLYGON (((-94.55217 36.10213, -94.55250 ...  \n",
       "4  MULTIPOLYGON (((-124.13656 41.46445, -124.1378...  "
      ]
     },
     "execution_count": 64,
     "metadata": {},
     "output_type": "execute_result"
    }
   ],
   "source": [
    "gdf.head()"
   ]
  },
  {
   "cell_type": "code",
   "execution_count": 65,
   "metadata": {},
   "outputs": [
    {
     "data": {
      "text/plain": [
       "<matplotlib.axes._subplots.AxesSubplot at 0x7fa80028ba60>"
      ]
     },
     "execution_count": 65,
     "metadata": {},
     "output_type": "execute_result"
    },
    {
     "data": {
      "image/png": "[encoded data removed]",
      "text/plain": [
       "<Figure size 3600x3600 with 1 Axes>"
      ]
     },
     "metadata": {
      "needs_background": "light"
     },
     "output_type": "display_data"
    }
   ],
   "source": [
    "gdf.plot(figsize=(50,50))"
   ]
  },
  {
   "cell_type": "markdown",
   "metadata": {},
   "source": [
    "When I run plot, it produces a map of the United States."
   ]
  },
  {
   "cell_type": "markdown",
   "metadata": {},
   "source": [
    "Then, I inspect the data types with the following command."
   ]
  },
  {
   "cell_type": "code",
   "execution_count": 66,
   "metadata": {},
   "outputs": [
    {
     "name": "stdout",
     "output_type": "stream",
     "text": [
      "<class 'geopandas.geodataframe.GeoDataFrame'>\n",
      "RangeIndex: 51 entries, 0 to 50\n",
      "Data columns (total 15 columns):\n",
      " #   Column            Non-Null Count  Dtype   \n",
      "---  ------            --------------  -----   \n",
      " 0   geoid             51 non-null     object  \n",
      " 1   name              51 non-null     object  \n",
      " 2   B05001001         51 non-null     float64 \n",
      " 3   B05001001, Error  51 non-null     float64 \n",
      " 4   B05001002         51 non-null     float64 \n",
      " 5   B05001002, Error  51 non-null     float64 \n",
      " 6   B05001003         51 non-null     float64 \n",
      " 7   B05001003, Error  51 non-null     float64 \n",
      " 8   B05001004         51 non-null     float64 \n",
      " 9   B05001004, Error  51 non-null     float64 \n",
      " 10  B05001005         51 non-null     float64 \n",
      " 11  B05001005, Error  51 non-null     float64 \n",
      " 12  B05001006         51 non-null     float64 \n",
      " 13  B05001006, Error  51 non-null     float64 \n",
      " 14  geometry          51 non-null     geometry\n",
      "dtypes: float64(12), geometry(1), object(2)\n",
      "memory usage: 6.1+ KB\n"
     ]
    }
   ],
   "source": [
    "gdf.info()"
   ]
  },
  {
   "cell_type": "markdown",
   "metadata": {},
   "source": [
    "This lets me know my data types and if I have any null data."
   ]
  },
  {
   "cell_type": "code",
   "execution_count": 67,
   "metadata": {},
   "outputs": [
    {
     "data": {
      "text/plain": [
       "0    04000US01\n",
       "1    04000US02\n",
       "2    04000US04\n",
       "3    04000US05\n",
       "4    04000US06\n",
       "Name: geoid, dtype: object"
      ]
     },
     "execution_count": 67,
     "metadata": {},
     "output_type": "execute_result"
    }
   ],
   "source": [
    "gdf.geoid.head()"
   ]
  },
  {
   "cell_type": "markdown",
   "metadata": {},
   "source": [
    "## Trimming the Data\n",
    "Because there's some data that I don't need, I can trim my data."
   ]
  },
  {
   "cell_type": "markdown",
   "metadata": {},
   "source": [
    "I want to drop certain columns, so I list existing columns as a list."
   ]
  },
  {
   "cell_type": "code",
   "execution_count": 68,
   "metadata": {},
   "outputs": [
    {
     "data": {
      "text/plain": [
       "['geoid',\n",
       " 'name',\n",
       " 'B05001001',\n",
       " 'B05001001, Error',\n",
       " 'B05001002',\n",
       " 'B05001002, Error',\n",
       " 'B05001003',\n",
       " 'B05001003, Error',\n",
       " 'B05001004',\n",
       " 'B05001004, Error',\n",
       " 'B05001005',\n",
       " 'B05001005, Error',\n",
       " 'B05001006',\n",
       " 'B05001006, Error',\n",
       " 'geometry']"
      ]
     },
     "execution_count": 68,
     "metadata": {},
     "output_type": "execute_result"
    }
   ],
   "source": [
    "list(gdf)"
   ]
  },
  {
   "cell_type": "markdown",
   "metadata": {},
   "source": [
    "Then, I trim the columns to the columns I want to keep."
   ]
  },
  {
   "cell_type": "code",
   "execution_count": 69,
   "metadata": {},
   "outputs": [],
   "source": [
    "columns_to_keep = ['geoid',\n",
    " 'name',\n",
    " 'B05001001',\n",
    " 'B05001002',\n",
    " 'B05001003',\n",
    " 'B05001004',\n",
    " 'B05001005',\n",
    " 'B05001006',\n",
    " 'geometry']"
   ]
  },
  {
   "cell_type": "code",
   "execution_count": 70,
   "metadata": {},
   "outputs": [],
   "source": [
    "gdf = gdf[columns_to_keep]"
   ]
  },
  {
   "cell_type": "code",
   "execution_count": 71,
   "metadata": {},
   "outputs": [
    {
     "data": {
      "text/html": [
       "<div>\n",
       "<style scoped>\n",
       "    .dataframe tbody tr th:only-of-type {\n",
       "        vertical-align: middle;\n",
       "    }\n",
       "\n",
       "    .dataframe tbody tr th {\n",
       "        vertical-align: top;\n",
       "    }\n",
       "\n",
       "    .dataframe thead th {\n",
       "        text-align: right;\n",
       "    }\n",
       "</style>\n",
       "<table border=\"1\" class=\"dataframe\">\n",
       "  <thead>\n",
       "    <tr style=\"text-align: right;\">\n",
       "      <th></th>\n",
       "      <th>geoid</th>\n",
       "      <th>name</th>\n",
       "      <th>B05001001</th>\n",
       "      <th>B05001002</th>\n",
       "      <th>B05001003</th>\n",
       "      <th>B05001004</th>\n",
       "      <th>B05001005</th>\n",
       "      <th>B05001006</th>\n",
       "      <th>geometry</th>\n",
       "    </tr>\n",
       "  </thead>\n",
       "  <tbody>\n",
       "    <tr>\n",
       "      <th>0</th>\n",
       "      <td>04000US01</td>\n",
       "      <td>Alabama</td>\n",
       "      <td>4903185.0</td>\n",
       "      <td>4686864.0</td>\n",
       "      <td>8165.0</td>\n",
       "      <td>33204.0</td>\n",
       "      <td>76963.0</td>\n",
       "      <td>97989.0</td>\n",
       "      <td>MULTIPOLYGON (((-88.13999 34.58170, -88.13997 ...</td>\n",
       "    </tr>\n",
       "    <tr>\n",
       "      <th>1</th>\n",
       "      <td>04000US02</td>\n",
       "      <td>Alaska</td>\n",
       "      <td>731545.0</td>\n",
       "      <td>655014.0</td>\n",
       "      <td>3613.0</td>\n",
       "      <td>14540.0</td>\n",
       "      <td>37209.0</td>\n",
       "      <td>21169.0</td>\n",
       "      <td>MULTIPOLYGON (((-165.25416 60.91711, -165.2630...</td>\n",
       "    </tr>\n",
       "    <tr>\n",
       "      <th>2</th>\n",
       "      <td>04000US04</td>\n",
       "      <td>Arizona</td>\n",
       "      <td>7278717.0</td>\n",
       "      <td>6202093.0</td>\n",
       "      <td>11906.0</td>\n",
       "      <td>88417.0</td>\n",
       "      <td>439287.0</td>\n",
       "      <td>537014.0</td>\n",
       "      <td>MULTIPOLYGON (((-114.51684 33.02789, -114.5169...</td>\n",
       "    </tr>\n",
       "    <tr>\n",
       "      <th>3</th>\n",
       "      <td>04000US05</td>\n",
       "      <td>Arkansas</td>\n",
       "      <td>3017804.0</td>\n",
       "      <td>2841613.0</td>\n",
       "      <td>3365.0</td>\n",
       "      <td>18540.0</td>\n",
       "      <td>57649.0</td>\n",
       "      <td>96637.0</td>\n",
       "      <td>MULTIPOLYGON (((-94.55217 36.10213, -94.55250 ...</td>\n",
       "    </tr>\n",
       "    <tr>\n",
       "      <th>4</th>\n",
       "      <td>04000US06</td>\n",
       "      <td>California</td>\n",
       "      <td>39512223.0</td>\n",
       "      <td>28384990.0</td>\n",
       "      <td>80039.0</td>\n",
       "      <td>482974.0</td>\n",
       "      <td>5662600.0</td>\n",
       "      <td>4901620.0</td>\n",
       "      <td>MULTIPOLYGON (((-124.13656 41.46445, -124.1378...</td>\n",
       "    </tr>\n",
       "  </tbody>\n",
       "</table>\n",
       "</div>"
      ],
      "text/plain": [
       "       geoid        name   B05001001   B05001002  B05001003  B05001004  \\\n",
       "0  04000US01     Alabama   4903185.0   4686864.0     8165.0    33204.0   \n",
       "1  04000US02      Alaska    731545.0    655014.0     3613.0    14540.0   \n",
       "2  04000US04     Arizona   7278717.0   6202093.0    11906.0    88417.0   \n",
       "3  04000US05    Arkansas   3017804.0   2841613.0     3365.0    18540.0   \n",
       "4  04000US06  California  39512223.0  28384990.0    80039.0   482974.0   \n",
       "\n",
       "   B05001005  B05001006                                           geometry  \n",
       "0    76963.0    97989.0  MULTIPOLYGON (((-88.13999 34.58170, -88.13997 ...  \n",
       "1    37209.0    21169.0  MULTIPOLYGON (((-165.25416 60.91711, -165.2630...  \n",
       "2   439287.0   537014.0  MULTIPOLYGON (((-114.51684 33.02789, -114.5169...  \n",
       "3    57649.0    96637.0  MULTIPOLYGON (((-94.55217 36.10213, -94.55250 ...  \n",
       "4  5662600.0  4901620.0  MULTIPOLYGON (((-124.13656 41.46445, -124.1378...  "
      ]
     },
     "execution_count": 71,
     "metadata": {},
     "output_type": "execute_result"
    }
   ],
   "source": [
    "gdf.head()"
   ]
  },
  {
   "cell_type": "markdown",
   "metadata": {},
   "source": [
    "## Renaming columns\n",
    "Because my columns are coded, I want to rename them."
   ]
  },
  {
   "cell_type": "markdown",
   "metadata": {},
   "source": [
    "I first list out my columns."
   ]
  },
  {
   "cell_type": "code",
   "execution_count": 72,
   "metadata": {},
   "outputs": [
    {
     "data": {
      "text/plain": [
       "['geoid',\n",
       " 'name',\n",
       " 'B05001001',\n",
       " 'B05001002',\n",
       " 'B05001003',\n",
       " 'B05001004',\n",
       " 'B05001005',\n",
       " 'B05001006',\n",
       " 'geometry']"
      ]
     },
     "execution_count": 72,
     "metadata": {},
     "output_type": "execute_result"
    }
   ],
   "source": [
    "list(gdf)"
   ]
  },
  {
   "cell_type": "markdown",
   "metadata": {},
   "source": [
    "Then, I define the columns, replacing the output list above with my desired column names."
   ]
  },
  {
   "cell_type": "code",
   "execution_count": 75,
   "metadata": {},
   "outputs": [],
   "source": [
    "gdf.columns = ['geoid',\n",
    " 'name',\n",
    " 'Total',               \n",
    " 'U.S. citizen, born in the United States',\n",
    " 'U.S. citizen, born in Puerto Rico or U.S. Island A...',\n",
    " 'U.S. citizen, born abroad of American parent(s)',\n",
    " 'U.S. citizen by naturalization',\n",
    " 'Not a U.S. citizen',\n",
    " 'geometry']"
   ]
  },
  {
   "cell_type": "markdown",
   "metadata": {},
   "source": [
    "In order to check if my columns have been renamed, I use the .head command."
   ]
  },
  {
   "cell_type": "code",
   "execution_count": 76,
   "metadata": {},
   "outputs": [
    {
     "data": {
      "text/html": [
       "<div>\n",
       "<style scoped>\n",
       "    .dataframe tbody tr th:only-of-type {\n",
       "        vertical-align: middle;\n",
       "    }\n",
       "\n",
       "    .dataframe tbody tr th {\n",
       "        vertical-align: top;\n",
       "    }\n",
       "\n",
       "    .dataframe thead th {\n",
       "        text-align: right;\n",
       "    }\n",
       "</style>\n",
       "<table border=\"1\" class=\"dataframe\">\n",
       "  <thead>\n",
       "    <tr style=\"text-align: right;\">\n",
       "      <th></th>\n",
       "      <th>geoid</th>\n",
       "      <th>name</th>\n",
       "      <th>Total</th>\n",
       "      <th>U.S. citizen, born in the United States</th>\n",
       "      <th>U.S. citizen, born in Puerto Rico or U.S. Island A...</th>\n",
       "      <th>U.S. citizen, born abroad of American parent(s)</th>\n",
       "      <th>U.S. citizen by naturalization</th>\n",
       "      <th>Not a U.S. citizen</th>\n",
       "      <th>geometry</th>\n",
       "    </tr>\n",
       "  </thead>\n",
       "  <tbody>\n",
       "    <tr>\n",
       "      <th>0</th>\n",
       "      <td>04000US01</td>\n",
       "      <td>Alabama</td>\n",
       "      <td>4903185.0</td>\n",
       "      <td>4686864.0</td>\n",
       "      <td>8165.0</td>\n",
       "      <td>33204.0</td>\n",
       "      <td>76963.0</td>\n",
       "      <td>97989.0</td>\n",
       "      <td>MULTIPOLYGON (((-88.13999 34.58170, -88.13997 ...</td>\n",
       "    </tr>\n",
       "    <tr>\n",
       "      <th>1</th>\n",
       "      <td>04000US02</td>\n",
       "      <td>Alaska</td>\n",
       "      <td>731545.0</td>\n",
       "      <td>655014.0</td>\n",
       "      <td>3613.0</td>\n",
       "      <td>14540.0</td>\n",
       "      <td>37209.0</td>\n",
       "      <td>21169.0</td>\n",
       "      <td>MULTIPOLYGON (((-165.25416 60.91711, -165.2630...</td>\n",
       "    </tr>\n",
       "    <tr>\n",
       "      <th>2</th>\n",
       "      <td>04000US04</td>\n",
       "      <td>Arizona</td>\n",
       "      <td>7278717.0</td>\n",
       "      <td>6202093.0</td>\n",
       "      <td>11906.0</td>\n",
       "      <td>88417.0</td>\n",
       "      <td>439287.0</td>\n",
       "      <td>537014.0</td>\n",
       "      <td>MULTIPOLYGON (((-114.51684 33.02789, -114.5169...</td>\n",
       "    </tr>\n",
       "    <tr>\n",
       "      <th>3</th>\n",
       "      <td>04000US05</td>\n",
       "      <td>Arkansas</td>\n",
       "      <td>3017804.0</td>\n",
       "      <td>2841613.0</td>\n",
       "      <td>3365.0</td>\n",
       "      <td>18540.0</td>\n",
       "      <td>57649.0</td>\n",
       "      <td>96637.0</td>\n",
       "      <td>MULTIPOLYGON (((-94.55217 36.10213, -94.55250 ...</td>\n",
       "    </tr>\n",
       "    <tr>\n",
       "      <th>4</th>\n",
       "      <td>04000US06</td>\n",
       "      <td>California</td>\n",
       "      <td>39512223.0</td>\n",
       "      <td>28384990.0</td>\n",
       "      <td>80039.0</td>\n",
       "      <td>482974.0</td>\n",
       "      <td>5662600.0</td>\n",
       "      <td>4901620.0</td>\n",
       "      <td>MULTIPOLYGON (((-124.13656 41.46445, -124.1378...</td>\n",
       "    </tr>\n",
       "  </tbody>\n",
       "</table>\n",
       "</div>"
      ],
      "text/plain": [
       "       geoid        name       Total  U.S. citizen, born in the United States  \\\n",
       "0  04000US01     Alabama   4903185.0                                4686864.0   \n",
       "1  04000US02      Alaska    731545.0                                 655014.0   \n",
       "2  04000US04     Arizona   7278717.0                                6202093.0   \n",
       "3  04000US05    Arkansas   3017804.0                                2841613.0   \n",
       "4  04000US06  California  39512223.0                               28384990.0   \n",
       "\n",
       "   U.S. citizen, born in Puerto Rico or U.S. Island A...  \\\n",
       "0                                             8165.0       \n",
       "1                                             3613.0       \n",
       "2                                            11906.0       \n",
       "3                                             3365.0       \n",
       "4                                            80039.0       \n",
       "\n",
       "   U.S. citizen, born abroad of American parent(s)  \\\n",
       "0                                          33204.0   \n",
       "1                                          14540.0   \n",
       "2                                          88417.0   \n",
       "3                                          18540.0   \n",
       "4                                         482974.0   \n",
       "\n",
       "   U.S. citizen by naturalization  Not a U.S. citizen  \\\n",
       "0                         76963.0             97989.0   \n",
       "1                         37209.0             21169.0   \n",
       "2                        439287.0            537014.0   \n",
       "3                         57649.0             96637.0   \n",
       "4                       5662600.0           4901620.0   \n",
       "\n",
       "                                            geometry  \n",
       "0  MULTIPOLYGON (((-88.13999 34.58170, -88.13997 ...  \n",
       "1  MULTIPOLYGON (((-165.25416 60.91711, -165.2630...  \n",
       "2  MULTIPOLYGON (((-114.51684 33.02789, -114.5169...  \n",
       "3  MULTIPOLYGON (((-94.55217 36.10213, -94.55250 ...  \n",
       "4  MULTIPOLYGON (((-124.13656 41.46445, -124.1378...  "
      ]
     },
     "execution_count": 76,
     "metadata": {},
     "output_type": "execute_result"
    }
   ],
   "source": [
    "gdf.head()"
   ]
  },
  {
   "cell_type": "markdown",
   "metadata": {},
   "source": [
    "## Double Checking Data\n",
    "I want to check if my data adds up."
   ]
  },
  {
   "cell_type": "code",
   "execution_count": 77,
   "metadata": {},
   "outputs": [
    {
     "data": {
      "text/html": [
       "<div>\n",
       "<style scoped>\n",
       "    .dataframe tbody tr th:only-of-type {\n",
       "        vertical-align: middle;\n",
       "    }\n",
       "\n",
       "    .dataframe tbody tr th {\n",
       "        vertical-align: top;\n",
       "    }\n",
       "\n",
       "    .dataframe thead th {\n",
       "        text-align: right;\n",
       "    }\n",
       "</style>\n",
       "<table border=\"1\" class=\"dataframe\">\n",
       "  <thead>\n",
       "    <tr style=\"text-align: right;\">\n",
       "      <th></th>\n",
       "      <th>geoid</th>\n",
       "      <th>name</th>\n",
       "      <th>Total</th>\n",
       "      <th>U.S. citizen, born in the United States</th>\n",
       "      <th>U.S. citizen, born in Puerto Rico or U.S. Island A...</th>\n",
       "      <th>U.S. citizen, born abroad of American parent(s)</th>\n",
       "      <th>U.S. citizen by naturalization</th>\n",
       "      <th>Not a U.S. citizen</th>\n",
       "      <th>geometry</th>\n",
       "    </tr>\n",
       "  </thead>\n",
       "  <tbody>\n",
       "    <tr>\n",
       "      <th>27</th>\n",
       "      <td>04000US31</td>\n",
       "      <td>Nebraska</td>\n",
       "      <td>1934408.0</td>\n",
       "      <td>1775894.0</td>\n",
       "      <td>3092.0</td>\n",
       "      <td>12954.0</td>\n",
       "      <td>59681.0</td>\n",
       "      <td>82787.0</td>\n",
       "      <td>MULTIPOLYGON (((-104.05264 42.00172, -104.0526...</td>\n",
       "    </tr>\n",
       "  </tbody>\n",
       "</table>\n",
       "</div>"
      ],
      "text/plain": [
       "        geoid      name      Total  U.S. citizen, born in the United States  \\\n",
       "27  04000US31  Nebraska  1934408.0                                1775894.0   \n",
       "\n",
       "    U.S. citizen, born in Puerto Rico or U.S. Island A...  \\\n",
       "27                                             3092.0       \n",
       "\n",
       "    U.S. citizen, born abroad of American parent(s)  \\\n",
       "27                                          12954.0   \n",
       "\n",
       "    U.S. citizen by naturalization  Not a U.S. citizen  \\\n",
       "27                         59681.0             82787.0   \n",
       "\n",
       "                                             geometry  \n",
       "27  MULTIPOLYGON (((-104.05264 42.00172, -104.0526...  "
      ]
     },
     "execution_count": 77,
     "metadata": {},
     "output_type": "execute_result"
    }
   ],
   "source": [
    "random_tract = gdf.sample()\n",
    "random_tract"
   ]
  },
  {
   "cell_type": "code",
   "execution_count": 78,
   "metadata": {},
   "outputs": [
    {
     "data": {
      "text/plain": [
       "1934408.0"
      ]
     },
     "execution_count": 78,
     "metadata": {},
     "output_type": "execute_result"
    }
   ],
   "source": [
    "random_tract.iloc[0]['Total']"
   ]
  },
  {
   "cell_type": "code",
   "execution_count": 79,
   "metadata": {},
   "outputs": [
    {
     "name": "stdout",
     "output_type": "stream",
     "text": [
      "Total population: 1934408.0\n"
     ]
    }
   ],
   "source": [
    "print('Total population: ' + str(random_tract.iloc[0]['Total']))"
   ]
  },
  {
   "cell_type": "code",
   "execution_count": 81,
   "metadata": {},
   "outputs": [
    {
     "name": "stdout",
     "output_type": "stream",
     "text": [
      "1934408.0\n"
     ]
    }
   ],
   "source": [
    "print(random_tract.iloc[0]['U.S. citizen, born in the United States'] + \n",
    "      random_tract.iloc[0]['U.S. citizen, born in Puerto Rico or U.S. Island A...'] + \n",
    "      random_tract.iloc[0]['U.S. citizen, born abroad of American parent(s)'] + \n",
    "      random_tract.iloc[0]['U.S. citizen by naturalization'] + \n",
    "      random_tract.iloc[0]['Not a U.S. citizen'])"
   ]
  },
  {
   "cell_type": "markdown",
   "metadata": {},
   "source": [
    "## Normalizing data \n",
    "Because each state has different populations, I wanted to filter the data to be viewed in percentages so there are no misrepresentations."
   ]
  },
  {
   "cell_type": "markdown",
   "metadata": {},
   "source": [
    "I take the populations of the different U.S. citizens, add them together, and divide by the Total times 100 to get the percentage U.S. citizens. I take population of Not U.S. citizen divided by Total times 100 to get the percentage of Non U.S. citizen."
   ]
  },
  {
   "cell_type": "code",
   "execution_count": 95,
   "metadata": {},
   "outputs": [],
   "source": [
    "gdf['Percent U.S. citizen'] = (gdf['U.S. citizen, born in the United States'] + gdf['U.S. citizen, born in Puerto Rico or U.S. Island A...'] + gdf['U.S. citizen, born abroad of American parent(s)'] + gdf['U.S. citizen by naturalization']) /gdf['Total']*100\n",
    "gdf['Percent Non U.S. citizen'] = gdf['Not a U.S. citizen']/gdf['Total']*100"
   ]
  },
  {
   "cell_type": "markdown",
   "metadata": {},
   "source": [
    "Then I look at a sample of 5 to see if my percentages calculated correctly."
   ]
  },
  {
   "cell_type": "code",
   "execution_count": 96,
   "metadata": {},
   "outputs": [
    {
     "data": {
      "text/html": [
       "<div>\n",
       "<style scoped>\n",
       "    .dataframe tbody tr th:only-of-type {\n",
       "        vertical-align: middle;\n",
       "    }\n",
       "\n",
       "    .dataframe tbody tr th {\n",
       "        vertical-align: top;\n",
       "    }\n",
       "\n",
       "    .dataframe thead th {\n",
       "        text-align: right;\n",
       "    }\n",
       "</style>\n",
       "<table border=\"1\" class=\"dataframe\">\n",
       "  <thead>\n",
       "    <tr style=\"text-align: right;\">\n",
       "      <th></th>\n",
       "      <th>geoid</th>\n",
       "      <th>name</th>\n",
       "      <th>Total</th>\n",
       "      <th>U.S. citizen, born in the United States</th>\n",
       "      <th>U.S. citizen, born in Puerto Rico or U.S. Island A...</th>\n",
       "      <th>U.S. citizen, born abroad of American parent(s)</th>\n",
       "      <th>U.S. citizen by naturalization</th>\n",
       "      <th>Not a U.S. citizen</th>\n",
       "      <th>geometry</th>\n",
       "      <th>Percent U.S. citizen</th>\n",
       "      <th>Percent Non U.S. citizen</th>\n",
       "    </tr>\n",
       "  </thead>\n",
       "  <tbody>\n",
       "    <tr>\n",
       "      <th>34</th>\n",
       "      <td>04000US38</td>\n",
       "      <td>North Dakota</td>\n",
       "      <td>762062.0</td>\n",
       "      <td>724343.0</td>\n",
       "      <td>1614.0</td>\n",
       "      <td>4967.0</td>\n",
       "      <td>11333.0</td>\n",
       "      <td>19805.0</td>\n",
       "      <td>MULTIPOLYGON (((-104.04497 47.33014, -104.0449...</td>\n",
       "      <td>97.401130</td>\n",
       "      <td>2.598870</td>\n",
       "    </tr>\n",
       "    <tr>\n",
       "      <th>25</th>\n",
       "      <td>04000US29</td>\n",
       "      <td>Missouri</td>\n",
       "      <td>6137428.0</td>\n",
       "      <td>5824056.0</td>\n",
       "      <td>8163.0</td>\n",
       "      <td>43162.0</td>\n",
       "      <td>134410.0</td>\n",
       "      <td>127637.0</td>\n",
       "      <td>MULTIPOLYGON (((-94.60803 38.84721, -94.60803 ...</td>\n",
       "      <td>97.920350</td>\n",
       "      <td>2.079650</td>\n",
       "    </tr>\n",
       "    <tr>\n",
       "      <th>11</th>\n",
       "      <td>04000US15</td>\n",
       "      <td>Hawaii</td>\n",
       "      <td>1415872.0</td>\n",
       "      <td>1094686.0</td>\n",
       "      <td>8823.0</td>\n",
       "      <td>39351.0</td>\n",
       "      <td>160962.0</td>\n",
       "      <td>112050.0</td>\n",
       "      <td>MULTIPOLYGON (((-155.43286 20.14521, -155.4315...</td>\n",
       "      <td>92.086149</td>\n",
       "      <td>7.913851</td>\n",
       "    </tr>\n",
       "    <tr>\n",
       "      <th>9</th>\n",
       "      <td>04000US12</td>\n",
       "      <td>Florida</td>\n",
       "      <td>21477737.0</td>\n",
       "      <td>16112000.0</td>\n",
       "      <td>570298.0</td>\n",
       "      <td>269011.0</td>\n",
       "      <td>2597783.0</td>\n",
       "      <td>1928645.0</td>\n",
       "      <td>MULTIPOLYGON (((-86.38865 30.99418, -86.38385 ...</td>\n",
       "      <td>91.020260</td>\n",
       "      <td>8.979740</td>\n",
       "    </tr>\n",
       "    <tr>\n",
       "      <th>49</th>\n",
       "      <td>04000US55</td>\n",
       "      <td>Wisconsin</td>\n",
       "      <td>5822434.0</td>\n",
       "      <td>5473103.0</td>\n",
       "      <td>24981.0</td>\n",
       "      <td>30111.0</td>\n",
       "      <td>135228.0</td>\n",
       "      <td>159011.0</td>\n",
       "      <td>MULTIPOLYGON (((-92.88707 45.64415, -92.88671 ...</td>\n",
       "      <td>97.268994</td>\n",
       "      <td>2.731006</td>\n",
       "    </tr>\n",
       "  </tbody>\n",
       "</table>\n",
       "</div>"
      ],
      "text/plain": [
       "        geoid          name       Total  \\\n",
       "34  04000US38  North Dakota    762062.0   \n",
       "25  04000US29      Missouri   6137428.0   \n",
       "11  04000US15        Hawaii   1415872.0   \n",
       "9   04000US12       Florida  21477737.0   \n",
       "49  04000US55     Wisconsin   5822434.0   \n",
       "\n",
       "    U.S. citizen, born in the United States  \\\n",
       "34                                 724343.0   \n",
       "25                                5824056.0   \n",
       "11                                1094686.0   \n",
       "9                                16112000.0   \n",
       "49                                5473103.0   \n",
       "\n",
       "    U.S. citizen, born in Puerto Rico or U.S. Island A...  \\\n",
       "34                                             1614.0       \n",
       "25                                             8163.0       \n",
       "11                                             8823.0       \n",
       "9                                            570298.0       \n",
       "49                                            24981.0       \n",
       "\n",
       "    U.S. citizen, born abroad of American parent(s)  \\\n",
       "34                                           4967.0   \n",
       "25                                          43162.0   \n",
       "11                                          39351.0   \n",
       "9                                          269011.0   \n",
       "49                                          30111.0   \n",
       "\n",
       "    U.S. citizen by naturalization  Not a U.S. citizen  \\\n",
       "34                         11333.0             19805.0   \n",
       "25                        134410.0            127637.0   \n",
       "11                        160962.0            112050.0   \n",
       "9                        2597783.0           1928645.0   \n",
       "49                        135228.0            159011.0   \n",
       "\n",
       "                                             geometry  Percent U.S. citizen  \\\n",
       "34  MULTIPOLYGON (((-104.04497 47.33014, -104.0449...             97.401130   \n",
       "25  MULTIPOLYGON (((-94.60803 38.84721, -94.60803 ...             97.920350   \n",
       "11  MULTIPOLYGON (((-155.43286 20.14521, -155.4315...             92.086149   \n",
       "9   MULTIPOLYGON (((-86.38865 30.99418, -86.38385 ...             91.020260   \n",
       "49  MULTIPOLYGON (((-92.88707 45.64415, -92.88671 ...             97.268994   \n",
       "\n",
       "    Percent Non U.S. citizen  \n",
       "34                  2.598870  \n",
       "25                  2.079650  \n",
       "11                  7.913851  \n",
       "9                   8.979740  \n",
       "49                  2.731006  "
      ]
     },
     "execution_count": 96,
     "metadata": {},
     "output_type": "execute_result"
    }
   ],
   "source": [
    "gdf.sample(5)"
   ]
  },
  {
   "cell_type": "markdown",
   "metadata": {},
   "source": [
    "## Charts and Maps"
   ]
  },
  {
   "cell_type": "markdown",
   "metadata": {},
   "source": [
    "### Non-citizen Population Map"
   ]
  },
  {
   "cell_type": "markdown",
   "metadata": {},
   "source": [
    "With the following command, I produce a map the shows the different population levels of non citizens in each state. However, this map is not very representative, as each state has a different population size."
   ]
  },
  {
   "cell_type": "code",
   "execution_count": 118,
   "metadata": {},
   "outputs": [
    {
     "data": {
      "text/plain": [
       "<matplotlib.axes._subplots.AxesSubplot at 0x7fa7f3e59880>"
      ]
     },
     "execution_count": 118,
     "metadata": {},
     "output_type": "execute_result"
    },
    {
     "data": {
      "image/png": "[encoded data removed]",
      "text/plain": [
       "<Figure size 864x720 with 1 Axes>"
      ]
     },
     "metadata": {
      "needs_background": "light"
     },
     "output_type": "display_data"
    }
   ],
   "source": [
    "gdf.plot(figsize=(12,10),\n",
    "                 column='Not a U.S. citizen',\n",
    "                 legend=True, \n",
    "                 scheme='NaturalBreaks')"
   ]
  },
  {
   "cell_type": "markdown",
   "metadata": {},
   "source": [
    "### Percentage Map"
   ]
  },
  {
   "cell_type": "markdown",
   "metadata": {},
   "source": [
    "Thus, I produce a map utilizing the percentages of non citizens in each state, which more accurately shows which states have more non citizens."
   ]
  },
  {
   "cell_type": "code",
   "execution_count": 113,
   "metadata": {},
   "outputs": [
    {
     "data": {
      "text/plain": [
       "<matplotlib.axes._subplots.AxesSubplot at 0x7fa7f40dc820>"
      ]
     },
     "execution_count": 113,
     "metadata": {},
     "output_type": "execute_result"
    },
    {
     "data": {
      "image/png": "[encoded data removed]",
      "text/plain": [
       "<Figure size 864x720 with 1 Axes>"
      ]
     },
     "metadata": {
      "needs_background": "light"
     },
     "output_type": "display_data"
    }
   ],
   "source": [
    "gdf.plot(figsize=(12,10),\n",
    "                 column='Percent Non U.S. citizen',\n",
    "                 legend=True, \n",
    "                 scheme='NaturalBreaks')"
   ]
  },
  {
   "cell_type": "markdown",
   "metadata": {},
   "source": [
    "### Top 10 "
   ]
  },
  {
   "cell_type": "markdown",
   "metadata": {},
   "source": [
    "I'm also curious which states are the top 10 with most non citizens, so I sort the states by highest percentage of non citizens and make a map out of that."
   ]
  },
  {
   "cell_type": "code",
   "execution_count": 103,
   "metadata": {},
   "outputs": [],
   "source": [
    "gdf_sorted = gdf.sort_values(by='Percent Non U.S. citizen',ascending = False)"
   ]
  },
  {
   "cell_type": "code",
   "execution_count": 109,
   "metadata": {},
   "outputs": [
    {
     "data": {
      "text/html": [
       "<div>\n",
       "<style scoped>\n",
       "    .dataframe tbody tr th:only-of-type {\n",
       "        vertical-align: middle;\n",
       "    }\n",
       "\n",
       "    .dataframe tbody tr th {\n",
       "        vertical-align: top;\n",
       "    }\n",
       "\n",
       "    .dataframe thead th {\n",
       "        text-align: right;\n",
       "    }\n",
       "</style>\n",
       "<table border=\"1\" class=\"dataframe\">\n",
       "  <thead>\n",
       "    <tr style=\"text-align: right;\">\n",
       "      <th></th>\n",
       "      <th>geoid</th>\n",
       "      <th>name</th>\n",
       "      <th>Percent Non U.S. citizen</th>\n",
       "    </tr>\n",
       "  </thead>\n",
       "  <tbody>\n",
       "    <tr>\n",
       "      <th>4</th>\n",
       "      <td>04000US06</td>\n",
       "      <td>California</td>\n",
       "      <td>12.405326</td>\n",
       "    </tr>\n",
       "    <tr>\n",
       "      <th>43</th>\n",
       "      <td>04000US48</td>\n",
       "      <td>Texas</td>\n",
       "      <td>10.318372</td>\n",
       "    </tr>\n",
       "    <tr>\n",
       "      <th>28</th>\n",
       "      <td>04000US32</td>\n",
       "      <td>Nevada</td>\n",
       "      <td>9.784439</td>\n",
       "    </tr>\n",
       "    <tr>\n",
       "      <th>30</th>\n",
       "      <td>04000US34</td>\n",
       "      <td>New Jersey</td>\n",
       "      <td>9.712515</td>\n",
       "    </tr>\n",
       "    <tr>\n",
       "      <th>32</th>\n",
       "      <td>04000US36</td>\n",
       "      <td>New York</td>\n",
       "      <td>9.068422</td>\n",
       "    </tr>\n",
       "    <tr>\n",
       "      <th>9</th>\n",
       "      <td>04000US12</td>\n",
       "      <td>Florida</td>\n",
       "      <td>8.979740</td>\n",
       "    </tr>\n",
       "    <tr>\n",
       "      <th>11</th>\n",
       "      <td>04000US15</td>\n",
       "      <td>Hawaii</td>\n",
       "      <td>7.913851</td>\n",
       "    </tr>\n",
       "    <tr>\n",
       "      <th>47</th>\n",
       "      <td>04000US53</td>\n",
       "      <td>Washington</td>\n",
       "      <td>7.874017</td>\n",
       "    </tr>\n",
       "    <tr>\n",
       "      <th>21</th>\n",
       "      <td>04000US25</td>\n",
       "      <td>Massachusetts</td>\n",
       "      <td>7.814476</td>\n",
       "    </tr>\n",
       "    <tr>\n",
       "      <th>20</th>\n",
       "      <td>04000US24</td>\n",
       "      <td>Maryland</td>\n",
       "      <td>7.401417</td>\n",
       "    </tr>\n",
       "  </tbody>\n",
       "</table>\n",
       "</div>"
      ],
      "text/plain": [
       "        geoid           name  Percent Non U.S. citizen\n",
       "4   04000US06     California                 12.405326\n",
       "43  04000US48          Texas                 10.318372\n",
       "28  04000US32         Nevada                  9.784439\n",
       "30  04000US34     New Jersey                  9.712515\n",
       "32  04000US36       New York                  9.068422\n",
       "9   04000US12        Florida                  8.979740\n",
       "11  04000US15         Hawaii                  7.913851\n",
       "47  04000US53     Washington                  7.874017\n",
       "21  04000US25  Massachusetts                  7.814476\n",
       "20  04000US24       Maryland                  7.401417"
      ]
     },
     "execution_count": 109,
     "metadata": {},
     "output_type": "execute_result"
    }
   ],
   "source": [
    "gdf_sorted[['geoid', 'name', 'Percent Non U.S. citizen']].head(10)"
   ]
  },
  {
   "cell_type": "code",
   "execution_count": 110,
   "metadata": {},
   "outputs": [
    {
     "data": {
      "text/plain": [
       "<matplotlib.axes._subplots.AxesSubplot at 0x7fa7f41d7910>"
      ]
     },
     "execution_count": 110,
     "metadata": {},
     "output_type": "execute_result"
    },
    {
     "data": {
      "image/png": "[encoded data removed]",
      "text/plain": [
       "<Figure size 432x288 with 1 Axes>"
      ]
     },
     "metadata": {
      "needs_background": "light"
     },
     "output_type": "display_data"
    }
   ],
   "source": [
    "gdf_sorted.head(10).plot()"
   ]
  },
  {
   "cell_type": "markdown",
   "metadata": {},
   "source": [
    "Here is the map of states with the most non citizens."
   ]
  }
 ],
 "metadata": {
  "kernelspec": {
   "display_name": "Python 3",
   "language": "python",
   "name": "python3"
  },
  "language_info": {
   "codemirror_mode": {
    "name": "ipython",
    "version": 3
   },
   "file_extension": ".py",
   "mimetype": "text/x-python",
   "name": "python",
   "nbconvert_exporter": "python",
   "pygments_lexer": "ipython3",
   "version": "3.8.5"
  },
  "toc": {
   "base_numbering": 1,
   "nav_menu": {},
   "number_sections": true,
   "sideBar": true,
   "skip_h1_title": false,
   "title_cell": "Table of Contents",
   "title_sidebar": "Contents",
   "toc_cell": false,
   "toc_position": {},
   "toc_section_display": true,
   "toc_window_display": false
  }
 },
 "nbformat": 4,
 "nbformat_minor": 4
}
