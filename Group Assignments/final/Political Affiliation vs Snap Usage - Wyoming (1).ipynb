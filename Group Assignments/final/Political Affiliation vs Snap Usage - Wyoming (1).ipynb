{
 "cells": [
  {
   "cell_type": "markdown",
   "id": "answering-fountain",
   "metadata": {},
   "source": [
    "# Political Affiliation and SNAP Usage of Wyoming\n",
    "In order to delve into possible factors for SNAP, we wanted to see if there was a correlation between political affiliation and SNAP Usage in Oregon, a state with high SNAP Usage."
   ]
  },
  {
   "cell_type": "markdown",
   "id": "august-modeling",
   "metadata": {},
   "source": [
    "## Importing Data\n",
    "\n",
    "First I import a GeoJSON file that has all the eometry information for US counties, where the feature.id is a FIPS code, since the dataset I have uses FIPS code."
   ]
  },
  {
   "cell_type": "code",
   "execution_count": null,
   "id": "constant-manitoba",
   "metadata": {},
   "outputs": [],
   "source": [
    "from urllib.request import urlopen\n",
    "import json\n",
    "with urlopen('https://raw.githubusercontent.com/plotly/datasets/master/geojson-counties-fips.json') as response:\n",
    "    counties = json.load(response)\n",
    "\n",
    "counties[\"features\"][0]"
   ]
  },
  {
   "cell_type": "markdown",
   "id": "exact-steal",
   "metadata": {},
   "source": [
    "Then, I import the 2020 election result by county data in .csv file, which is from a github that scraped data from the new york times."
   ]
  },
  {
   "cell_type": "code",
   "execution_count": null,
   "id": "proof-fifth",
   "metadata": {},
   "outputs": [],
   "source": [
    "import pandas as pd\n",
    "df = pd.read_csv(\"https://raw.githubusercontent.com/tonmcg/US_County_Level_Election_Results_08-20/master/2020_US_County_Level_Presidential_Results.csv\",\n",
    "                   dtype={\"fips\": str})"
   ]
  },
  {
   "cell_type": "markdown",
   "id": "explicit-theta",
   "metadata": {},
   "source": [
    "## Cleaning up the Data"
   ]
  },
  {
   "cell_type": "markdown",
   "id": "catholic-cabin",
   "metadata": {},
   "source": [
    "I want to clean up how the data set looks, like the columns, rows, as well as how the percentages are displayed.\n",
    "\n",
    "Because the dataset has more information than needed, I trim it.\n",
    "\n",
    "I check to see how the dataset looks like."
   ]
  },
  {
   "cell_type": "code",
   "execution_count": null,
   "id": "million-grocery",
   "metadata": {},
   "outputs": [],
   "source": [
    "df.head()"
   ]
  },
  {
   "cell_type": "markdown",
   "id": "looking-simple",
   "metadata": {},
   "source": [
    "Then, I look at what columns there are."
   ]
  },
  {
   "cell_type": "code",
   "execution_count": null,
   "id": "stupid-earth",
   "metadata": {},
   "outputs": [],
   "source": [
    "df.info()"
   ]
  },
  {
   "cell_type": "markdown",
   "id": "right-deposit",
   "metadata": {},
   "source": [
    "I choose the columns I want to keep and rename them."
   ]
  },
  {
   "cell_type": "code",
   "execution_count": null,
   "id": "surface-collective",
   "metadata": {},
   "outputs": [],
   "source": [
    "df = df[['state_name', 'county_fips', 'county_name', 'votes_gop', 'votes_dem', 'total_votes','per_gop','per_dem']]"
   ]
  },
  {
   "cell_type": "code",
   "execution_count": null,
   "id": "proved-dimension",
   "metadata": {},
   "outputs": [],
   "source": [
    "df.columns = ['State Name','FIPS','County Name','GOP Votes','Democratic Votes', 'Total Votes','GOP Percentage','Democratic Percentage']"
   ]
  },
  {
   "cell_type": "markdown",
   "id": "recreational-spyware",
   "metadata": {},
   "source": [
    "Then, I make sure to check if I have all the columns I wanted."
   ]
  },
  {
   "cell_type": "code",
   "execution_count": null,
   "id": "behavioral-spread",
   "metadata": {},
   "outputs": [],
   "source": [
    "df.info()"
   ]
  },
  {
   "cell_type": "markdown",
   "id": "impressive-appointment",
   "metadata": {},
   "source": [
    "Because I'm only looking at Wyoming, I create a dataframe with only Wyoming as the State Name."
   ]
  },
  {
   "cell_type": "code",
   "execution_count": null,
   "id": "excess-devon",
   "metadata": {},
   "outputs": [],
   "source": [
    "df_wyoming = df.loc[df['State Name'] == 'Wyoming']\n",
    "df_wyoming.head(50)"
   ]
  },
  {
   "cell_type": "markdown",
   "id": "polyphonic-johnson",
   "metadata": {},
   "source": [
    "## Data Visualizations\n",
    "\n",
    "Since Wyoming's overall SNAP usage is lower, I wanted to compare that with the overall political affiliaton of the state.\n",
    "\n",
    "I totaled up the sum of both GOP and Democratic Votes and dividied it by the sum of Total votes for each, multiplied by 100 in order to get the overall percentage of GOP and Democratic Votes in Wyoming."
   ]
  },
  {
   "cell_type": "code",
   "execution_count": null,
   "id": "retired-windows",
   "metadata": {},
   "outputs": [],
   "source": [
    "df_goptotal = (sum(df_wyoming['GOP Votes']) / sum(df_wyoming['Total Votes'])* 100)\n"
   ]
  },
  {
   "cell_type": "code",
   "execution_count": null,
   "id": "behavioral-wealth",
   "metadata": {},
   "outputs": [],
   "source": [
    "df_demtotal = (sum(df_wyoming['Democratic Votes']) / sum(df_wyoming['Total Votes']) *100)\n"
   ]
  },
  {
   "cell_type": "markdown",
   "id": "changed-trail",
   "metadata": {},
   "source": [
    "Then, I created a bar chart that showed the percentage of votes for each candidate in either GOP or democratic party."
   ]
  },
  {
   "cell_type": "code",
   "execution_count": null,
   "id": "colored-factor",
   "metadata": {},
   "outputs": [],
   "source": [
    "from matplotlib import pyplot as plt\n",
    "\n",
    "plotdata = pd.DataFrame(\n",
    "    {\"affiliation\": [df_goptotal, df_demtotal]}, \n",
    "    index=[\"Republican\", \"Democratic\"])\n",
    "plotdata.plot(kind=\"bar\")\n",
    "\n",
    "plt.xticks(rotation=0, horizontalalignment=\"center\")\n",
    "plt.title(\"Political Affiliation in Wyoming\")\n",
    "plt.xlabel(\"Political Affiliation\")\n",
    "plt.ylabel(\"Percentage of Votes for party candidate\")\n"
   ]
  },
  {
   "cell_type": "markdown",
   "id": "apart-neutral",
   "metadata": {},
   "source": [
    "We can see that republican votes are signficantly higher than republican GOP votes in Oregon."
   ]
  },
  {
   "cell_type": "markdown",
   "id": "israeli-cathedral",
   "metadata": {},
   "source": [
    "### Party Affiliation by County\n",
    "\n",
    "Next we go into each county in Oregon to see if different counties and their political alignments have a correlation with their SNAP usage.\n",
    "\n",
    "I make sure to import the libraries needed."
   ]
  },
  {
   "cell_type": "code",
   "execution_count": null,
   "id": "engaged-recruitment",
   "metadata": {},
   "outputs": [],
   "source": [
    "import geopandas as gpd\n",
    "import matplotlib.pyplot as plt\n",
    "from matplotlib.lines import Line2D\n",
    "print(gpd.datasets.available)"
   ]
  },
  {
   "cell_type": "markdown",
   "id": "figured-belarus",
   "metadata": {},
   "source": [
    "Then, I create a legend for my cloropleth map. "
   ]
  },
  {
   "cell_type": "code",
   "execution_count": null,
   "id": "prerequisite-freedom",
   "metadata": {},
   "outputs": [],
   "source": [
    "cat_dict = {\n",
    "    0: {\n",
    "        'color': 'republican',\n",
    "        'legend': r'$GOP$'\n",
    "    },\n",
    "    1: {\n",
    "        'color': 'democratic',\n",
    "        'legend': r'$DEM$'\n",
    "        \n",
    "    },\n",
    "}"
   ]
  },
  {
   "cell_type": "markdown",
   "id": "refined-ticket",
   "metadata": {},
   "source": [
    "I make sure that the color will match the affiliation of each county and create the map."
   ]
  },
  {
   "cell_type": "code",
   "execution_count": null,
   "id": "casual-parallel",
   "metadata": {},
   "outputs": [],
   "source": [
    "df_wyoming['Affiliation'] = None"
   ]
  },
  {
   "cell_type": "code",
   "execution_count": null,
   "id": "southwest-gates",
   "metadata": {},
   "outputs": [],
   "source": [
    "df_wyoming.loc[(df_wyoming['Democratic Percentage'] > df_wyoming['GOP Percentage']), 'Affiliation'] = cat_dict[1]['color']\n",
    "df_wyoming.loc[(df_wyoming['GOP Percentage'] > df_wyoming['Democratic Percentage']), 'Affiliation'] = cat_dict[0]['color']"
   ]
  },
  {
   "cell_type": "code",
   "execution_count": null,
   "id": "apart-motivation",
   "metadata": {},
   "outputs": [],
   "source": [
    "from urllib.request import urlopen\n",
    "import json\n",
    "with urlopen('https://raw.githubusercontent.com/plotly/datasets/master/geojson-counties-fips.json') as response:\n",
    "    counties = json.load(response)\n",
    "\n",
    "import pandas as pd\n",
    "df = df_wyoming\n",
    "\n",
    "import plotly.express as px\n",
    "\n",
    "fig = px.choropleth(df, geojson=counties, locations=\"FIPS\", color=\"Affiliation\",    \n",
    "                    color_discrete_map={\n",
    "                \"republican\": \"red\",\n",
    "                \"democratic\": \"blue\",},\n",
    "                           scope = \"usa\", hover_data=[\"County Name\",\"Democratic Percentage\", \"GOP Percentage\"], title = \"Political Affiliation of counties in Wyoming\"\n",
    "                          )\n",
    "fig.update_geos(fitbounds=\"locations\", visible=False)\n",
    "fig.update_layout( margin={\"r\":0,\"t\":50,\"l\":0,\"b\":0})\n",
    "fig.show()"
   ]
  },
  {
   "cell_type": "markdown",
   "id": "indoor-spokesman",
   "metadata": {},
   "source": [
    "### Comparison with SNAP Usage per County\n",
    "\n",
    "I import my SNAP data for each county."
   ]
  },
  {
   "cell_type": "code",
   "execution_count": null,
   "id": "federal-uruguay",
   "metadata": {},
   "outputs": [],
   "source": [
    "snap = gpd.read_file('Data/acs2019_5yr_B22003_05000US56021.geojson')"
   ]
  },
  {
   "cell_type": "code",
   "execution_count": null,
   "id": "bearing-verse",
   "metadata": {},
   "outputs": [],
   "source": [
    "snap.head()"
   ]
  },
  {
   "cell_type": "markdown",
   "id": "rural-bible",
   "metadata": {},
   "source": [
    "I clean up the data for that, removing columns I don't want and renaming my columns"
   ]
  },
  {
   "cell_type": "code",
   "execution_count": null,
   "id": "historical-gibson",
   "metadata": {},
   "outputs": [],
   "source": [
    "list(snap)"
   ]
  },
  {
   "cell_type": "code",
   "execution_count": null,
   "id": "bibliographic-packing",
   "metadata": {},
   "outputs": [],
   "source": [
    "columns_to_keep = ['geoid',\n",
    " 'name',\n",
    " 'B22003001',\n",
    " 'B22003002',\n",
    " 'B22003005',\n",
    " 'geometry']"
   ]
  },
  {
   "cell_type": "code",
   "execution_count": null,
   "id": "spoken-canadian",
   "metadata": {},
   "outputs": [],
   "source": [
    "snap = snap[columns_to_keep]"
   ]
  },
  {
   "cell_type": "code",
   "execution_count": null,
   "id": "everyday-detroit",
   "metadata": {},
   "outputs": [],
   "source": [
    "list(snap)"
   ]
  },
  {
   "cell_type": "code",
   "execution_count": null,
   "id": "pleased-robin",
   "metadata": {},
   "outputs": [],
   "source": [
    "snap.columns = ['GeoID',\n",
    " 'Name',\n",
    " 'Total Households',\n",
    " 'Household received Food Stamps/SNAP in the past 12 months',\n",
    " 'Household did not receive Food Stamps/SNAP in the past 12 months',\n",
    " 'geometry']"
   ]
  },
  {
   "cell_type": "code",
   "execution_count": null,
   "id": "terminal-contact",
   "metadata": {},
   "outputs": [],
   "source": [
    "snap.head()"
   ]
  },
  {
   "cell_type": "markdown",
   "id": "apart-military",
   "metadata": {},
   "source": [
    "I also edit my GeoID so that 0500US isn't there and only the FIPS of the county is. "
   ]
  },
  {
   "cell_type": "code",
   "execution_count": null,
   "id": "industrial-friday",
   "metadata": {},
   "outputs": [],
   "source": [
    "snap['GeoID'] = snap['GeoID'].str.replace('05000US','')\n",
    "snap.tail()"
   ]
  },
  {
   "cell_type": "markdown",
   "id": "useful-kingston",
   "metadata": {},
   "source": [
    "Then, I normalize my data by calculating the percent of househoulds that receive Food Stamps and SNAP since each county has a different amount of population."
   ]
  },
  {
   "cell_type": "code",
   "execution_count": null,
   "id": "incredible-generator",
   "metadata": {},
   "outputs": [],
   "source": [
    "snap['Percent of Households that received Food Stamps/SNAP in the past 12 months'] = (snap['Household received Food Stamps/SNAP in the past 12 months'] /snap['Total Households']*100)\n"
   ]
  },
  {
   "cell_type": "code",
   "execution_count": null,
   "id": "naughty-specific",
   "metadata": {},
   "outputs": [],
   "source": [
    "snap.head()"
   ]
  },
  {
   "cell_type": "code",
   "execution_count": null,
   "id": "curious-possibility",
   "metadata": {},
   "outputs": [],
   "source": [
    "\n",
    "gdf = snap\n",
    "\n",
    "\n",
    "\n",
    "fig = px.choropleth(gdf, geojson=counties, locations= \"GeoID\", \n",
    "                    color=\"Percent of Households that received Food Stamps/SNAP in the past 12 months\",\n",
    "                    color_continuous_scale=\"Greens\",\n",
    "                           scope = \"usa\", hover_data=[\"Name\",\"Percent of Households that received Food Stamps/SNAP in the past 12 months\"], \n",
    "                           title = \"Percentage of Households with SNAP in Wyoming by counties\"\n",
    "                    \n",
    "                          )\n",
    "\n",
    "fig.update_geos(fitbounds=\"locations\", visible=False)\n",
    "fig.update_layout( margin={\"r\":0,\"t\":50,\"l\":0,\"b\":0})\n",
    "fig.show()\n"
   ]
  },
  {
   "cell_type": "markdown",
   "id": "introductory-alexander",
   "metadata": {},
   "source": [
    "There seems to be no correlation among the political affiliation within counties and their SNAP usage. However, because each county has a different number of people and therefore different percentage that uses SNAP, this may have lead to inconclusive results, as certain counties are more populated."
   ]
  },
  {
   "cell_type": "code",
   "execution_count": null,
   "id": "rapid-statement",
   "metadata": {},
   "outputs": [],
   "source": []
  }
 ],
 "metadata": {
  "kernelspec": {
   "display_name": "Python 3",
   "language": "python",
   "name": "python3"
  },
  "language_info": {
   "codemirror_mode": {
    "name": "ipython",
    "version": 3
   },
   "file_extension": ".py",
   "mimetype": "text/x-python",
   "name": "python",
   "nbconvert_exporter": "python",
   "pygments_lexer": "ipython3",
   "version": "3.8.5"
  },
  "toc": {
   "base_numbering": 1,
   "nav_menu": {},
   "number_sections": true,
   "sideBar": true,
   "skip_h1_title": false,
   "title_cell": "Table of Contents",
   "title_sidebar": "Contents",
   "toc_cell": false,
   "toc_position": {},
   "toc_section_display": true,
   "toc_window_display": false
  }
 },
 "nbformat": 4,
 "nbformat_minor": 5
}
